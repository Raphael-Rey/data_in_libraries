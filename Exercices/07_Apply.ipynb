{
 "cells": [
  {
   "cell_type": "markdown",
   "id": "2b37b690",
   "metadata": {},
   "source": [
    "# Exercice 7\n",
    "## Modifier les données en masse avec apply\n",
    "### Consigne\n",
    "Le fichier `Data/titles_not_linked.csv` contient une liste de titres.\n",
    "\n",
    "Dans ce fichier, réaliser les tâches suivantes:\n",
    "* Créer une table en ne retenant que les entrées avec ISBN\n",
    "* Extraire le premier ISBN dans une nouvelle colonne\n",
    "* Vérifier la conformité de l'ISBN (juste la longuer 10 ou 13 et non l'algorithme précis)\n",
    "* Créer une table avec les ISBN douteux: `Resultat/isbn_douteux.xlsx`\n",
    "\n",
    "**Exercice avancé:** \n",
    "* Prendre l'ensemble des données et rassembler les colonnes ISBN et ISSN en une seule: \"Identifiant\"\n",
    "* Supprimer les colonnes \"ISBN\" et \"ISSN\"\n",
    "* Supprimer les lignes avec des valeurs nulles dans les identifiants"
   ]
  },
  {
   "cell_type": "code",
   "execution_count": null,
   "id": "530bdb9c",
   "metadata": {},
   "outputs": [],
   "source": [
    "# Importer les bibliothèques requises\n",
    "import pandas as pd\n",
    "import numpy as np\n",
    "import seaborn as sns\n",
    "import matplotlib.pyplot as plt"
   ]
  },
  {
   "cell_type": "code",
   "execution_count": null,
   "id": "379cd429",
   "metadata": {},
   "outputs": [],
   "source": [
    "# Chargement des données\n",
    "df = pd.read_csv('Data/titles_not_linked.csv')"
   ]
  },
  {
   "cell_type": "code",
   "execution_count": null,
   "id": "77cd5eb4",
   "metadata": {},
   "outputs": [],
   "source": [
    "df.head()"
   ]
  },
  {
   "cell_type": "markdown",
   "id": "a819eb2f",
   "metadata": {},
   "source": [
    "### Filtrer la table en ne retenant que les lignes avec ISBN"
   ]
  },
  {
   "cell_type": "code",
   "execution_count": null,
   "id": "725cc167",
   "metadata": {},
   "outputs": [],
   "source": []
  },
  {
   "cell_type": "markdown",
   "id": "519c5f97",
   "metadata": {},
   "source": [
    "### Récupérer le premier ISBN"
   ]
  },
  {
   "cell_type": "code",
   "execution_count": null,
   "id": "cfa55fa3",
   "metadata": {},
   "outputs": [],
   "source": []
  },
  {
   "cell_type": "markdown",
   "id": "e87bbb87",
   "metadata": {},
   "source": [
    "### Vérifier la longueur de l'ISBN"
   ]
  },
  {
   "cell_type": "code",
   "execution_count": null,
   "id": "832c17ba",
   "metadata": {},
   "outputs": [],
   "source": []
  },
  {
   "cell_type": "markdown",
   "id": "5c3c599e",
   "metadata": {},
   "source": [
    "## Exercice avancé"
   ]
  },
  {
   "cell_type": "code",
   "execution_count": null,
   "id": "2b10137f",
   "metadata": {},
   "outputs": [],
   "source": []
  }
 ],
 "metadata": {
  "kernelspec": {
   "display_name": "Python 3 (ipykernel)",
   "language": "python",
   "name": "python3"
  },
  "language_info": {
   "codemirror_mode": {
    "name": "ipython",
    "version": 3
   },
   "file_extension": ".py",
   "mimetype": "text/x-python",
   "name": "python",
   "nbconvert_exporter": "python",
   "pygments_lexer": "ipython3",
   "version": "3.9.7"
  }
 },
 "nbformat": 4,
 "nbformat_minor": 5
}
