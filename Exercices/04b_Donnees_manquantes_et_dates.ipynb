{
 "cells": [
  {
   "cell_type": "markdown",
   "id": "4647f2a9",
   "metadata": {},
   "source": [
    "## Exercice 4b\n",
    "## Gérer les données manquantes et filtrer par date\n",
    "Les données manbquantes sont un problème épineux en analyse de données. Pandas offre plusieurs outils pour les gérer. \n",
    "\n",
    "### Consigne\n",
    "Le fichier `Data/title_brief.csv` contient les titres de l'IZ HPH (Sandbox Alma SLSP).\n",
    "\n",
    "* Déterminer le nombre de notices créées par les HEP BEJUNE en 2021"
   ]
  },
  {
   "cell_type": "code",
   "execution_count": 2,
   "id": "095cca5e",
   "metadata": {},
   "outputs": [],
   "source": [
    "# Importer les bibliothèques requises\n",
    "import pandas as pd\n",
    "import numpy as np\n",
    "import seaborn as sns\n",
    "import matplotlib.pyplot as plt"
   ]
  },
  {
   "cell_type": "code",
   "execution_count": 6,
   "id": "4d60a4de",
   "metadata": {},
   "outputs": [],
   "source": [
    "# Chargement des données\n",
    "df = pd.read_csv('Data/titles_brief.csv')"
   ]
  },
  {
   "cell_type": "code",
   "execution_count": 4,
   "id": "ca0c8d21",
   "metadata": {},
   "outputs": [
    {
     "data": {
      "text/plain": [
       "Index(['MMS Id', 'Original Cataloging Agency', 'Creation Date (Calendar)',\n",
       "       'Title'],\n",
       "      dtype='object')"
      ]
     },
     "execution_count": 4,
     "metadata": {},
     "output_type": "execute_result"
    }
   ],
   "source": [
    "df.columns"
   ]
  },
  {
   "cell_type": "markdown",
   "id": "8209939a",
   "metadata": {},
   "source": [
    "### Filtrer en fonction de l'année"
   ]
  },
  {
   "cell_type": "code",
   "execution_count": 5,
   "id": "76c34b0e",
   "metadata": {},
   "outputs": [
    {
     "data": {
      "text/plain": [
       "0          2020-11-19\n",
       "1          2020-11-19\n",
       "2          2020-11-19\n",
       "3          2020-11-19\n",
       "4          2020-11-19\n",
       "              ...    \n",
       "2078152    2022-02-23\n",
       "2078153    2022-02-22\n",
       "2078154    2022-02-22\n",
       "2078155    2022-02-22\n",
       "2078156    2022-02-24\n",
       "Name: Creation Date (Calendar), Length: 2078157, dtype: object"
      ]
     },
     "execution_count": 5,
     "metadata": {},
     "output_type": "execute_result"
    }
   ],
   "source": [
    "df['Creation Date (Calendar)']\n",
    "\n",
    "# => Actuellement sous forme de chaîne de caractère"
   ]
  },
  {
   "cell_type": "code",
   "execution_count": null,
   "id": "b5a33803",
   "metadata": {},
   "outputs": [],
   "source": []
  },
  {
   "cell_type": "markdown",
   "id": "450e73ef",
   "metadata": {},
   "source": [
    "### Filtrer par \"agence de catalogage\""
   ]
  },
  {
   "cell_type": "code",
   "execution_count": null,
   "id": "e766c1a5",
   "metadata": {},
   "outputs": [],
   "source": []
  }
 ],
 "metadata": {
  "kernelspec": {
   "display_name": "Python 3 (ipykernel)",
   "language": "python",
   "name": "python3"
  },
  "language_info": {
   "codemirror_mode": {
    "name": "ipython",
    "version": 3
   },
   "file_extension": ".py",
   "mimetype": "text/x-python",
   "name": "python",
   "nbconvert_exporter": "python",
   "pygments_lexer": "ipython3",
   "version": "3.9.7"
  }
 },
 "nbformat": 4,
 "nbformat_minor": 5
}
