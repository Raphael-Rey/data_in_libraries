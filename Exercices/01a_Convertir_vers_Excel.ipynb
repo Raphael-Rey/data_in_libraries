{
 "cells": [
  {
   "cell_type": "markdown",
   "id": "4647f2a9",
   "metadata": {},
   "source": [
    "# Exercice 1a\n",
    "## Convertir un fichier csv en fichier Excel\n",
    "Le CSV présente l'avantage d'être un format simple et rapide à manipuler pour une machine. Par contre, il n'est pas très lisible pour un être humain. Pour plus de lisibilité, il peut être utilie de convertir en fichier Excel.\n",
    "\n",
    "### Consigne\n",
    "Convertir le fichier `Data/items.csv` en fichier Excel: `Resultat/items.xlsx`.\n",
    "\n",
    "Il s'agit d'importer le fichier puis de l'exporter. Pour éviter tout problème au niveau du format de données, travailler intégralement en chaînes de caractères peut être judicieux."
   ]
  },
  {
   "cell_type": "code",
   "execution_count": null,
   "id": "4d60a4de",
   "metadata": {},
   "outputs": [],
   "source": []
  }
 ],
 "metadata": {
  "kernelspec": {
   "display_name": "Python 3 (ipykernel)",
   "language": "python",
   "name": "python3"
  },
  "language_info": {
   "codemirror_mode": {
    "name": "ipython",
    "version": 3
   },
   "file_extension": ".py",
   "mimetype": "text/x-python",
   "name": "python",
   "nbconvert_exporter": "python",
   "pygments_lexer": "ipython3",
   "version": "3.9.7"
  }
 },
 "nbformat": 4,
 "nbformat_minor": 5
}
