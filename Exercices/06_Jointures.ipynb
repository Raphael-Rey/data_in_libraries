{
 "cells": [
  {
   "cell_type": "markdown",
   "id": "4647f2a9",
   "metadata": {},
   "source": [
    "# Exercice 6\n",
    "## Effectuer des jointures\n",
    "### Consigne\n",
    "Le fichier `Data/items_with_isbn.xlsx` contient une liste d'exemplaires. Le fichier `Data/price_catalog.xlsx` contient une liste de prix avec isbns.\n",
    "\n",
    "Le fichier est une liste de prix d'un fournisseur. Le but est de joindre les deux listes sur la base des ISBN de manière à pouvoir associer un prix avec le plus de documents possibles.\n",
    "\n",
    "* Joindre les deux listes sur la base de l'ISBN\n",
    "* Enregistrer le fichier: `Resultat/items_with_price.xlsx`\n",
    "\n",
    "**Exrecice avancé:** \n",
    "* Pour combien d'exemplaires, un prix n'a-t-il pas pu être trouvé dans le liste.\n",
    "* Créer un diagramme en secteurs\n"
   ]
  },
  {
   "cell_type": "code",
   "execution_count": 12,
   "id": "095cca5e",
   "metadata": {},
   "outputs": [],
   "source": [
    "# Importer les bibliothèques requises\n",
    "import pandas as pd\n",
    "import numpy as np\n",
    "import seaborn as sns\n",
    "import matplotlib.pyplot as plt"
   ]
  },
  {
   "cell_type": "code",
   "execution_count": 13,
   "id": "4d60a4de",
   "metadata": {},
   "outputs": [],
   "source": [
    "# Chargement des données\n",
    "df = pd.read_excel('Data/items_with_isbn.xlsx')\n",
    "dg = pd.read_excel('Data/price_catalog.xlsx')"
   ]
  },
  {
   "cell_type": "code",
   "execution_count": 14,
   "id": "eb0f51a3",
   "metadata": {},
   "outputs": [
    {
     "data": {
      "text/html": [
       "<div>\n",
       "<style scoped>\n",
       "    .dataframe tbody tr th:only-of-type {\n",
       "        vertical-align: middle;\n",
       "    }\n",
       "\n",
       "    .dataframe tbody tr th {\n",
       "        vertical-align: top;\n",
       "    }\n",
       "\n",
       "    .dataframe thead th {\n",
       "        text-align: right;\n",
       "    }\n",
       "</style>\n",
       "<table border=\"1\" class=\"dataframe\">\n",
       "  <thead>\n",
       "    <tr style=\"text-align: right;\">\n",
       "      <th></th>\n",
       "      <th>Barcode</th>\n",
       "      <th>Title</th>\n",
       "      <th>ISBN</th>\n",
       "      <th>Publisher</th>\n",
       "      <th>Publication Date</th>\n",
       "    </tr>\n",
       "  </thead>\n",
       "  <tbody>\n",
       "    <tr>\n",
       "      <th>0</th>\n",
       "      <td>HR01008126</td>\n",
       "      <td>Schreiben lernen mit dem kleinen Raben Socke m...</td>\n",
       "      <td>9783403070399</td>\n",
       "      <td>Auer</td>\n",
       "      <td>2012</td>\n",
       "    </tr>\n",
       "    <tr>\n",
       "      <th>1</th>\n",
       "      <td>HR50059374</td>\n",
       "      <td>Grimms Märchen lesen, spielen, bearbeiten : Do...</td>\n",
       "      <td>9783960401728</td>\n",
       "      <td>Kohl-Verlag</td>\n",
       "      <td>2017</td>\n",
       "    </tr>\n",
       "    <tr>\n",
       "      <th>2</th>\n",
       "      <td>HR50007542</td>\n",
       "      <td>SchwimmWelt schwimmen lernen - Schwimmtechnik ...</td>\n",
       "      <td>3292003377</td>\n",
       "      <td>Schulverlag</td>\n",
       "      <td>2004</td>\n",
       "    </tr>\n",
       "    <tr>\n",
       "      <th>3</th>\n",
       "      <td>HR02010158</td>\n",
       "      <td>Projektmappe \"Regenwald\"</td>\n",
       "      <td>3867409994</td>\n",
       "      <td>BVK Buch Verlag Kempen</td>\n",
       "      <td>2020</td>\n",
       "    </tr>\n",
       "    <tr>\n",
       "      <th>4</th>\n",
       "      <td>HR50076296</td>\n",
       "      <td>25 x Kunst für 90 Minuten : neue Kurze Projekt...</td>\n",
       "      <td>3834642754</td>\n",
       "      <td>Verlag an der Ruhr</td>\n",
       "      <td>[2020]</td>\n",
       "    </tr>\n",
       "  </tbody>\n",
       "</table>\n",
       "</div>"
      ],
      "text/plain": [
       "      Barcode                                              Title  \\\n",
       "0  HR01008126  Schreiben lernen mit dem kleinen Raben Socke m...   \n",
       "1  HR50059374  Grimms Märchen lesen, spielen, bearbeiten : Do...   \n",
       "2  HR50007542  SchwimmWelt schwimmen lernen - Schwimmtechnik ...   \n",
       "3  HR02010158                           Projektmappe \"Regenwald\"   \n",
       "4  HR50076296  25 x Kunst für 90 Minuten : neue Kurze Projekt...   \n",
       "\n",
       "            ISBN               Publisher Publication Date  \n",
       "0  9783403070399                    Auer             2012  \n",
       "1  9783960401728             Kohl-Verlag             2017  \n",
       "2     3292003377             Schulverlag             2004  \n",
       "3     3867409994  BVK Buch Verlag Kempen             2020  \n",
       "4     3834642754      Verlag an der Ruhr           [2020]  "
      ]
     },
     "execution_count": 14,
     "metadata": {},
     "output_type": "execute_result"
    }
   ],
   "source": [
    "df.head()"
   ]
  },
  {
   "cell_type": "code",
   "execution_count": 15,
   "id": "aafc4e18",
   "metadata": {},
   "outputs": [
    {
     "data": {
      "text/html": [
       "<div>\n",
       "<style scoped>\n",
       "    .dataframe tbody tr th:only-of-type {\n",
       "        vertical-align: middle;\n",
       "    }\n",
       "\n",
       "    .dataframe tbody tr th {\n",
       "        vertical-align: top;\n",
       "    }\n",
       "\n",
       "    .dataframe thead th {\n",
       "        text-align: right;\n",
       "    }\n",
       "</style>\n",
       "<table border=\"1\" class=\"dataframe\">\n",
       "  <thead>\n",
       "    <tr style=\"text-align: right;\">\n",
       "      <th></th>\n",
       "      <th>ISBN</th>\n",
       "      <th>List Price</th>\n",
       "    </tr>\n",
       "  </thead>\n",
       "  <tbody>\n",
       "    <tr>\n",
       "      <th>0</th>\n",
       "      <td>9783037001479</td>\n",
       "      <td>40.0</td>\n",
       "    </tr>\n",
       "    <tr>\n",
       "      <th>1</th>\n",
       "      <td>383401348X</td>\n",
       "      <td>30.0</td>\n",
       "    </tr>\n",
       "    <tr>\n",
       "      <th>2</th>\n",
       "      <td>3834438448</td>\n",
       "      <td>39.0</td>\n",
       "    </tr>\n",
       "    <tr>\n",
       "      <th>3</th>\n",
       "      <td>9783456955742</td>\n",
       "      <td>29.0</td>\n",
       "    </tr>\n",
       "    <tr>\n",
       "      <th>4</th>\n",
       "      <td>3037000228</td>\n",
       "      <td>22.0</td>\n",
       "    </tr>\n",
       "  </tbody>\n",
       "</table>\n",
       "</div>"
      ],
      "text/plain": [
       "            ISBN  List Price\n",
       "0  9783037001479        40.0\n",
       "1     383401348X        30.0\n",
       "2     3834438448        39.0\n",
       "3  9783456955742        29.0\n",
       "4     3037000228        22.0"
      ]
     },
     "execution_count": 15,
     "metadata": {},
     "output_type": "execute_result"
    }
   ],
   "source": [
    "dg.head()"
   ]
  },
  {
   "cell_type": "markdown",
   "id": "a617053b",
   "metadata": {},
   "source": [
    "### Joindre deux lists"
   ]
  },
  {
   "cell_type": "code",
   "execution_count": 16,
   "id": "956bb8d8",
   "metadata": {},
   "outputs": [
    {
     "data": {
      "text/html": [
       "<div>\n",
       "<style scoped>\n",
       "    .dataframe tbody tr th:only-of-type {\n",
       "        vertical-align: middle;\n",
       "    }\n",
       "\n",
       "    .dataframe tbody tr th {\n",
       "        vertical-align: top;\n",
       "    }\n",
       "\n",
       "    .dataframe thead th {\n",
       "        text-align: right;\n",
       "    }\n",
       "</style>\n",
       "<table border=\"1\" class=\"dataframe\">\n",
       "  <thead>\n",
       "    <tr style=\"text-align: right;\">\n",
       "      <th></th>\n",
       "      <th>Barcode</th>\n",
       "      <th>Title</th>\n",
       "      <th>ISBN</th>\n",
       "      <th>Publisher</th>\n",
       "      <th>Publication Date</th>\n",
       "      <th>List Price</th>\n",
       "    </tr>\n",
       "  </thead>\n",
       "  <tbody>\n",
       "    <tr>\n",
       "      <th>0</th>\n",
       "      <td>HR01008126</td>\n",
       "      <td>Schreiben lernen mit dem kleinen Raben Socke m...</td>\n",
       "      <td>9783403070399</td>\n",
       "      <td>Auer</td>\n",
       "      <td>2012</td>\n",
       "      <td>30.0</td>\n",
       "    </tr>\n",
       "    <tr>\n",
       "      <th>1</th>\n",
       "      <td>HR01008126</td>\n",
       "      <td>Schreiben lernen mit dem kleinen Raben Socke m...</td>\n",
       "      <td>9783403070399</td>\n",
       "      <td>Auer</td>\n",
       "      <td>2012</td>\n",
       "      <td>30.0</td>\n",
       "    </tr>\n",
       "    <tr>\n",
       "      <th>2</th>\n",
       "      <td>HR50059374</td>\n",
       "      <td>Grimms Märchen lesen, spielen, bearbeiten : Do...</td>\n",
       "      <td>9783960401728</td>\n",
       "      <td>Kohl-Verlag</td>\n",
       "      <td>2017</td>\n",
       "      <td>25.0</td>\n",
       "    </tr>\n",
       "    <tr>\n",
       "      <th>3</th>\n",
       "      <td>HR50007542</td>\n",
       "      <td>SchwimmWelt schwimmen lernen - Schwimmtechnik ...</td>\n",
       "      <td>3292003377</td>\n",
       "      <td>Schulverlag</td>\n",
       "      <td>2004</td>\n",
       "      <td>58.0</td>\n",
       "    </tr>\n",
       "    <tr>\n",
       "      <th>4</th>\n",
       "      <td>HR02010158</td>\n",
       "      <td>Projektmappe \"Regenwald\"</td>\n",
       "      <td>3867409994</td>\n",
       "      <td>BVK Buch Verlag Kempen</td>\n",
       "      <td>2020</td>\n",
       "      <td>27.0</td>\n",
       "    </tr>\n",
       "  </tbody>\n",
       "</table>\n",
       "</div>"
      ],
      "text/plain": [
       "      Barcode                                              Title  \\\n",
       "0  HR01008126  Schreiben lernen mit dem kleinen Raben Socke m...   \n",
       "1  HR01008126  Schreiben lernen mit dem kleinen Raben Socke m...   \n",
       "2  HR50059374  Grimms Märchen lesen, spielen, bearbeiten : Do...   \n",
       "3  HR50007542  SchwimmWelt schwimmen lernen - Schwimmtechnik ...   \n",
       "4  HR02010158                           Projektmappe \"Regenwald\"   \n",
       "\n",
       "            ISBN               Publisher Publication Date  List Price  \n",
       "0  9783403070399                    Auer             2012        30.0  \n",
       "1  9783403070399                    Auer             2012        30.0  \n",
       "2  9783960401728             Kohl-Verlag             2017        25.0  \n",
       "3     3292003377             Schulverlag             2004        58.0  \n",
       "4     3867409994  BVK Buch Verlag Kempen             2020        27.0  "
      ]
     },
     "execution_count": 16,
     "metadata": {},
     "output_type": "execute_result"
    }
   ],
   "source": [
    "# Joindre les deux listes"
   ]
  },
  {
   "cell_type": "code",
   "execution_count": 17,
   "id": "99c13ac1",
   "metadata": {},
   "outputs": [],
   "source": [
    "# Enregistrer la nouvelle liste"
   ]
  },
  {
   "cell_type": "markdown",
   "id": "2f81426e",
   "metadata": {},
   "source": [
    "### Exercice avancé:\n",
    "* nombre d'exemplaires absents de la liste du fournisseur\n",
    "* Diagramme en secteurs"
   ]
  },
  {
   "cell_type": "code",
   "execution_count": 18,
   "id": "fe817145",
   "metadata": {},
   "outputs": [
    {
     "data": {
      "text/plain": [
       "2695"
      ]
     },
     "execution_count": 18,
     "metadata": {},
     "output_type": "execute_result"
    }
   ],
   "source": []
  }
 ],
 "metadata": {
  "kernelspec": {
   "display_name": "Python 3 (ipykernel)",
   "language": "python",
   "name": "python3"
  },
  "language_info": {
   "codemirror_mode": {
    "name": "ipython",
    "version": 3
   },
   "file_extension": ".py",
   "mimetype": "text/x-python",
   "name": "python",
   "nbconvert_exporter": "python",
   "pygments_lexer": "ipython3",
   "version": "3.9.7"
  }
 },
 "nbformat": 4,
 "nbformat_minor": 5
}
