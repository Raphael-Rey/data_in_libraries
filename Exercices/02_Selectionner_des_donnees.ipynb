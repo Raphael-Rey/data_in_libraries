{
 "cells": [
  {
   "cell_type": "markdown",
   "id": "4647f2a9",
   "metadata": {},
   "source": [
    "## Exercice 2\n",
    "## Sélectionner des données\n",
    "Une opération très courante est de sélectionner un ensemble particulier de données sur la base de critères.\n",
    "\n",
    "### Consigne\n",
    "Le fichier `Data/items_reduced.csv` contient les exemplaires de la Médiathèque de Bienne (Sandbox Alma SLSP).\n",
    "\n",
    "Créer un fichier `Resultat/items_loanable.csv` qui ne contient que les exemplaires empruntables.\n",
    "\n",
    "**Exercie plus avancé:** \n",
    "* Trouver les titres à la fois en localisation 'BE HEP Littérature jeunesse' et en localisation 'BE HEP Séries de livres'\n",
    "* Trouver les titres qui sont présent dans 'BE HEP Séries de livres' mais pas dans 'BE HEP Littérature jeunesse'\n",
    "* Choisir 20 exemplaires au hasard"
   ]
  },
  {
   "cell_type": "code",
   "execution_count": 30,
   "id": "095cca5e",
   "metadata": {},
   "outputs": [],
   "source": [
    "# Importer les bibliothèques requises\n",
    "import pandas as pd\n",
    "import numpy as np\n",
    "import seaborn as sns\n",
    "import matplotlib.pyplot as plt"
   ]
  },
  {
   "cell_type": "code",
   "execution_count": null,
   "id": "e766c1a5",
   "metadata": {},
   "outputs": [],
   "source": []
  }
 ],
 "metadata": {
  "kernelspec": {
   "display_name": "Python 3 (ipykernel)",
   "language": "python",
   "name": "python3"
  },
  "language_info": {
   "codemirror_mode": {
    "name": "ipython",
    "version": 3
   },
   "file_extension": ".py",
   "mimetype": "text/x-python",
   "name": "python",
   "nbconvert_exporter": "python",
   "pygments_lexer": "ipython3",
   "version": "3.9.7"
  }
 },
 "nbformat": 4,
 "nbformat_minor": 5
}
