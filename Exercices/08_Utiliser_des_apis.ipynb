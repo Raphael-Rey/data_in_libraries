{
 "cells": [
  {
   "cell_type": "markdown",
   "id": "2b37b690",
   "metadata": {},
   "source": [
    "# Exercice 8\n",
    "## Utiliser des APIs\n",
    "### Consigne\n",
    "* Récupérer l'item policy d'un exemplaire \n",
    "* Modifier l'item policy de l'exemplaire vers 21 (2 semaines)\n",
    "\n",
    "**Exercice avancé:** \n",
    "* Récupérer le user group pour un ensemble d'utilisateurs"
   ]
  },
  {
   "cell_type": "code",
   "execution_count": 39,
   "id": "0bd90368",
   "metadata": {},
   "outputs": [],
   "source": [
    "# Importer les bibliothèques requises\n",
    "import pandas as pd\n",
    "import numpy as np\n",
    "import seaborn as sns\n",
    "import matplotlib.pyplot as plt\n",
    "import requests\n",
    "import json\n",
    "\n",
    "PATH_TO_SECRETS = '../Secrets/'"
   ]
  },
  {
   "cell_type": "code",
   "execution_count": 40,
   "id": "379cd429",
   "metadata": {},
   "outputs": [],
   "source": [
    "# Chargement des données\n",
    "df = pd.read_csv('Data/barcode_hph_sb.csv')"
   ]
  },
  {
   "cell_type": "code",
   "execution_count": 41,
   "id": "77cd5eb4",
   "metadata": {},
   "outputs": [
    {
     "data": {
      "text/html": [
       "<div>\n",
       "<style scoped>\n",
       "    .dataframe tbody tr th:only-of-type {\n",
       "        vertical-align: middle;\n",
       "    }\n",
       "\n",
       "    .dataframe tbody tr th {\n",
       "        vertical-align: top;\n",
       "    }\n",
       "\n",
       "    .dataframe thead th {\n",
       "        text-align: right;\n",
       "    }\n",
       "</style>\n",
       "<table border=\"1\" class=\"dataframe\">\n",
       "  <thead>\n",
       "    <tr style=\"text-align: right;\">\n",
       "      <th></th>\n",
       "      <th>Barcode</th>\n",
       "    </tr>\n",
       "  </thead>\n",
       "  <tbody>\n",
       "    <tr>\n",
       "      <th>0</th>\n",
       "      <td>HR40042121</td>\n",
       "    </tr>\n",
       "    <tr>\n",
       "      <th>1</th>\n",
       "      <td>02085863</td>\n",
       "    </tr>\n",
       "    <tr>\n",
       "      <th>2</th>\n",
       "      <td>03130885</td>\n",
       "    </tr>\n",
       "    <tr>\n",
       "      <th>3</th>\n",
       "      <td>02076508</td>\n",
       "    </tr>\n",
       "    <tr>\n",
       "      <th>4</th>\n",
       "      <td>1034139759</td>\n",
       "    </tr>\n",
       "  </tbody>\n",
       "</table>\n",
       "</div>"
      ],
      "text/plain": [
       "      Barcode\n",
       "0  HR40042121\n",
       "1    02085863\n",
       "2    03130885\n",
       "3    02076508\n",
       "4  1034139759"
      ]
     },
     "execution_count": 41,
     "metadata": {},
     "output_type": "execute_result"
    }
   ],
   "source": [
    "df.head()"
   ]
  },
  {
   "cell_type": "markdown",
   "id": "a819eb2f",
   "metadata": {},
   "source": [
    "### Récupérer l'item policy\n",
    "Documentation Alma:\n",
    "* Récupérer les données d'un exemplaire: https://developers.exlibrisgroup.com/alma/apis/docs/bibs/R0VUIC9hbG1hd3MvdjEvYmlicy97bW1zX2lkfS9ob2xkaW5ncy97aG9sZGluZ19pZH0vaXRlbXMve2l0ZW1fcGlkfQ==/\n",
    "* Modifier un exemplaire: https://developers.exlibrisgroup.com/alma/apis/docs/bibs/UFVUIC9hbG1hd3MvdjEvYmlicy97bW1zX2lkfS9ob2xkaW5ncy97aG9sZGluZ19pZH0vaXRlbXMve2l0ZW1fcGlkfQ==/\n",
    "* Récupérer les données d'une holding: https://developers.exlibrisgroup.com/alma/apis/docs/bibs/R0VUIC9hbG1hd3MvdjEvYmlicy97bW1zX2lkfS9ob2xkaW5ncy97aG9sZGluZ19pZH0=/\n",
    "* Modifier une holding: https://developers.exlibrisgroup.com/alma/apis/docs/bibs/UFVUIC9hbG1hd3MvdjEvYmlicy97bW1zX2lkfS9ob2xkaW5ncy97aG9sZGluZ19pZH0=/"
   ]
  },
  {
   "cell_type": "code",
   "execution_count": 48,
   "id": "725cc167",
   "metadata": {},
   "outputs": [],
   "source": [
    "# Clé Sandbox en lecture et écriture pour les ressources bibliographiques\n",
    "with open(PATH_TO_SECRETS + 'API_KEY_ITEMS_SB') as f:\n",
    "    # Il faut utiliser \"strip\" pour supprimer le saut de ligne à la fin\n",
    "    API_KEY_BIB_SB = f.read().strip()\n",
    "\n",
    "# URL de base de l'api des utilisateurs dans Alma\n",
    "API_ITEM_URL = 'https://api-eu.hosted.exlibrisgroup.com/almaws/v1/items'\n",
    "# En-têtes de la futur requête\n",
    "# Définit notamment le format de la réponse\n",
    "HEADERS = {'content-type': 'application/json',\n",
    "           'accept': 'application/json',\n",
    "           'Authorization': 'apikey ' + API_KEY_BIB_SB}"
   ]
  },
  {
   "cell_type": "markdown",
   "id": "193d4ab8",
   "metadata": {},
   "source": [
    "### Modifier l'item policy\n",
    "Note: le plus simple est de remplacer le dictionnaire de l'item policy par un nouveau qui ne comporte que\n",
    "\"value\". Le champ \"desc\" est facultatif pour effectuer une modification."
   ]
  },
  {
   "cell_type": "code",
   "execution_count": 50,
   "id": "cfa822db",
   "metadata": {},
   "outputs": [],
   "source": []
  },
  {
   "cell_type": "markdown",
   "id": "5c3c599e",
   "metadata": {},
   "source": [
    "## Exercice avancé\n",
    "Le but de cet exercice est d'interroger l'API swisscovery pour récupérer tous les user groups\n",
    "des participants du cours.\n",
    "\n",
    "Quand il ne sont pas inscris, afficher \"NO ACCOUNT\".\n",
    "\n",
    "La liste des participants se trouve dans les \"Secrets\".\n",
    "\n",
    "La documentation de l'API se trouve ici: https://developers.exlibrisgroup.com/alma/apis/users/\n",
    "\n",
    "Pour réussir cette opération, il faut effectuer deux requêtes:\n",
    "1. Rechercher l'utilisateur par email: https://developers.exlibrisgroup.com/alma/apis/docs/users/R0VUIC9hbG1hd3MvdjEvdXNlcnM=/\n",
    "2. Recupérer le primary_id et rechercher les détails de l'utilisateur: https://developers.exlibrisgroup.com/alma/apis/docs/users/R0VUIC9hbG1hd3MvdjEvdXNlcnMve3VzZXJfaWR9/\n",
    "3. Récupérer le user_group"
   ]
  },
  {
   "cell_type": "markdown",
   "id": "9f8381b2",
   "metadata": {},
   "source": [
    "### Solution simple avec \"apply\"\n",
    "Créer une fonction qui récupère le user_group à partir de l'email\n",
    "puis créer une nouvelle colonne en utilisant \"apply\"."
   ]
  },
  {
   "cell_type": "code",
   "execution_count": 6,
   "id": "f1986b19",
   "metadata": {},
   "outputs": [],
   "source": [
    "# Créer un DataFrame en récupérant les la liste des participants dans les secrets\n",
    "df = pd.read_csv(PATH_TO_SECRETS + 'participants.csv')"
   ]
  },
  {
   "cell_type": "code",
   "execution_count": 7,
   "id": "2b10137f",
   "metadata": {},
   "outputs": [],
   "source": [
    "# Clé NZ en lecture pour les utilisateurs\n",
    "with open(PATH_TO_SECRETS + 'API_KEY_USERS_NZ') as f:\n",
    "    API_KEY_USERS_NZ = f.read().strip()\n",
    "\n",
    "# URL de base de l'api des utilisateurs dans Alma\n",
    "API_BASE_URL = 'https://api-eu.hosted.exlibrisgroup.com/almaws/v1/users/'\n",
    "\n",
    "# En-têtes de la futur requête\n",
    "# Définit notamment le format de la réponse\n",
    "HEADERS = {'content-type': 'application/json',\n",
    "           'accept': 'application/json',\n",
    "           'Authorization': 'apikey ' + API_KEY_USERS_NZ}"
   ]
  },
  {
   "cell_type": "code",
   "execution_count": null,
   "id": "a4a03efc",
   "metadata": {},
   "outputs": [],
   "source": []
  }
 ],
 "metadata": {
  "kernelspec": {
   "display_name": "Python 3 (ipykernel)",
   "language": "python",
   "name": "python3"
  },
  "language_info": {
   "codemirror_mode": {
    "name": "ipython",
    "version": 3
   },
   "file_extension": ".py",
   "mimetype": "text/x-python",
   "name": "python",
   "nbconvert_exporter": "python",
   "pygments_lexer": "ipython3",
   "version": "3.9.7"
  }
 },
 "nbformat": 4,
 "nbformat_minor": 5
}
