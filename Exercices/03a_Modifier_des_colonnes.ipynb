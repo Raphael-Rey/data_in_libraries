{
 "cells": [
  {
   "cell_type": "markdown",
   "id": "4647f2a9",
   "metadata": {},
   "source": [
    "## Exercice 3a\n",
    "## Modifier des colonnes\n",
    "Traduire, modifier l'ordre des colonnes, en supprimer sont des opérations courantes dans Pandas et pas toujours très instinctives.\n",
    "\n",
    "### Consigne\n",
    "Le fichier `Data/items_reduced.csv` contient les exemplaires de la Médiathèque de Bienne (Sandbox Alma SLSP).\n",
    "\n",
    "Créer un fichier `Resultat/items_loanable.csv` avec le titre et la cote. Les étiquettes des colonnes doivent être traduites\n",
    "\n",
    "**Exercie plus avancé:** \n",
    "* Ajouter la description des exemplaires depuis `Data/items.csv`\n",
    "* Combien d'exemplaires comportent une description?"
   ]
  },
  {
   "cell_type": "code",
   "execution_count": 2,
   "id": "095cca5e",
   "metadata": {},
   "outputs": [],
   "source": [
    "# Importer les bibliothèques requises\n",
    "import pandas as pd\n",
    "import numpy as np\n",
    "import seaborn as sns\n",
    "import matplotlib.pyplot as plt"
   ]
  },
  {
   "cell_type": "code",
   "execution_count": 3,
   "id": "4d60a4de",
   "metadata": {},
   "outputs": [],
   "source": [
    "# Chargement des données\n",
    "df = pd.read_csv('Data/items_reduced.csv')"
   ]
  }
 ],
 "metadata": {
  "kernelspec": {
   "display_name": "Python 3 (ipykernel)",
   "language": "python",
   "name": "python3"
  },
  "language_info": {
   "codemirror_mode": {
    "name": "ipython",
    "version": 3
   },
   "file_extension": ".py",
   "mimetype": "text/x-python",
   "name": "python",
   "nbconvert_exporter": "python",
   "pygments_lexer": "ipython3",
   "version": "3.9.7"
  }
 },
 "nbformat": 4,
 "nbformat_minor": 5
}
