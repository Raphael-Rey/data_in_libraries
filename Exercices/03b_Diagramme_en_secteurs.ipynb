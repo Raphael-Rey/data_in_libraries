{
 "cells": [
  {
   "cell_type": "markdown",
   "id": "4647f2a9",
   "metadata": {},
   "source": [
    "## Exercice 3b\n",
    "## Diagramme en secteurs\n",
    "Ce type de diagramme est en réalité plus simple à réaliser dans Excel.\n",
    "\n",
    "### Consigne\n",
    "Le fichier `Data/items_reduced.csv` contient les exemplaires de la Médiathèque de Bienne (Sandbox Alma SLSP).\n",
    "\n",
    "Créer un diagramme en secteurs en fonction de l'emplacement, mais en supprimant l'emplacement 'BE JU NE HEP Articles'\n",
    "\n",
    "**Exercices avancés:**\n",
    "* Ajouter une légende, plutôt que des étiquettes\n",
    "* Ajuster la légende avec \"bbox_to_anchor=(1.1, 1)\"\n",
    "* Supprimer les étiquettes du diagramme et les reporter dans la légende\n",
    "* Reporter les pourcentages dans la légende\n"
   ]
  },
  {
   "cell_type": "code",
   "execution_count": 52,
   "id": "095cca5e",
   "metadata": {},
   "outputs": [],
   "source": [
    "# Importer les bibliothèques requises\n",
    "import pandas as pd\n",
    "import numpy as np\n",
    "import seaborn as sns\n",
    "import matplotlib.pyplot as plt"
   ]
  },
  {
   "cell_type": "code",
   "execution_count": 53,
   "id": "4d60a4de",
   "metadata": {},
   "outputs": [],
   "source": [
    "# Chargement des données\n",
    "df = pd.read_csv('Data/items_reduced.csv')"
   ]
  },
  {
   "cell_type": "code",
   "execution_count": 54,
   "id": "ca0c8d21",
   "metadata": {},
   "outputs": [
    {
     "data": {
      "text/plain": [
       "Index(['Barcode', 'MMS ID', 'Holdings ID', 'Permanent Location', 'Call Number',\n",
       "       'Material Type', 'Item Policy', 'Title'],\n",
       "      dtype='object')"
      ]
     },
     "execution_count": 54,
     "metadata": {},
     "output_type": "execute_result"
    }
   ],
   "source": [
    "df.columns"
   ]
  },
  {
   "cell_type": "code",
   "execution_count": 55,
   "id": "816c94fb",
   "metadata": {},
   "outputs": [
    {
     "data": {
      "text/plain": [
       "BE HEP Fonds documentaire              16355\n",
       "BE JU NE HEP Articles                   6308\n",
       "BE HEP Périodiques                      3979\n",
       "BE HEP Littérature jeunesse             2062\n",
       "BE HEP Albums                           1499\n",
       "BE HEP Jeux                             1109\n",
       "BE HEP Séries de livres                 1057\n",
       "BE HEP Bureau                            793\n",
       "BE HEP Immersion langues étrangères      750\n",
       "BE HEP Appareils                         548\n",
       "NE HEP DVD                                91\n",
       "BE HEP Acquisitions                       59\n",
       "BE HEP Mallettes d'expérimentation        36\n",
       "BE HEP Archives                           27\n",
       "BE HEP Appareils salles                   13\n",
       "Name: Permanent Location, dtype: int64"
      ]
     },
     "execution_count": 55,
     "metadata": {},
     "output_type": "execute_result"
    }
   ],
   "source": [
    "# Obtenir le décompte par localisation\n",
    "compte_par_loc = df['Permanent Location'].value_counts()\n",
    "compte_par_loc"
   ]
  },
  {
   "cell_type": "code",
   "execution_count": 56,
   "id": "d8acfcec",
   "metadata": {},
   "outputs": [
    {
     "data": {
      "text/plain": [
       "BE HEP Fonds documentaire              16355\n",
       "BE HEP Périodiques                      3979\n",
       "BE HEP Littérature jeunesse             2062\n",
       "BE HEP Albums                           1499\n",
       "BE HEP Jeux                             1109\n",
       "BE HEP Séries de livres                 1057\n",
       "BE HEP Bureau                            793\n",
       "BE HEP Immersion langues étrangères      750\n",
       "BE HEP Appareils                         548\n",
       "NE HEP DVD                                91\n",
       "BE HEP Acquisitions                       59\n",
       "BE HEP Mallettes d'expérimentation        36\n",
       "BE HEP Archives                           27\n",
       "BE HEP Appareils salles                   13\n",
       "Name: Permanent Location, dtype: int64"
      ]
     },
     "execution_count": 56,
     "metadata": {},
     "output_type": "execute_result"
    }
   ],
   "source": [
    "# Supprimer 'BE JU NE HEP Articles'\n",
    "compte_par_loc = compte_par_loc.drop('BE JU NE HEP Articles')\n",
    "compte_par_loc"
   ]
  },
  {
   "cell_type": "code",
   "execution_count": 1,
   "id": "17345a36",
   "metadata": {},
   "outputs": [],
   "source": [
    "# Création du diagramme en secteurs\n"
   ]
  },
  {
   "cell_type": "markdown",
   "id": "2ef30378",
   "metadata": {},
   "source": [
    "### Exercices avancés"
   ]
  },
  {
   "cell_type": "code",
   "execution_count": 2,
   "id": "6d0d2240",
   "metadata": {},
   "outputs": [],
   "source": [
    "# Création du diagramme en secteurs\n"
   ]
  },
  {
   "cell_type": "code",
   "execution_count": null,
   "id": "8611be22",
   "metadata": {},
   "outputs": [],
   "source": []
  }
 ],
 "metadata": {
  "kernelspec": {
   "display_name": "Python 3 (ipykernel)",
   "language": "python",
   "name": "python3"
  },
  "language_info": {
   "codemirror_mode": {
    "name": "ipython",
    "version": 3
   },
   "file_extension": ".py",
   "mimetype": "text/x-python",
   "name": "python",
   "nbconvert_exporter": "python",
   "pygments_lexer": "ipython3",
   "version": "3.9.7"
  }
 },
 "nbformat": 4,
 "nbformat_minor": 5
}
