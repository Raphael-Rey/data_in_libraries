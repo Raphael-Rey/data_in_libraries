{
 "cells": [
  {
   "cell_type": "markdown",
   "id": "4647f2a9",
   "metadata": {},
   "source": [
    "## Exercice 1b\n",
    "## Examiner des données\n",
    "Pandas propose un ensemble de fonctions pour examiner rapidement les données.\n",
    "\n",
    "### Consigne\n",
    "Le fichier `Data/items.csv` contient les exemplaires de la Médiathèque de Bienne (Sandbox Alma SLSP).\n",
    "\n",
    "Analyser le fichier `Data/items.csv` et déterminer les éléments suivants:\n",
    "* Nombre de lignes et de colonnes\n",
    "* Nombre de documents par \"item policy\"\n",
    "\n",
    "Pour finir, afficher une représentation."
   ]
  },
  {
   "cell_type": "code",
   "execution_count": null,
   "id": "4d60a4de",
   "metadata": {},
   "outputs": [],
   "source": []
  }
 ],
 "metadata": {
  "kernelspec": {
   "display_name": "Python 3 (ipykernel)",
   "language": "python",
   "name": "python3"
  },
  "language_info": {
   "codemirror_mode": {
    "name": "ipython",
    "version": 3
   },
   "file_extension": ".py",
   "mimetype": "text/x-python",
   "name": "python",
   "nbconvert_exporter": "python",
   "pygments_lexer": "ipython3",
   "version": "3.9.7"
  }
 },
 "nbformat": 4,
 "nbformat_minor": 5
}
