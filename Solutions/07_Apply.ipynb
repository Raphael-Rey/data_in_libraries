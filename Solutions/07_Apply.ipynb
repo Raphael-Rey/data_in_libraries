{
 "cells": [
  {
   "cell_type": "markdown",
   "id": "2b37b690",
   "metadata": {},
   "source": [
    "# Exercice 7\n",
    "## Modifier les données en masse avec apply\n",
    "### Consigne\n",
    "Le fichier `Data/titles_not_linked.csv` contient une liste de titres.\n",
    "\n",
    "Dans ce fichier, réaliser les tâches suivantes:\n",
    "* Créer une table en ne retenant que les entrées avec ISBN\n",
    "* Extraire le premier ISBN dans une nouvelle colonne\n",
    "* Vérifier la conformité de l'ISBN (juste la longuer 10 ou 13 et non l'algorithme précis)\n",
    "* Créer une table avec les ISBN douteux: `Resultat/isbn_douteux.xlsx`\n",
    "\n",
    "**Exercice avancé:** \n",
    "* Prendre l'ensemble des données et rassembler les colonnes ISBN et ISSN en une seule: \"Identifiant\"\n",
    "* Supprimer les colonnes \"ISBN\" et \"ISSN\"\n",
    "* Supprimer les lignes avec des valeurs nulles dans les identifiants"
   ]
  },
  {
   "cell_type": "code",
   "execution_count": 1,
   "id": "530bdb9c",
   "metadata": {},
   "outputs": [],
   "source": [
    "# Importer les bibliothèques requises\n",
    "import pandas as pd\n",
    "import numpy as np\n",
    "import seaborn as sns\n",
    "import matplotlib.pyplot as plt"
   ]
  },
  {
   "cell_type": "code",
   "execution_count": 2,
   "id": "379cd429",
   "metadata": {},
   "outputs": [],
   "source": [
    "# Chargement des données\n",
    "df = pd.read_csv('Data/titles_not_linked.csv')"
   ]
  },
  {
   "cell_type": "code",
   "execution_count": 3,
   "id": "77cd5eb4",
   "metadata": {},
   "outputs": [
    {
     "data": {
      "text/html": [
       "<div>\n",
       "<style scoped>\n",
       "    .dataframe tbody tr th:only-of-type {\n",
       "        vertical-align: middle;\n",
       "    }\n",
       "\n",
       "    .dataframe tbody tr th {\n",
       "        vertical-align: top;\n",
       "    }\n",
       "\n",
       "    .dataframe thead th {\n",
       "        text-align: right;\n",
       "    }\n",
       "</style>\n",
       "<table border=\"1\" class=\"dataframe\">\n",
       "  <thead>\n",
       "    <tr style=\"text-align: right;\">\n",
       "      <th></th>\n",
       "      <th>MMS Id</th>\n",
       "      <th>Linked to NZ</th>\n",
       "      <th>Title</th>\n",
       "      <th>ISBN</th>\n",
       "      <th>ISSN</th>\n",
       "      <th>Linked to CZ</th>\n",
       "    </tr>\n",
       "  </thead>\n",
       "  <tbody>\n",
       "    <tr>\n",
       "      <th>0</th>\n",
       "      <td>990000076740205516</td>\n",
       "      <td>No</td>\n",
       "      <td>Livres hebdo l'hebdomadaire des livres, éditio...</td>\n",
       "      <td>NaN</td>\n",
       "      <td>0294-0000</td>\n",
       "      <td>No</td>\n",
       "    </tr>\n",
       "    <tr>\n",
       "      <th>1</th>\n",
       "      <td>990000624650205516</td>\n",
       "      <td>No</td>\n",
       "      <td>Cahier / Alliance Culturelle Romande</td>\n",
       "      <td>NaN</td>\n",
       "      <td>NaN</td>\n",
       "      <td>No</td>\n",
       "    </tr>\n",
       "    <tr>\n",
       "      <th>2</th>\n",
       "      <td>990000816850205516</td>\n",
       "      <td>No</td>\n",
       "      <td>NaN</td>\n",
       "      <td>NaN</td>\n",
       "      <td>NaN</td>\n",
       "      <td>No</td>\n",
       "    </tr>\n",
       "    <tr>\n",
       "      <th>3</th>\n",
       "      <td>990000937220205516</td>\n",
       "      <td>No</td>\n",
       "      <td>: carte in parte col.</td>\n",
       "      <td>NaN</td>\n",
       "      <td>NaN</td>\n",
       "      <td>No</td>\n",
       "    </tr>\n",
       "    <tr>\n",
       "      <th>4</th>\n",
       "      <td>990000937230205516</td>\n",
       "      <td>No</td>\n",
       "      <td>: carte in parte col.</td>\n",
       "      <td>NaN</td>\n",
       "      <td>NaN</td>\n",
       "      <td>No</td>\n",
       "    </tr>\n",
       "  </tbody>\n",
       "</table>\n",
       "</div>"
      ],
      "text/plain": [
       "               MMS Id Linked to NZ  \\\n",
       "0  990000076740205516           No   \n",
       "1  990000624650205516           No   \n",
       "2  990000816850205516           No   \n",
       "3  990000937220205516           No   \n",
       "4  990000937230205516           No   \n",
       "\n",
       "                                               Title ISBN       ISSN  \\\n",
       "0  Livres hebdo l'hebdomadaire des livres, éditio...  NaN  0294-0000   \n",
       "1               Cahier / Alliance Culturelle Romande  NaN        NaN   \n",
       "2                                                NaN  NaN        NaN   \n",
       "3                              : carte in parte col.  NaN        NaN   \n",
       "4                              : carte in parte col.  NaN        NaN   \n",
       "\n",
       "  Linked to CZ  \n",
       "0           No  \n",
       "1           No  \n",
       "2           No  \n",
       "3           No  \n",
       "4           No  "
      ]
     },
     "execution_count": 3,
     "metadata": {},
     "output_type": "execute_result"
    }
   ],
   "source": [
    "df.head()"
   ]
  },
  {
   "cell_type": "markdown",
   "id": "a819eb2f",
   "metadata": {},
   "source": [
    "### Filtrer la table en ne retenant que les lignes avec ISBN"
   ]
  },
  {
   "cell_type": "code",
   "execution_count": 4,
   "id": "9063fa08",
   "metadata": {},
   "outputs": [],
   "source": [
    "# Supprime les lignes où la colonne 'ISBN' ne comporte pas de valeur.\n",
    "# Avec la méthode 'dropna', c'est en général une bonne pratique de faire une copie\n",
    "# indépendante des données\n",
    "d_isbn = df.dropna(subset=['ISBN']).copy()\n",
    "\n",
    "# Suppression de la colonne 'ISSN', le paramètre 'inplace' permet de ne pas\n",
    "# retourner le nouveau DataFrame, mais de modifier les données directement.\n",
    "d_isbn.drop('ISSN', axis=1, inplace=True)"
   ]
  },
  {
   "cell_type": "code",
   "execution_count": 5,
   "id": "725cc167",
   "metadata": {},
   "outputs": [
    {
     "data": {
      "text/html": [
       "<div>\n",
       "<style scoped>\n",
       "    .dataframe tbody tr th:only-of-type {\n",
       "        vertical-align: middle;\n",
       "    }\n",
       "\n",
       "    .dataframe tbody tr th {\n",
       "        vertical-align: top;\n",
       "    }\n",
       "\n",
       "    .dataframe thead th {\n",
       "        text-align: right;\n",
       "    }\n",
       "</style>\n",
       "<table border=\"1\" class=\"dataframe\">\n",
       "  <thead>\n",
       "    <tr style=\"text-align: right;\">\n",
       "      <th></th>\n",
       "      <th>MMS Id</th>\n",
       "      <th>Linked to NZ</th>\n",
       "      <th>Title</th>\n",
       "      <th>ISBN</th>\n",
       "      <th>Linked to CZ</th>\n",
       "    </tr>\n",
       "  </thead>\n",
       "  <tbody>\n",
       "    <tr>\n",
       "      <th>6</th>\n",
       "      <td>990001353040205516</td>\n",
       "      <td>No</td>\n",
       "      <td>NaN</td>\n",
       "      <td>0854980326; 9780854980321</td>\n",
       "      <td>No</td>\n",
       "    </tr>\n",
       "    <tr>\n",
       "      <th>7</th>\n",
       "      <td>990001475420205516</td>\n",
       "      <td>No</td>\n",
       "      <td>NaN</td>\n",
       "      <td>0306335026; 9780306335020</td>\n",
       "      <td>No</td>\n",
       "    </tr>\n",
       "    <tr>\n",
       "      <th>12</th>\n",
       "      <td>990001876030205516</td>\n",
       "      <td>No</td>\n",
       "      <td>NaN</td>\n",
       "      <td>3764308613; 9783764308612</td>\n",
       "      <td>No</td>\n",
       "    </tr>\n",
       "    <tr>\n",
       "      <th>13</th>\n",
       "      <td>990001878950205516</td>\n",
       "      <td>No</td>\n",
       "      <td>NaN</td>\n",
       "      <td>9264215956; 9789264215955</td>\n",
       "      <td>No</td>\n",
       "    </tr>\n",
       "    <tr>\n",
       "      <th>15</th>\n",
       "      <td>990001967100205516</td>\n",
       "      <td>No</td>\n",
       "      <td>NaN</td>\n",
       "      <td>2850320099; 9782850320095</td>\n",
       "      <td>No</td>\n",
       "    </tr>\n",
       "  </tbody>\n",
       "</table>\n",
       "</div>"
      ],
      "text/plain": [
       "                MMS Id Linked to NZ Title                       ISBN  \\\n",
       "6   990001353040205516           No   NaN  0854980326; 9780854980321   \n",
       "7   990001475420205516           No   NaN  0306335026; 9780306335020   \n",
       "12  990001876030205516           No   NaN  3764308613; 9783764308612   \n",
       "13  990001878950205516           No   NaN  9264215956; 9789264215955   \n",
       "15  990001967100205516           No   NaN  2850320099; 9782850320095   \n",
       "\n",
       "   Linked to CZ  \n",
       "6            No  \n",
       "7            No  \n",
       "12           No  \n",
       "13           No  \n",
       "15           No  "
      ]
     },
     "execution_count": 5,
     "metadata": {},
     "output_type": "execute_result"
    }
   ],
   "source": [
    "d_isbn.head()"
   ]
  },
  {
   "cell_type": "markdown",
   "id": "519c5f97",
   "metadata": {},
   "source": [
    "### Récupérer le premier ISBN"
   ]
  },
  {
   "cell_type": "code",
   "execution_count": 6,
   "id": "cfa55fa3",
   "metadata": {},
   "outputs": [],
   "source": [
    "# \"split\" permet de transformer en liste le contenu en séparent par \";\"\n",
    "# \"strip\" élimine les espaces résiduels\n",
    "d_isbn['First ISBN'] = d_isbn['ISBN'].apply(lambda x: x.split(';')[0].strip())"
   ]
  },
  {
   "cell_type": "code",
   "execution_count": 7,
   "id": "756f5782",
   "metadata": {},
   "outputs": [
    {
     "data": {
      "text/plain": [
       "6          0854980326\n",
       "7          0306335026\n",
       "12         3764308613\n",
       "13         9264215956\n",
       "15         2850320099\n",
       "            ...      \n",
       "7923    9781449308292\n",
       "7925           ISBN10\n",
       "7926       2880749093\n",
       "7927    9788894545708\n",
       "7928       376436050X\n",
       "Name: First ISBN, Length: 3278, dtype: object"
      ]
     },
     "execution_count": 7,
     "metadata": {},
     "output_type": "execute_result"
    }
   ],
   "source": [
    "d_isbn['First ISBN']"
   ]
  },
  {
   "cell_type": "markdown",
   "id": "e87bbb87",
   "metadata": {},
   "source": [
    "### Vérifier la longueur de l'ISBN"
   ]
  },
  {
   "cell_type": "code",
   "execution_count": 8,
   "id": "1c343418",
   "metadata": {},
   "outputs": [],
   "source": [
    "# Teste la longueur de l'ISBN\n",
    "d_isbn['Longueur ISBN est normale'] = d_isbn['First ISBN'].apply(lambda x: len(x)==10 or len(x)==13)"
   ]
  },
  {
   "cell_type": "code",
   "execution_count": 9,
   "id": "323fc0f8",
   "metadata": {},
   "outputs": [
    {
     "data": {
      "text/html": [
       "<div>\n",
       "<style scoped>\n",
       "    .dataframe tbody tr th:only-of-type {\n",
       "        vertical-align: middle;\n",
       "    }\n",
       "\n",
       "    .dataframe tbody tr th {\n",
       "        vertical-align: top;\n",
       "    }\n",
       "\n",
       "    .dataframe thead th {\n",
       "        text-align: right;\n",
       "    }\n",
       "</style>\n",
       "<table border=\"1\" class=\"dataframe\">\n",
       "  <thead>\n",
       "    <tr style=\"text-align: right;\">\n",
       "      <th></th>\n",
       "      <th>MMS Id</th>\n",
       "      <th>Linked to NZ</th>\n",
       "      <th>Title</th>\n",
       "      <th>ISBN</th>\n",
       "      <th>Linked to CZ</th>\n",
       "      <th>First ISBN</th>\n",
       "      <th>Longueur ISBN est normale</th>\n",
       "    </tr>\n",
       "  </thead>\n",
       "  <tbody>\n",
       "    <tr>\n",
       "      <th>609</th>\n",
       "      <td>990005875580205516</td>\n",
       "      <td>No</td>\n",
       "      <td>NaN</td>\n",
       "      <td>306170655</td>\n",
       "      <td>No</td>\n",
       "      <td>306170655</td>\n",
       "      <td>False</td>\n",
       "    </tr>\n",
       "    <tr>\n",
       "      <th>727</th>\n",
       "      <td>990006148470205516</td>\n",
       "      <td>No</td>\n",
       "      <td>NaN</td>\n",
       "      <td>624694605200</td>\n",
       "      <td>No</td>\n",
       "      <td>624694605200</td>\n",
       "      <td>False</td>\n",
       "    </tr>\n",
       "    <tr>\n",
       "      <th>2898</th>\n",
       "      <td>990017430620205516</td>\n",
       "      <td>No</td>\n",
       "      <td>NaN</td>\n",
       "      <td>007036261</td>\n",
       "      <td>No</td>\n",
       "      <td>007036261</td>\n",
       "      <td>False</td>\n",
       "    </tr>\n",
       "    <tr>\n",
       "      <th>3931</th>\n",
       "      <td>99116724845005516</td>\n",
       "      <td>No</td>\n",
       "      <td>Le sauvage le Nouvel observateur - écologie</td>\n",
       "      <td>03397262</td>\n",
       "      <td>No</td>\n",
       "      <td>03397262</td>\n",
       "      <td>False</td>\n",
       "    </tr>\n",
       "    <tr>\n",
       "      <th>4059</th>\n",
       "      <td>99116725150205516</td>\n",
       "      <td>No</td>\n",
       "      <td>The bearing strength of concrete for strip loa...</td>\n",
       "      <td>https://doi.org/10.1680/macr.1970.22.71.87</td>\n",
       "      <td>No</td>\n",
       "      <td>https://doi.org/10.1680/macr.1970.22.71.87</td>\n",
       "      <td>False</td>\n",
       "    </tr>\n",
       "  </tbody>\n",
       "</table>\n",
       "</div>"
      ],
      "text/plain": [
       "                  MMS Id Linked to NZ  \\\n",
       "609   990005875580205516           No   \n",
       "727   990006148470205516           No   \n",
       "2898  990017430620205516           No   \n",
       "3931   99116724845005516           No   \n",
       "4059   99116725150205516           No   \n",
       "\n",
       "                                                  Title  \\\n",
       "609                                                 NaN   \n",
       "727                                                 NaN   \n",
       "2898                                                NaN   \n",
       "3931        Le sauvage le Nouvel observateur - écologie   \n",
       "4059  The bearing strength of concrete for strip loa...   \n",
       "\n",
       "                                            ISBN Linked to CZ  \\\n",
       "609                                    306170655           No   \n",
       "727                                 624694605200           No   \n",
       "2898                                   007036261           No   \n",
       "3931                                    03397262           No   \n",
       "4059  https://doi.org/10.1680/macr.1970.22.71.87           No   \n",
       "\n",
       "                                      First ISBN  Longueur ISBN est normale  \n",
       "609                                    306170655                      False  \n",
       "727                                 624694605200                      False  \n",
       "2898                                   007036261                      False  \n",
       "3931                                    03397262                      False  \n",
       "4059  https://doi.org/10.1680/macr.1970.22.71.87                      False  "
      ]
     },
     "execution_count": 9,
     "metadata": {},
     "output_type": "execute_result"
    }
   ],
   "source": [
    "# Création de la table avec uniquement les ISBN douteux\n",
    "# le \"~\" est une négation\n",
    "# Avec la méthode \"dropna\", il est souvent utile de\n",
    "d_isbn_douteux = d_isbn.loc[~d_isbn['Longueur ISBN est normale']].copy()\n",
    "d_isbn_douteux.head()"
   ]
  },
  {
   "cell_type": "code",
   "execution_count": 10,
   "id": "4722c46c",
   "metadata": {},
   "outputs": [],
   "source": [
    "# Export de la table\n",
    "d_isbn_douteux.to_excel('Resultat/isbn_douteux.xlsx', index=False)"
   ]
  },
  {
   "cell_type": "markdown",
   "id": "5c3c599e",
   "metadata": {},
   "source": [
    "## Exercice avancé"
   ]
  },
  {
   "cell_type": "code",
   "execution_count": 17,
   "id": "2b10137f",
   "metadata": {},
   "outputs": [
    {
     "data": {
      "text/plain": [
       "7931"
      ]
     },
     "execution_count": 17,
     "metadata": {},
     "output_type": "execute_result"
    }
   ],
   "source": [
    "# %%timeit\n",
    "# Version condensée avec une fonction lambda\n",
    "\n",
    "# Chargement des données\n",
    "df = pd.read_csv('Data/titles_not_linked.csv')\n",
    "\n",
    "df['Identifiant'] = df.apply(lambda row: row['ISBN'] if pd.notnull(row['ISBN']) else row['ISSN'], axis=1)\n",
    "len(df)"
   ]
  },
  {
   "cell_type": "code",
   "execution_count": 18,
   "id": "9f36d45d",
   "metadata": {},
   "outputs": [
    {
     "data": {
      "text/plain": [
       "7931"
      ]
     },
     "execution_count": 18,
     "metadata": {},
     "output_type": "execute_result"
    }
   ],
   "source": [
    "# %%timeit\n",
    "# Version avec une fonction\n",
    "def check_identifier_1(row):\n",
    "    if pd.notnull(row['ISBN']):\n",
    "        return row['ISBN']\n",
    "    if pd.notnull(row['ISSN']):\n",
    "        return row['ISSN']\n",
    "    return np.nan\n",
    "\n",
    "# Chargement des données\n",
    "df = pd.read_csv('Data/titles_not_linked.csv')\n",
    "\n",
    "df['Identifiant'] = df.apply(check_identifier_1, axis=1)\n",
    "len(df)"
   ]
  },
  {
   "cell_type": "code",
   "execution_count": 19,
   "id": "33cff349",
   "metadata": {},
   "outputs": [
    {
     "data": {
      "text/plain": [
       "7931"
      ]
     },
     "execution_count": 19,
     "metadata": {},
     "output_type": "execute_result"
    }
   ],
   "source": [
    "# %%timeit\n",
    "# Version avec modification de la table par \"apply\"\n",
    "def check_identifier_2(row):\n",
    "    \"\"\"\n",
    "    Cette fonction retourne la ligne avec le report de l'ISBN ou ISSN\n",
    "    dans la colonne \"Identifiant\".\n",
    "    \"\"\"\n",
    "    if pd.notnull(row['ISBN']):\n",
    "        row['Identifiant'] = row['ISBN']\n",
    "\n",
    "    if pd.notnull(row['ISSN']):\n",
    "        row['Identifiant'] = row['ISSN']\n",
    "    \n",
    "    return row\n",
    "\n",
    "# Chargement des données\n",
    "df = pd.read_csv('Data/titles_not_linked.csv')\n",
    "df['Identifiant'] = np.nan\n",
    "df = df.apply(check_identifier_2, axis=1)\n",
    "len(df)"
   ]
  },
  {
   "cell_type": "code",
   "execution_count": 20,
   "id": "095c9d53",
   "metadata": {},
   "outputs": [
    {
     "data": {
      "text/html": [
       "<div>\n",
       "<style scoped>\n",
       "    .dataframe tbody tr th:only-of-type {\n",
       "        vertical-align: middle;\n",
       "    }\n",
       "\n",
       "    .dataframe tbody tr th {\n",
       "        vertical-align: top;\n",
       "    }\n",
       "\n",
       "    .dataframe thead th {\n",
       "        text-align: right;\n",
       "    }\n",
       "</style>\n",
       "<table border=\"1\" class=\"dataframe\">\n",
       "  <thead>\n",
       "    <tr style=\"text-align: right;\">\n",
       "      <th></th>\n",
       "      <th>MMS Id</th>\n",
       "      <th>Linked to NZ</th>\n",
       "      <th>Title</th>\n",
       "      <th>ISBN</th>\n",
       "      <th>ISSN</th>\n",
       "      <th>Linked to CZ</th>\n",
       "      <th>Identifiant</th>\n",
       "    </tr>\n",
       "  </thead>\n",
       "  <tbody>\n",
       "    <tr>\n",
       "      <th>0</th>\n",
       "      <td>990000076740205516</td>\n",
       "      <td>No</td>\n",
       "      <td>Livres hebdo l'hebdomadaire des livres, éditio...</td>\n",
       "      <td>NaN</td>\n",
       "      <td>0294-0000</td>\n",
       "      <td>No</td>\n",
       "      <td>0294-0000</td>\n",
       "    </tr>\n",
       "    <tr>\n",
       "      <th>1</th>\n",
       "      <td>990000624650205516</td>\n",
       "      <td>No</td>\n",
       "      <td>Cahier / Alliance Culturelle Romande</td>\n",
       "      <td>NaN</td>\n",
       "      <td>NaN</td>\n",
       "      <td>No</td>\n",
       "      <td>NaN</td>\n",
       "    </tr>\n",
       "    <tr>\n",
       "      <th>2</th>\n",
       "      <td>990000816850205516</td>\n",
       "      <td>No</td>\n",
       "      <td>NaN</td>\n",
       "      <td>NaN</td>\n",
       "      <td>NaN</td>\n",
       "      <td>No</td>\n",
       "      <td>NaN</td>\n",
       "    </tr>\n",
       "    <tr>\n",
       "      <th>3</th>\n",
       "      <td>990000937220205516</td>\n",
       "      <td>No</td>\n",
       "      <td>: carte in parte col.</td>\n",
       "      <td>NaN</td>\n",
       "      <td>NaN</td>\n",
       "      <td>No</td>\n",
       "      <td>NaN</td>\n",
       "    </tr>\n",
       "    <tr>\n",
       "      <th>4</th>\n",
       "      <td>990000937230205516</td>\n",
       "      <td>No</td>\n",
       "      <td>: carte in parte col.</td>\n",
       "      <td>NaN</td>\n",
       "      <td>NaN</td>\n",
       "      <td>No</td>\n",
       "      <td>NaN</td>\n",
       "    </tr>\n",
       "  </tbody>\n",
       "</table>\n",
       "</div>"
      ],
      "text/plain": [
       "               MMS Id Linked to NZ  \\\n",
       "0  990000076740205516           No   \n",
       "1  990000624650205516           No   \n",
       "2  990000816850205516           No   \n",
       "3  990000937220205516           No   \n",
       "4  990000937230205516           No   \n",
       "\n",
       "                                               Title ISBN       ISSN  \\\n",
       "0  Livres hebdo l'hebdomadaire des livres, éditio...  NaN  0294-0000   \n",
       "1               Cahier / Alliance Culturelle Romande  NaN        NaN   \n",
       "2                                                NaN  NaN        NaN   \n",
       "3                              : carte in parte col.  NaN        NaN   \n",
       "4                              : carte in parte col.  NaN        NaN   \n",
       "\n",
       "  Linked to CZ Identifiant  \n",
       "0           No   0294-0000  \n",
       "1           No         NaN  \n",
       "2           No         NaN  \n",
       "3           No         NaN  \n",
       "4           No         NaN  "
      ]
     },
     "execution_count": 20,
     "metadata": {},
     "output_type": "execute_result"
    }
   ],
   "source": [
    "df.head()"
   ]
  },
  {
   "cell_type": "code",
   "execution_count": 21,
   "id": "cc5c2fc3",
   "metadata": {},
   "outputs": [],
   "source": [
    "# Suppression des colonnes \"ISSN\" et \"ISBN\"\n",
    "df.drop(['ISSN', 'ISBN'], axis=1, inplace=True)"
   ]
  },
  {
   "cell_type": "code",
   "execution_count": 22,
   "id": "e8d5d354",
   "metadata": {},
   "outputs": [],
   "source": [
    "# Suppression des valeurs nulles\n",
    "df = df.dropna(subset=['Identifiant']).copy()"
   ]
  },
  {
   "cell_type": "code",
   "execution_count": 23,
   "id": "cef21867",
   "metadata": {},
   "outputs": [
    {
     "data": {
      "text/html": [
       "<div>\n",
       "<style scoped>\n",
       "    .dataframe tbody tr th:only-of-type {\n",
       "        vertical-align: middle;\n",
       "    }\n",
       "\n",
       "    .dataframe tbody tr th {\n",
       "        vertical-align: top;\n",
       "    }\n",
       "\n",
       "    .dataframe thead th {\n",
       "        text-align: right;\n",
       "    }\n",
       "</style>\n",
       "<table border=\"1\" class=\"dataframe\">\n",
       "  <thead>\n",
       "    <tr style=\"text-align: right;\">\n",
       "      <th></th>\n",
       "      <th>MMS Id</th>\n",
       "      <th>Linked to NZ</th>\n",
       "      <th>Title</th>\n",
       "      <th>Linked to CZ</th>\n",
       "      <th>Identifiant</th>\n",
       "    </tr>\n",
       "  </thead>\n",
       "  <tbody>\n",
       "    <tr>\n",
       "      <th>0</th>\n",
       "      <td>990000076740205516</td>\n",
       "      <td>No</td>\n",
       "      <td>Livres hebdo l'hebdomadaire des livres, éditio...</td>\n",
       "      <td>No</td>\n",
       "      <td>0294-0000</td>\n",
       "    </tr>\n",
       "    <tr>\n",
       "      <th>6</th>\n",
       "      <td>990001353040205516</td>\n",
       "      <td>No</td>\n",
       "      <td>NaN</td>\n",
       "      <td>No</td>\n",
       "      <td>0854980326; 9780854980321</td>\n",
       "    </tr>\n",
       "    <tr>\n",
       "      <th>7</th>\n",
       "      <td>990001475420205516</td>\n",
       "      <td>No</td>\n",
       "      <td>NaN</td>\n",
       "      <td>No</td>\n",
       "      <td>0306335026; 9780306335020</td>\n",
       "    </tr>\n",
       "    <tr>\n",
       "      <th>12</th>\n",
       "      <td>990001876030205516</td>\n",
       "      <td>No</td>\n",
       "      <td>NaN</td>\n",
       "      <td>No</td>\n",
       "      <td>3764308613; 9783764308612</td>\n",
       "    </tr>\n",
       "    <tr>\n",
       "      <th>13</th>\n",
       "      <td>990001878950205516</td>\n",
       "      <td>No</td>\n",
       "      <td>NaN</td>\n",
       "      <td>No</td>\n",
       "      <td>9264215956; 9789264215955</td>\n",
       "    </tr>\n",
       "  </tbody>\n",
       "</table>\n",
       "</div>"
      ],
      "text/plain": [
       "                MMS Id Linked to NZ  \\\n",
       "0   990000076740205516           No   \n",
       "6   990001353040205516           No   \n",
       "7   990001475420205516           No   \n",
       "12  990001876030205516           No   \n",
       "13  990001878950205516           No   \n",
       "\n",
       "                                                Title Linked to CZ  \\\n",
       "0   Livres hebdo l'hebdomadaire des livres, éditio...           No   \n",
       "6                                                 NaN           No   \n",
       "7                                                 NaN           No   \n",
       "12                                                NaN           No   \n",
       "13                                                NaN           No   \n",
       "\n",
       "                  Identifiant  \n",
       "0                   0294-0000  \n",
       "6   0854980326; 9780854980321  \n",
       "7   0306335026; 9780306335020  \n",
       "12  3764308613; 9783764308612  \n",
       "13  9264215956; 9789264215955  "
      ]
     },
     "execution_count": 23,
     "metadata": {},
     "output_type": "execute_result"
    }
   ],
   "source": [
    "df.head()"
   ]
  },
  {
   "cell_type": "code",
   "execution_count": null,
   "id": "90408131",
   "metadata": {},
   "outputs": [],
   "source": []
  }
 ],
 "metadata": {
  "kernelspec": {
   "display_name": "Python 3 (ipykernel)",
   "language": "python",
   "name": "python3"
  },
  "language_info": {
   "codemirror_mode": {
    "name": "ipython",
    "version": 3
   },
   "file_extension": ".py",
   "mimetype": "text/x-python",
   "name": "python",
   "nbconvert_exporter": "python",
   "pygments_lexer": "ipython3",
   "version": "3.9.7"
  }
 },
 "nbformat": 4,
 "nbformat_minor": 5
}
