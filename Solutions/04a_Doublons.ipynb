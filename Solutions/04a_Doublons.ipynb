{
 "cells": [
  {
   "cell_type": "markdown",
   "id": "4647f2a9",
   "metadata": {},
   "source": [
    "## Exercice 4a\n",
    "## Gérer les doublons\n",
    "Un problème facilement gérable avec Pandas et drop_duplicates.\n",
    "\n",
    "### Consigne\n",
    "Le fichier `Data/item_reduced.csv` contient les titres de l'IZ HPH (Sandbox Alma SLSP).\n",
    "\n",
    "* Etablir une liste de tous les titres uniques avec leur emplacement. Un titre peut se trouver plusieurs fois dans la liste si c'est dans des emplacements différents\n",
    "\n",
    "**Exrecice avancé:** déterminer le nombre de titre présent dans plusieurs emplacements\n"
   ]
  },
  {
   "cell_type": "code",
   "execution_count": 22,
   "id": "095cca5e",
   "metadata": {},
   "outputs": [],
   "source": [
    "# Importer les bibliothèques requises\n",
    "import pandas as pd\n",
    "import numpy as np\n",
    "import seaborn as sns\n",
    "import matplotlib.pyplot as plt"
   ]
  },
  {
   "cell_type": "code",
   "execution_count": 23,
   "id": "4d60a4de",
   "metadata": {},
   "outputs": [],
   "source": [
    "# Chargement des données\n",
    "df = pd.read_csv('Data/items_reduced.csv')"
   ]
  },
  {
   "cell_type": "code",
   "execution_count": 24,
   "id": "ca0c8d21",
   "metadata": {},
   "outputs": [
    {
     "data": {
      "text/plain": [
       "Index(['Barcode', 'MMS ID', 'Holdings ID', 'Permanent Location', 'Call Number',\n",
       "       'Material Type', 'Item Policy', 'Title'],\n",
       "      dtype='object')"
      ]
     },
     "execution_count": 24,
     "metadata": {},
     "output_type": "execute_result"
    }
   ],
   "source": [
    "df.columns"
   ]
  },
  {
   "cell_type": "code",
   "execution_count": 25,
   "id": "483b10c8",
   "metadata": {},
   "outputs": [
    {
     "data": {
      "text/html": [
       "<div>\n",
       "<style scoped>\n",
       "    .dataframe tbody tr th:only-of-type {\n",
       "        vertical-align: middle;\n",
       "    }\n",
       "\n",
       "    .dataframe tbody tr th {\n",
       "        vertical-align: top;\n",
       "    }\n",
       "\n",
       "    .dataframe thead th {\n",
       "        text-align: right;\n",
       "    }\n",
       "</style>\n",
       "<table border=\"1\" class=\"dataframe\">\n",
       "  <thead>\n",
       "    <tr style=\"text-align: right;\">\n",
       "      <th></th>\n",
       "      <th>Barcode</th>\n",
       "      <th>MMS ID</th>\n",
       "      <th>Holdings ID</th>\n",
       "      <th>Permanent Location</th>\n",
       "      <th>Call Number</th>\n",
       "      <th>Material Type</th>\n",
       "      <th>Item Policy</th>\n",
       "      <th>Title</th>\n",
       "    </tr>\n",
       "  </thead>\n",
       "  <tbody>\n",
       "    <tr>\n",
       "      <th>0</th>\n",
       "      <td>HPH000001003</td>\n",
       "      <td>991000787439705520</td>\n",
       "      <td>2235648890005520</td>\n",
       "      <td>BE HEP Appareils</td>\n",
       "      <td>HEPBE</td>\n",
       "      <td>Equipment</td>\n",
       "      <td>97 Booking / Loan max. 14 days, campus, no copy</td>\n",
       "      <td>Micro stéréo mini-jack : Rode : VideoMicro</td>\n",
       "    </tr>\n",
       "    <tr>\n",
       "      <th>1</th>\n",
       "      <td>HPH000001004</td>\n",
       "      <td>991000787439705520</td>\n",
       "      <td>2235648890005520</td>\n",
       "      <td>BE HEP Appareils</td>\n",
       "      <td>HEPBE</td>\n",
       "      <td>Equipment</td>\n",
       "      <td>97 Booking / Loan max. 14 days, campus, no copy</td>\n",
       "      <td>Micro stéréo mini-jack : Rode : VideoMicro</td>\n",
       "    </tr>\n",
       "    <tr>\n",
       "      <th>2</th>\n",
       "      <td>HPH000001005</td>\n",
       "      <td>991000787439705520</td>\n",
       "      <td>2235648890005520</td>\n",
       "      <td>BE HEP Appareils</td>\n",
       "      <td>HEPBE</td>\n",
       "      <td>Equipment</td>\n",
       "      <td>97 Booking / Loan max. 14 days, campus, no copy</td>\n",
       "      <td>Micro stéréo mini-jack : Rode : VideoMicro</td>\n",
       "    </tr>\n",
       "    <tr>\n",
       "      <th>3</th>\n",
       "      <td>03138226</td>\n",
       "      <td>991000065799705520</td>\n",
       "      <td>22106499280005520</td>\n",
       "      <td>BE HEP Séries de livres</td>\n",
       "      <td>HEPBE 6 VEND</td>\n",
       "      <td>Book</td>\n",
       "      <td>54 Booking 56 days / No loan request, loan 28 ...</td>\n",
       "      <td>La disparition de Sam Edward van de Vendel ; t...</td>\n",
       "    </tr>\n",
       "    <tr>\n",
       "      <th>4</th>\n",
       "      <td>03138420</td>\n",
       "      <td>991001610643905520</td>\n",
       "      <td>22106459710005520</td>\n",
       "      <td>BE HEP Littérature jeunesse</td>\n",
       "      <td>HEPBE COLO</td>\n",
       "      <td>Book</td>\n",
       "      <td>01 Loan 28 days</td>\n",
       "      <td>Les pêcheurs d'éternité Marie Colot ; illustra...</td>\n",
       "    </tr>\n",
       "  </tbody>\n",
       "</table>\n",
       "</div>"
      ],
      "text/plain": [
       "        Barcode              MMS ID        Holdings ID  \\\n",
       "0  HPH000001003  991000787439705520   2235648890005520   \n",
       "1  HPH000001004  991000787439705520   2235648890005520   \n",
       "2  HPH000001005  991000787439705520   2235648890005520   \n",
       "3      03138226  991000065799705520  22106499280005520   \n",
       "4      03138420  991001610643905520  22106459710005520   \n",
       "\n",
       "            Permanent Location   Call Number Material Type  \\\n",
       "0             BE HEP Appareils         HEPBE     Equipment   \n",
       "1             BE HEP Appareils         HEPBE     Equipment   \n",
       "2             BE HEP Appareils         HEPBE     Equipment   \n",
       "3      BE HEP Séries de livres  HEPBE 6 VEND          Book   \n",
       "4  BE HEP Littérature jeunesse    HEPBE COLO          Book   \n",
       "\n",
       "                                         Item Policy  \\\n",
       "0    97 Booking / Loan max. 14 days, campus, no copy   \n",
       "1    97 Booking / Loan max. 14 days, campus, no copy   \n",
       "2    97 Booking / Loan max. 14 days, campus, no copy   \n",
       "3  54 Booking 56 days / No loan request, loan 28 ...   \n",
       "4                                    01 Loan 28 days   \n",
       "\n",
       "                                               Title  \n",
       "0         Micro stéréo mini-jack : Rode : VideoMicro  \n",
       "1         Micro stéréo mini-jack : Rode : VideoMicro  \n",
       "2         Micro stéréo mini-jack : Rode : VideoMicro  \n",
       "3  La disparition de Sam Edward van de Vendel ; t...  \n",
       "4  Les pêcheurs d'éternité Marie Colot ; illustra...  "
      ]
     },
     "execution_count": 25,
     "metadata": {},
     "output_type": "execute_result"
    }
   ],
   "source": [
    "df.head()"
   ]
  },
  {
   "cell_type": "markdown",
   "id": "8209939a",
   "metadata": {},
   "source": [
    "### Création de la liste de titres"
   ]
  },
  {
   "cell_type": "code",
   "execution_count": 26,
   "id": "76c34b0e",
   "metadata": {},
   "outputs": [],
   "source": [
    "# Pour être considéré comme un doublon, il faut que deux colonnes soient identiques\n",
    "dg = df.drop_duplicates(subset=['MMS ID', 'Permanent Location']).copy()\n",
    "\n",
    "# Différence si on ne tient pas compte des localisations\n",
    "dh = df.drop_duplicates(subset=['MMS ID']).copy()"
   ]
  },
  {
   "cell_type": "code",
   "execution_count": 27,
   "id": "d697403f",
   "metadata": {},
   "outputs": [
    {
     "name": "stdout",
     "output_type": "stream",
     "text": [
      "Longueur originale:  34686\n",
      "Longueur sans doublons (MMS ID et localisations):  28001\n",
      "Longueur sans doublons (MMS ID uniquement):  27862\n"
     ]
    }
   ],
   "source": [
    "print('Longueur originale: ', len(df))\n",
    "print('Longueur sans doublons (MMS ID et localisations): ', len(dg))\n",
    "print('Longueur sans doublons (MMS ID uniquement): ', len(dh))"
   ]
  },
  {
   "cell_type": "code",
   "execution_count": 28,
   "id": "8034db0f",
   "metadata": {},
   "outputs": [
    {
     "data": {
      "text/html": [
       "<div>\n",
       "<style scoped>\n",
       "    .dataframe tbody tr th:only-of-type {\n",
       "        vertical-align: middle;\n",
       "    }\n",
       "\n",
       "    .dataframe tbody tr th {\n",
       "        vertical-align: top;\n",
       "    }\n",
       "\n",
       "    .dataframe thead th {\n",
       "        text-align: right;\n",
       "    }\n",
       "</style>\n",
       "<table border=\"1\" class=\"dataframe\">\n",
       "  <thead>\n",
       "    <tr style=\"text-align: right;\">\n",
       "      <th></th>\n",
       "      <th>MMS ID</th>\n",
       "      <th>Permanent Location</th>\n",
       "      <th>Title</th>\n",
       "    </tr>\n",
       "  </thead>\n",
       "  <tbody>\n",
       "    <tr>\n",
       "      <th>0</th>\n",
       "      <td>991000787439705520</td>\n",
       "      <td>BE HEP Appareils</td>\n",
       "      <td>Micro stéréo mini-jack : Rode : VideoMicro</td>\n",
       "    </tr>\n",
       "    <tr>\n",
       "      <th>3</th>\n",
       "      <td>991000065799705520</td>\n",
       "      <td>BE HEP Séries de livres</td>\n",
       "      <td>La disparition de Sam Edward van de Vendel ; t...</td>\n",
       "    </tr>\n",
       "    <tr>\n",
       "      <th>4</th>\n",
       "      <td>991001610643905520</td>\n",
       "      <td>BE HEP Littérature jeunesse</td>\n",
       "      <td>Les pêcheurs d'éternité Marie Colot ; illustra...</td>\n",
       "    </tr>\n",
       "    <tr>\n",
       "      <th>5</th>\n",
       "      <td>991001604441405520</td>\n",
       "      <td>BE HEP Jeux</td>\n",
       "      <td>Turing tumble construis un ordinateur à billes...</td>\n",
       "    </tr>\n",
       "    <tr>\n",
       "      <th>7</th>\n",
       "      <td>991001610343705520</td>\n",
       "      <td>BE HEP Fonds documentaire</td>\n",
       "      <td>40 créations avec la nature Fiona Hayes</td>\n",
       "    </tr>\n",
       "  </tbody>\n",
       "</table>\n",
       "</div>"
      ],
      "text/plain": [
       "               MMS ID           Permanent Location  \\\n",
       "0  991000787439705520             BE HEP Appareils   \n",
       "3  991000065799705520      BE HEP Séries de livres   \n",
       "4  991001610643905520  BE HEP Littérature jeunesse   \n",
       "5  991001604441405520                  BE HEP Jeux   \n",
       "7  991001610343705520    BE HEP Fonds documentaire   \n",
       "\n",
       "                                               Title  \n",
       "0         Micro stéréo mini-jack : Rode : VideoMicro  \n",
       "3  La disparition de Sam Edward van de Vendel ; t...  \n",
       "4  Les pêcheurs d'éternité Marie Colot ; illustra...  \n",
       "5  Turing tumble construis un ordinateur à billes...  \n",
       "7            40 créations avec la nature Fiona Hayes  "
      ]
     },
     "execution_count": 28,
     "metadata": {},
     "output_type": "execute_result"
    }
   ],
   "source": [
    "# Creer la liste de titre\n",
    "d_title = dg[['MMS ID', 'Permanent Location', 'Title']]\n",
    "d_title.head()"
   ]
  },
  {
   "cell_type": "code",
   "execution_count": 29,
   "id": "d5f97421",
   "metadata": {},
   "outputs": [],
   "source": [
    "d_title.to_excel('Resultat/title_with_loc.xlsx', index=False)"
   ]
  },
  {
   "cell_type": "markdown",
   "id": "450e73ef",
   "metadata": {},
   "source": [
    "### Exercice avancé: nombre de titres doublons"
   ]
  },
  {
   "cell_type": "code",
   "execution_count": 30,
   "id": "8e2da2af",
   "metadata": {},
   "outputs": [
    {
     "name": "stdout",
     "output_type": "stream",
     "text": [
      "Nb titres présents dans plusieurs emplacements: 139 / 27862\n"
     ]
    }
   ],
   "source": [
    "# Afficher en tant que liste permet de voir toutes les occurrences\n",
    "nb_titres_avec_doublon = d_title.duplicated(subset='MMS ID', keep='first').sum()\n",
    "nb_titres_uniques = d_title['MMS ID'].nunique()\n",
    "\n",
    "print(f'Nb titres présents dans plusieurs emplacements: {nb_titres_avec_doublon} / {nb_titres_uniques}')"
   ]
  },
  {
   "cell_type": "code",
   "execution_count": null,
   "id": "e766c1a5",
   "metadata": {},
   "outputs": [],
   "source": []
  }
 ],
 "metadata": {
  "kernelspec": {
   "display_name": "Python 3 (ipykernel)",
   "language": "python",
   "name": "python3"
  },
  "language_info": {
   "codemirror_mode": {
    "name": "ipython",
    "version": 3
   },
   "file_extension": ".py",
   "mimetype": "text/x-python",
   "name": "python",
   "nbconvert_exporter": "python",
   "pygments_lexer": "ipython3",
   "version": "3.9.7"
  }
 },
 "nbformat": 4,
 "nbformat_minor": 5
}
