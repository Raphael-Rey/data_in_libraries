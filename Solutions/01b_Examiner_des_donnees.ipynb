{
 "cells": [
  {
   "cell_type": "markdown",
   "id": "4647f2a9",
   "metadata": {},
   "source": [
    "## Exercice 1b\n",
    "## Examiner des données\n",
    "Pandas propose un ensemble de fonctions pour examiner rapidement les données.\n",
    "\n",
    "### Consigne\n",
    "Le fichier `Data/items.csv` contient les exemplaires de la Médiathèque de Bienne (Sandbox Alma SLSP).\n",
    "\n",
    "Analyser le fichier `Data/items.csv` et déterminer les éléments suivants:\n",
    "* Nombre de lignes et de colonnes\n",
    "* Nombre de documents par \"item policy\"\n",
    "\n",
    "Pour finir, afficher une représentation."
   ]
  },
  {
   "cell_type": "code",
   "execution_count": 1,
   "id": "4d60a4de",
   "metadata": {},
   "outputs": [],
   "source": [
    "# Importer les bibliothèques requises\n",
    "import pandas as pd\n",
    "import numpy as np\n",
    "import seaborn as sns\n",
    "import matplotlib.pyplot as plt"
   ]
  },
  {
   "cell_type": "code",
   "execution_count": 2,
   "id": "585f5c51",
   "metadata": {},
   "outputs": [
    {
     "name": "stderr",
     "output_type": "stream",
     "text": [
      "/home/rr/miniconda3/lib/python3.9/site-packages/IPython/core/interactiveshell.py:3444: DtypeWarning: Columns (11,12,13,15) have mixed types.Specify dtype option on import or set low_memory=False.\n",
      "  exec(code_obj, self.user_global_ns, self.user_ns)\n"
     ]
    },
    {
     "data": {
      "text/html": [
       "<div>\n",
       "<style scoped>\n",
       "    .dataframe tbody tr th:only-of-type {\n",
       "        vertical-align: middle;\n",
       "    }\n",
       "\n",
       "    .dataframe tbody tr th {\n",
       "        vertical-align: top;\n",
       "    }\n",
       "\n",
       "    .dataframe thead th {\n",
       "        text-align: right;\n",
       "    }\n",
       "</style>\n",
       "<table border=\"1\" class=\"dataframe\">\n",
       "  <thead>\n",
       "    <tr style=\"text-align: right;\">\n",
       "      <th></th>\n",
       "      <th>Type / Creator / Imprint</th>\n",
       "      <th>Title</th>\n",
       "      <th>Barcode</th>\n",
       "      <th>Inventory Number</th>\n",
       "      <th>Receiving Number</th>\n",
       "      <th>Library</th>\n",
       "      <th>Library Unit</th>\n",
       "      <th>Temporary Library</th>\n",
       "      <th>Creation Date</th>\n",
       "      <th>Modification Date</th>\n",
       "      <th>...</th>\n",
       "      <th>Temporary Item Policy</th>\n",
       "      <th>Material Type</th>\n",
       "      <th>Description</th>\n",
       "      <th>Unnamed: 35</th>\n",
       "      <th>Orders</th>\n",
       "      <th>Requests</th>\n",
       "      <th>Peer Reviewed</th>\n",
       "      <th>Item ID</th>\n",
       "      <th>Holdings ID</th>\n",
       "      <th>MMS ID</th>\n",
       "    </tr>\n",
       "  </thead>\n",
       "  <tbody>\n",
       "    <tr>\n",
       "      <th>0</th>\n",
       "      <td>Visual material ([Lieu de publication non iden...</td>\n",
       "      <td>Micro stéréo mini-jack : Rode : VideoMicro</td>\n",
       "      <td>HPH000001003</td>\n",
       "      <td>NaN</td>\n",
       "      <td>NaN</td>\n",
       "      <td>HEP-BEJUNE - Médiathèque de Bienne</td>\n",
       "      <td>NaN</td>\n",
       "      <td>NaN</td>\n",
       "      <td>2022-02-09 10:43:49</td>\n",
       "      <td>2022-02-09 10:43:49</td>\n",
       "      <td>...</td>\n",
       "      <td>NaN</td>\n",
       "      <td>Equipment</td>\n",
       "      <td>NaN</td>\n",
       "      <td>NaN</td>\n",
       "      <td>0</td>\n",
       "      <td>0</td>\n",
       "      <td>NaN</td>\n",
       "      <td>23106529740005520</td>\n",
       "      <td>2235648890005520</td>\n",
       "      <td>991000787439705520</td>\n",
       "    </tr>\n",
       "    <tr>\n",
       "      <th>1</th>\n",
       "      <td>Visual material ([Lieu de publication non iden...</td>\n",
       "      <td>Micro stéréo mini-jack : Rode : VideoMicro</td>\n",
       "      <td>HPH000001004</td>\n",
       "      <td>NaN</td>\n",
       "      <td>NaN</td>\n",
       "      <td>HEP-BEJUNE - Médiathèque de Bienne</td>\n",
       "      <td>NaN</td>\n",
       "      <td>NaN</td>\n",
       "      <td>2022-02-09 10:55:57</td>\n",
       "      <td>2022-02-09 10:55:57</td>\n",
       "      <td>...</td>\n",
       "      <td>NaN</td>\n",
       "      <td>Equipment</td>\n",
       "      <td>NaN</td>\n",
       "      <td>NaN</td>\n",
       "      <td>0</td>\n",
       "      <td>0</td>\n",
       "      <td>NaN</td>\n",
       "      <td>23106529730005520</td>\n",
       "      <td>2235648890005520</td>\n",
       "      <td>991000787439705520</td>\n",
       "    </tr>\n",
       "    <tr>\n",
       "      <th>2</th>\n",
       "      <td>Visual material ([Lieu de publication non iden...</td>\n",
       "      <td>Micro stéréo mini-jack : Rode : VideoMicro</td>\n",
       "      <td>HPH000001005</td>\n",
       "      <td>NaN</td>\n",
       "      <td>NaN</td>\n",
       "      <td>HEP-BEJUNE - Médiathèque de Bienne</td>\n",
       "      <td>NaN</td>\n",
       "      <td>NaN</td>\n",
       "      <td>2022-02-09 10:57:39</td>\n",
       "      <td>2022-02-09 10:57:39</td>\n",
       "      <td>...</td>\n",
       "      <td>NaN</td>\n",
       "      <td>Equipment</td>\n",
       "      <td>NaN</td>\n",
       "      <td>NaN</td>\n",
       "      <td>0</td>\n",
       "      <td>0</td>\n",
       "      <td>NaN</td>\n",
       "      <td>23106529720005520</td>\n",
       "      <td>2235648890005520</td>\n",
       "      <td>991000787439705520</td>\n",
       "    </tr>\n",
       "    <tr>\n",
       "      <th>3</th>\n",
       "      <td>Book By Vendel, Edward Van de (Paris L'Ecole d...</td>\n",
       "      <td>La disparition de Sam Edward van de Vendel ; t...</td>\n",
       "      <td>03138226</td>\n",
       "      <td>NaN</td>\n",
       "      <td>NaN</td>\n",
       "      <td>HEP-BEJUNE - Médiathèque de Bienne</td>\n",
       "      <td>NaN</td>\n",
       "      <td>NaN</td>\n",
       "      <td>2022-02-11 10:52:02</td>\n",
       "      <td>2022-02-11 10:52:35</td>\n",
       "      <td>...</td>\n",
       "      <td>NaN</td>\n",
       "      <td>Book</td>\n",
       "      <td>1 exemplaire BE</td>\n",
       "      <td>NaN</td>\n",
       "      <td>0</td>\n",
       "      <td>1</td>\n",
       "      <td>NaN</td>\n",
       "      <td>23106519380005520</td>\n",
       "      <td>22106499280005520</td>\n",
       "      <td>991000065799705520</td>\n",
       "    </tr>\n",
       "    <tr>\n",
       "      <th>4</th>\n",
       "      <td>Book By Colot, Marie ([Paris] Actes Sud Junior...</td>\n",
       "      <td>Les pêcheurs d'éternité Marie Colot ; illustra...</td>\n",
       "      <td>03138420</td>\n",
       "      <td>NaN</td>\n",
       "      <td>NaN</td>\n",
       "      <td>HEP-BEJUNE - Médiathèque de Bienne</td>\n",
       "      <td>NaN</td>\n",
       "      <td>NaN</td>\n",
       "      <td>2022-02-08 11:53:57</td>\n",
       "      <td>2022-02-09 15:47:00</td>\n",
       "      <td>...</td>\n",
       "      <td>NaN</td>\n",
       "      <td>Book</td>\n",
       "      <td>NaN</td>\n",
       "      <td>NaN</td>\n",
       "      <td>0</td>\n",
       "      <td>0</td>\n",
       "      <td>NaN</td>\n",
       "      <td>23106459690005520</td>\n",
       "      <td>22106459710005520</td>\n",
       "      <td>991001610643905520</td>\n",
       "    </tr>\n",
       "  </tbody>\n",
       "</table>\n",
       "<p>5 rows × 42 columns</p>\n",
       "</div>"
      ],
      "text/plain": [
       "                            Type / Creator / Imprint  \\\n",
       "0  Visual material ([Lieu de publication non iden...   \n",
       "1  Visual material ([Lieu de publication non iden...   \n",
       "2  Visual material ([Lieu de publication non iden...   \n",
       "3  Book By Vendel, Edward Van de (Paris L'Ecole d...   \n",
       "4  Book By Colot, Marie ([Paris] Actes Sud Junior...   \n",
       "\n",
       "                                               Title       Barcode  \\\n",
       "0         Micro stéréo mini-jack : Rode : VideoMicro  HPH000001003   \n",
       "1         Micro stéréo mini-jack : Rode : VideoMicro  HPH000001004   \n",
       "2         Micro stéréo mini-jack : Rode : VideoMicro  HPH000001005   \n",
       "3  La disparition de Sam Edward van de Vendel ; t...      03138226   \n",
       "4  Les pêcheurs d'éternité Marie Colot ; illustra...      03138420   \n",
       "\n",
       "   Inventory Number  Receiving Number                             Library  \\\n",
       "0               NaN               NaN  HEP-BEJUNE - Médiathèque de Bienne   \n",
       "1               NaN               NaN  HEP-BEJUNE - Médiathèque de Bienne   \n",
       "2               NaN               NaN  HEP-BEJUNE - Médiathèque de Bienne   \n",
       "3               NaN               NaN  HEP-BEJUNE - Médiathèque de Bienne   \n",
       "4               NaN               NaN  HEP-BEJUNE - Médiathèque de Bienne   \n",
       "\n",
       "   Library Unit Temporary Library        Creation Date    Modification Date  \\\n",
       "0           NaN               NaN  2022-02-09 10:43:49  2022-02-09 10:43:49   \n",
       "1           NaN               NaN  2022-02-09 10:55:57  2022-02-09 10:55:57   \n",
       "2           NaN               NaN  2022-02-09 10:57:39  2022-02-09 10:57:39   \n",
       "3           NaN               NaN  2022-02-11 10:52:02  2022-02-11 10:52:35   \n",
       "4           NaN               NaN  2022-02-08 11:53:57  2022-02-09 15:47:00   \n",
       "\n",
       "   ... Temporary Item Policy Material Type      Description Unnamed: 35  \\\n",
       "0  ...                   NaN     Equipment              NaN         NaN   \n",
       "1  ...                   NaN     Equipment              NaN         NaN   \n",
       "2  ...                   NaN     Equipment              NaN         NaN   \n",
       "3  ...                   NaN          Book  1 exemplaire BE         NaN   \n",
       "4  ...                   NaN          Book              NaN         NaN   \n",
       "\n",
       "  Orders Requests Peer Reviewed            Item ID        Holdings ID  \\\n",
       "0      0        0           NaN  23106529740005520   2235648890005520   \n",
       "1      0        0           NaN  23106529730005520   2235648890005520   \n",
       "2      0        0           NaN  23106529720005520   2235648890005520   \n",
       "3      0        1           NaN  23106519380005520  22106499280005520   \n",
       "4      0        0           NaN  23106459690005520  22106459710005520   \n",
       "\n",
       "               MMS ID  \n",
       "0  991000787439705520  \n",
       "1  991000787439705520  \n",
       "2  991000787439705520  \n",
       "3  991000065799705520  \n",
       "4  991001610643905520  \n",
       "\n",
       "[5 rows x 42 columns]"
      ]
     },
     "execution_count": 2,
     "metadata": {},
     "output_type": "execute_result"
    }
   ],
   "source": [
    "# Charger les données\n",
    "df = pd.read_csv('Data/items.csv')\n",
    "\n",
    "# Afficher les premières lignes\n",
    "df.head()"
   ]
  },
  {
   "cell_type": "code",
   "execution_count": 3,
   "id": "54f20fd7",
   "metadata": {},
   "outputs": [
    {
     "data": {
      "text/plain": [
       "(34686, 42)"
      ]
     },
     "execution_count": 3,
     "metadata": {},
     "output_type": "execute_result"
    }
   ],
   "source": [
    "# Afficher le nombre de lignes et de colonnes\n",
    "df.shape\n",
    "\n",
    "# => 34686 lignes et 42 colonnes"
   ]
  },
  {
   "cell_type": "code",
   "execution_count": 4,
   "id": "71785b52",
   "metadata": {},
   "outputs": [
    {
     "data": {
      "text/plain": [
       "Index(['Type / Creator / Imprint', 'Title', 'Barcode', 'Inventory Number',\n",
       "       'Receiving Number', 'Library', 'Library Unit', 'Temporary Library',\n",
       "       'Creation Date', 'Modification Date', 'Process type', 'To Library',\n",
       "       'Expected Arrival Time', 'At Library', 'At', 'On Hold Expiration Date',\n",
       "       'Due Date', 'Needed By', 'Until', 'Permanent Location',\n",
       "       'Temporary Location', 'Call Number', 'Call Number Type',\n",
       "       'Accession Number', 'Temporary Call Number',\n",
       "       'Temporary Call Number Type', 'Item call number',\n",
       "       'Item call number type', 'Status', 'RFID Security Status', 'Due back',\n",
       "       'Item Policy', 'Temporary Item Policy', 'Material Type', 'Description',\n",
       "       'Unnamed: 35', 'Orders', 'Requests', 'Peer Reviewed', 'Item ID',\n",
       "       'Holdings ID', 'MMS ID'],\n",
       "      dtype='object')"
      ]
     },
     "execution_count": 4,
     "metadata": {},
     "output_type": "execute_result"
    }
   ],
   "source": [
    "# Afficher les colonnes pour retrouver le nom existe pour les item policies\n",
    "df.columns\n",
    "\n",
    "# => 'Item Policy'"
   ]
  },
  {
   "cell_type": "code",
   "execution_count": 5,
   "id": "348d3779",
   "metadata": {},
   "outputs": [
    {
     "data": {
      "text/plain": [
       "01 Loan 28 days                                                22038\n",
       "70 Use on request, contact the library                          6296\n",
       "04 Loan 28 days, no copy                                        2762\n",
       "54 Booking 56 days / No loan request, loan 28 days, no copy     1141\n",
       "68 On-site use only, no copy                                     895\n",
       "67 No use, no copy                                               763\n",
       "97 Booking / Loan max. 14 days, campus, no copy                  559\n",
       "EMPTY                                                              6\n",
       "06 Loan max. 28 days, no courier/delivery                          4\n",
       "81 Booking / Loan 28 days, campus                                  1\n",
       "Name: Item Policy, dtype: int64"
      ]
     },
     "execution_count": 5,
     "metadata": {},
     "output_type": "execute_result"
    }
   ],
   "source": [
    "df['Item Policy'].value_counts()"
   ]
  },
  {
   "cell_type": "code",
   "execution_count": 6,
   "id": "6a3af042",
   "metadata": {},
   "outputs": [
    {
     "data": {
      "image/png": "[encoded data removed]",
      "text/plain": [
       "<Figure size 720x432 with 1 Axes>"
      ]
     },
     "metadata": {
      "needs_background": "light"
     },
     "output_type": "display_data"
    }
   ],
   "source": [
    "# Définit une figure ainsi que sa taille\n",
    "fig = plt.figure(figsize=(10, 6))\n",
    "ax = sns.countplot(x=df['Item Policy'])\n",
    "\n",
    "# Modifie l'orientation des étiquettes et ajuste l'alignement\n",
    "plt.xticks(rotation=45, ha='right')\n",
    "\n",
    "_ = plt.title('Nb items by item policy', pad=20, fontsize=16)"
   ]
  },
  {
   "cell_type": "code",
   "execution_count": null,
   "id": "9581775f",
   "metadata": {},
   "outputs": [],
   "source": []
  }
 ],
 "metadata": {
  "kernelspec": {
   "display_name": "Python 3 (ipykernel)",
   "language": "python",
   "name": "python3"
  },
  "language_info": {
   "codemirror_mode": {
    "name": "ipython",
    "version": 3
   },
   "file_extension": ".py",
   "mimetype": "text/x-python",
   "name": "python",
   "nbconvert_exporter": "python",
   "pygments_lexer": "ipython3",
   "version": "3.9.7"
  }
 },
 "nbformat": 4,
 "nbformat_minor": 5
}
