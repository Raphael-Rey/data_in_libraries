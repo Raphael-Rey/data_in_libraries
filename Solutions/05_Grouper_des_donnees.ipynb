{
 "cells": [
  {
   "cell_type": "markdown",
   "id": "4647f2a9",
   "metadata": {},
   "source": [
    "# Exercice 5\n",
    "## Grouper des données\n",
    "### Consigne\n",
    "Le fichier `Data/item_reduced.csv` contient les titres de l'IZ HPH (Sandbox Alma SLSP).\n",
    "\n",
    "* Etablir une liste des cotes avec le nombre d'exemplaires (les cotes doivent être classées alphabétiquement)\n",
    "\n",
    "**Exrecice avancé:** ajouter l'année de la création de l'exemplaire le plus récent.\n"
   ]
  },
  {
   "cell_type": "code",
   "execution_count": 1,
   "id": "095cca5e",
   "metadata": {},
   "outputs": [],
   "source": [
    "# Importer les bibliothèques requises\n",
    "import pandas as pd\n",
    "import numpy as np\n",
    "import seaborn as sns\n",
    "import matplotlib.pyplot as plt"
   ]
  },
  {
   "cell_type": "code",
   "execution_count": 2,
   "id": "4d60a4de",
   "metadata": {},
   "outputs": [
    {
     "name": "stderr",
     "output_type": "stream",
     "text": [
      "/home/rr/miniconda3/lib/python3.9/site-packages/IPython/core/interactiveshell.py:3444: DtypeWarning: Columns (11,12,13,15) have mixed types.Specify dtype option on import or set low_memory=False.\n",
      "  exec(code_obj, self.user_global_ns, self.user_ns)\n"
     ]
    }
   ],
   "source": [
    "# Chargement des données\n",
    "df = pd.read_csv('Data/items.csv')\n",
    "df = df[['Permanent Location', 'Call Number', 'Barcode',\n",
    "       'Material Type', 'Item Policy', 'Title', 'Creation Date']]"
   ]
  },
  {
   "cell_type": "code",
   "execution_count": 3,
   "id": "ca0c8d21",
   "metadata": {},
   "outputs": [
    {
     "data": {
      "text/plain": [
       "Index(['Permanent Location', 'Call Number', 'Barcode', 'Material Type',\n",
       "       'Item Policy', 'Title', 'Creation Date'],\n",
       "      dtype='object')"
      ]
     },
     "execution_count": 3,
     "metadata": {},
     "output_type": "execute_result"
    }
   ],
   "source": [
    "df.columns"
   ]
  },
  {
   "cell_type": "code",
   "execution_count": 4,
   "id": "67466109",
   "metadata": {},
   "outputs": [
    {
     "data": {
      "text/html": [
       "<div>\n",
       "<style scoped>\n",
       "    .dataframe tbody tr th:only-of-type {\n",
       "        vertical-align: middle;\n",
       "    }\n",
       "\n",
       "    .dataframe tbody tr th {\n",
       "        vertical-align: top;\n",
       "    }\n",
       "\n",
       "    .dataframe thead th {\n",
       "        text-align: right;\n",
       "    }\n",
       "</style>\n",
       "<table border=\"1\" class=\"dataframe\">\n",
       "  <thead>\n",
       "    <tr style=\"text-align: right;\">\n",
       "      <th></th>\n",
       "      <th>Permanent Location</th>\n",
       "      <th>Call Number</th>\n",
       "      <th>Barcode</th>\n",
       "      <th>Material Type</th>\n",
       "      <th>Item Policy</th>\n",
       "      <th>Title</th>\n",
       "      <th>Creation Date</th>\n",
       "    </tr>\n",
       "  </thead>\n",
       "  <tbody>\n",
       "    <tr>\n",
       "      <th>0</th>\n",
       "      <td>BE HEP Appareils</td>\n",
       "      <td>HEPBE</td>\n",
       "      <td>HPH000001003</td>\n",
       "      <td>Equipment</td>\n",
       "      <td>97 Booking / Loan max. 14 days, campus, no copy</td>\n",
       "      <td>Micro stéréo mini-jack : Rode : VideoMicro</td>\n",
       "      <td>2022-02-09 10:43:49</td>\n",
       "    </tr>\n",
       "    <tr>\n",
       "      <th>1</th>\n",
       "      <td>BE HEP Appareils</td>\n",
       "      <td>HEPBE</td>\n",
       "      <td>HPH000001004</td>\n",
       "      <td>Equipment</td>\n",
       "      <td>97 Booking / Loan max. 14 days, campus, no copy</td>\n",
       "      <td>Micro stéréo mini-jack : Rode : VideoMicro</td>\n",
       "      <td>2022-02-09 10:55:57</td>\n",
       "    </tr>\n",
       "    <tr>\n",
       "      <th>2</th>\n",
       "      <td>BE HEP Appareils</td>\n",
       "      <td>HEPBE</td>\n",
       "      <td>HPH000001005</td>\n",
       "      <td>Equipment</td>\n",
       "      <td>97 Booking / Loan max. 14 days, campus, no copy</td>\n",
       "      <td>Micro stéréo mini-jack : Rode : VideoMicro</td>\n",
       "      <td>2022-02-09 10:57:39</td>\n",
       "    </tr>\n",
       "    <tr>\n",
       "      <th>3</th>\n",
       "      <td>BE HEP Séries de livres</td>\n",
       "      <td>HEPBE 6 VEND</td>\n",
       "      <td>03138226</td>\n",
       "      <td>Book</td>\n",
       "      <td>54 Booking 56 days / No loan request, loan 28 ...</td>\n",
       "      <td>La disparition de Sam Edward van de Vendel ; t...</td>\n",
       "      <td>2022-02-11 10:52:02</td>\n",
       "    </tr>\n",
       "    <tr>\n",
       "      <th>4</th>\n",
       "      <td>BE HEP Littérature jeunesse</td>\n",
       "      <td>HEPBE COLO</td>\n",
       "      <td>03138420</td>\n",
       "      <td>Book</td>\n",
       "      <td>01 Loan 28 days</td>\n",
       "      <td>Les pêcheurs d'éternité Marie Colot ; illustra...</td>\n",
       "      <td>2022-02-08 11:53:57</td>\n",
       "    </tr>\n",
       "  </tbody>\n",
       "</table>\n",
       "</div>"
      ],
      "text/plain": [
       "            Permanent Location   Call Number       Barcode Material Type  \\\n",
       "0             BE HEP Appareils         HEPBE  HPH000001003     Equipment   \n",
       "1             BE HEP Appareils         HEPBE  HPH000001004     Equipment   \n",
       "2             BE HEP Appareils         HEPBE  HPH000001005     Equipment   \n",
       "3      BE HEP Séries de livres  HEPBE 6 VEND      03138226          Book   \n",
       "4  BE HEP Littérature jeunesse    HEPBE COLO      03138420          Book   \n",
       "\n",
       "                                         Item Policy  \\\n",
       "0    97 Booking / Loan max. 14 days, campus, no copy   \n",
       "1    97 Booking / Loan max. 14 days, campus, no copy   \n",
       "2    97 Booking / Loan max. 14 days, campus, no copy   \n",
       "3  54 Booking 56 days / No loan request, loan 28 ...   \n",
       "4                                    01 Loan 28 days   \n",
       "\n",
       "                                               Title        Creation Date  \n",
       "0         Micro stéréo mini-jack : Rode : VideoMicro  2022-02-09 10:43:49  \n",
       "1         Micro stéréo mini-jack : Rode : VideoMicro  2022-02-09 10:55:57  \n",
       "2         Micro stéréo mini-jack : Rode : VideoMicro  2022-02-09 10:57:39  \n",
       "3  La disparition de Sam Edward van de Vendel ; t...  2022-02-11 10:52:02  \n",
       "4  Les pêcheurs d'éternité Marie Colot ; illustra...  2022-02-08 11:53:57  "
      ]
     },
     "execution_count": 4,
     "metadata": {},
     "output_type": "execute_result"
    }
   ],
   "source": [
    "df.head()"
   ]
  },
  {
   "cell_type": "markdown",
   "id": "8209939a",
   "metadata": {},
   "source": [
    "### Grouper par cote"
   ]
  },
  {
   "cell_type": "code",
   "execution_count": 5,
   "id": "76c34b0e",
   "metadata": {},
   "outputs": [
    {
     "data": {
      "text/html": [
       "<div>\n",
       "<style scoped>\n",
       "    .dataframe tbody tr th:only-of-type {\n",
       "        vertical-align: middle;\n",
       "    }\n",
       "\n",
       "    .dataframe tbody tr th {\n",
       "        vertical-align: top;\n",
       "    }\n",
       "\n",
       "    .dataframe thead th {\n",
       "        text-align: right;\n",
       "    }\n",
       "</style>\n",
       "<table border=\"1\" class=\"dataframe\">\n",
       "  <thead>\n",
       "    <tr style=\"text-align: right;\">\n",
       "      <th></th>\n",
       "      <th>Barcode</th>\n",
       "    </tr>\n",
       "    <tr>\n",
       "      <th>Call Number</th>\n",
       "      <th></th>\n",
       "    </tr>\n",
       "  </thead>\n",
       "  <tbody>\n",
       "    <tr>\n",
       "      <th>-</th>\n",
       "      <td>6261</td>\n",
       "    </tr>\n",
       "    <tr>\n",
       "      <th>393QUAND</th>\n",
       "      <td>1</td>\n",
       "    </tr>\n",
       "    <tr>\n",
       "      <th>BUREAU FORMATION CONTINUE</th>\n",
       "      <td>2</td>\n",
       "    </tr>\n",
       "    <tr>\n",
       "      <th>BUREAU FORMATION SECONDAIRE</th>\n",
       "      <td>2</td>\n",
       "    </tr>\n",
       "    <tr>\n",
       "      <th>BUREAU RECHERCHE</th>\n",
       "      <td>2</td>\n",
       "    </tr>\n",
       "    <tr>\n",
       "      <th>...</th>\n",
       "      <td>...</td>\n",
       "    </tr>\n",
       "    <tr>\n",
       "      <th>HEPNE WAPITI</th>\n",
       "      <td>1</td>\n",
       "    </tr>\n",
       "    <tr>\n",
       "      <th>HEPNE WINOC</th>\n",
       "      <td>1</td>\n",
       "    </tr>\n",
       "    <tr>\n",
       "      <th>HEPNE XIAOS</th>\n",
       "      <td>1</td>\n",
       "    </tr>\n",
       "    <tr>\n",
       "      <th>HEPNE ZGLIN</th>\n",
       "      <td>1</td>\n",
       "    </tr>\n",
       "    <tr>\n",
       "      <th>IRDP 36731/pér</th>\n",
       "      <td>1</td>\n",
       "    </tr>\n",
       "  </tbody>\n",
       "</table>\n",
       "<p>16399 rows × 1 columns</p>\n",
       "</div>"
      ],
      "text/plain": [
       "                             Barcode\n",
       "Call Number                         \n",
       "-                               6261\n",
       "393QUAND                           1\n",
       "BUREAU FORMATION CONTINUE          2\n",
       "BUREAU FORMATION SECONDAIRE        2\n",
       "BUREAU RECHERCHE                   2\n",
       "...                              ...\n",
       "HEPNE WAPITI                       1\n",
       "HEPNE WINOC                        1\n",
       "HEPNE XIAOS                        1\n",
       "HEPNE ZGLIN                        1\n",
       "IRDP 36731/pér                     1\n",
       "\n",
       "[16399 rows x 1 columns]"
      ]
     },
     "execution_count": 5,
     "metadata": {},
     "output_type": "execute_result"
    }
   ],
   "source": [
    "# Grouper par cote\n",
    "dg = df[['Call Number', 'Barcode']].groupby('Call Number').count()\n",
    "dg"
   ]
  },
  {
   "cell_type": "code",
   "execution_count": 6,
   "id": "a474a243",
   "metadata": {},
   "outputs": [],
   "source": [
    "dg = dg.sort_index() # Pour s'assurer que l'index est dans le bon ordre\n",
    "dg.to_excel('Resultat/Exemplaires_par_cote.xlsx')"
   ]
  },
  {
   "cell_type": "markdown",
   "id": "450e73ef",
   "metadata": {},
   "source": [
    "### Exercice avancé: ajouter l'année du dernier exemplaire"
   ]
  },
  {
   "cell_type": "code",
   "execution_count": 7,
   "id": "e766c1a5",
   "metadata": {},
   "outputs": [
    {
     "data": {
      "text/html": [
       "<div>\n",
       "<style scoped>\n",
       "    .dataframe tbody tr th:only-of-type {\n",
       "        vertical-align: middle;\n",
       "    }\n",
       "\n",
       "    .dataframe tbody tr th {\n",
       "        vertical-align: top;\n",
       "    }\n",
       "\n",
       "    .dataframe thead th {\n",
       "        text-align: right;\n",
       "    }\n",
       "</style>\n",
       "<table border=\"1\" class=\"dataframe\">\n",
       "  <thead>\n",
       "    <tr style=\"text-align: right;\">\n",
       "      <th></th>\n",
       "      <th>Barcode</th>\n",
       "      <th>Creation Date</th>\n",
       "    </tr>\n",
       "    <tr>\n",
       "      <th>Call Number</th>\n",
       "      <th></th>\n",
       "      <th></th>\n",
       "    </tr>\n",
       "  </thead>\n",
       "  <tbody>\n",
       "    <tr>\n",
       "      <th>-</th>\n",
       "      <td>6261</td>\n",
       "      <td>2021-06-08 11:27:40</td>\n",
       "    </tr>\n",
       "    <tr>\n",
       "      <th>393QUAND</th>\n",
       "      <td>1</td>\n",
       "      <td>2020-11-18 01:00:00</td>\n",
       "    </tr>\n",
       "    <tr>\n",
       "      <th>BUREAU FORMATION CONTINUE</th>\n",
       "      <td>2</td>\n",
       "      <td>2020-11-18 01:00:00</td>\n",
       "    </tr>\n",
       "    <tr>\n",
       "      <th>BUREAU FORMATION SECONDAIRE</th>\n",
       "      <td>2</td>\n",
       "      <td>2020-11-18 01:00:00</td>\n",
       "    </tr>\n",
       "    <tr>\n",
       "      <th>BUREAU RECHERCHE</th>\n",
       "      <td>2</td>\n",
       "      <td>2020-11-18 01:00:00</td>\n",
       "    </tr>\n",
       "  </tbody>\n",
       "</table>\n",
       "</div>"
      ],
      "text/plain": [
       "                             Barcode        Creation Date\n",
       "Call Number                                              \n",
       "-                               6261  2021-06-08 11:27:40\n",
       "393QUAND                           1  2020-11-18 01:00:00\n",
       "BUREAU FORMATION CONTINUE          2  2020-11-18 01:00:00\n",
       "BUREAU FORMATION SECONDAIRE        2  2020-11-18 01:00:00\n",
       "BUREAU RECHERCHE                   2  2020-11-18 01:00:00"
      ]
     },
     "execution_count": 7,
     "metadata": {},
     "output_type": "execute_result"
    }
   ],
   "source": [
    "dg = df[['Call Number', 'Barcode', 'Creation Date']].groupby('Call Number').agg({'Barcode': 'count', 'Creation Date': 'max'})\n",
    "dg.head()"
   ]
  },
  {
   "cell_type": "code",
   "execution_count": 8,
   "id": "46a57768",
   "metadata": {},
   "outputs": [
    {
     "data": {
      "text/html": [
       "<div>\n",
       "<style scoped>\n",
       "    .dataframe tbody tr th:only-of-type {\n",
       "        vertical-align: middle;\n",
       "    }\n",
       "\n",
       "    .dataframe tbody tr th {\n",
       "        vertical-align: top;\n",
       "    }\n",
       "\n",
       "    .dataframe thead th {\n",
       "        text-align: right;\n",
       "    }\n",
       "</style>\n",
       "<table border=\"1\" class=\"dataframe\">\n",
       "  <thead>\n",
       "    <tr style=\"text-align: right;\">\n",
       "      <th></th>\n",
       "      <th>Barcode</th>\n",
       "      <th>Newest item Creation Year</th>\n",
       "    </tr>\n",
       "    <tr>\n",
       "      <th>Call Number</th>\n",
       "      <th></th>\n",
       "      <th></th>\n",
       "    </tr>\n",
       "  </thead>\n",
       "  <tbody>\n",
       "    <tr>\n",
       "      <th>-</th>\n",
       "      <td>6261</td>\n",
       "      <td>2021</td>\n",
       "    </tr>\n",
       "    <tr>\n",
       "      <th>393QUAND</th>\n",
       "      <td>1</td>\n",
       "      <td>2020</td>\n",
       "    </tr>\n",
       "    <tr>\n",
       "      <th>BUREAU FORMATION CONTINUE</th>\n",
       "      <td>2</td>\n",
       "      <td>2020</td>\n",
       "    </tr>\n",
       "    <tr>\n",
       "      <th>BUREAU FORMATION SECONDAIRE</th>\n",
       "      <td>2</td>\n",
       "      <td>2020</td>\n",
       "    </tr>\n",
       "    <tr>\n",
       "      <th>BUREAU RECHERCHE</th>\n",
       "      <td>2</td>\n",
       "      <td>2020</td>\n",
       "    </tr>\n",
       "  </tbody>\n",
       "</table>\n",
       "</div>"
      ],
      "text/plain": [
       "                             Barcode  Newest item Creation Year\n",
       "Call Number                                                    \n",
       "-                               6261                       2021\n",
       "393QUAND                           1                       2020\n",
       "BUREAU FORMATION CONTINUE          2                       2020\n",
       "BUREAU FORMATION SECONDAIRE        2                       2020\n",
       "BUREAU RECHERCHE                   2                       2020"
      ]
     },
     "execution_count": 8,
     "metadata": {},
     "output_type": "execute_result"
    }
   ],
   "source": [
    "dg['Newest item Creation Year'] = pd.to_datetime(dg['Creation Date']).dt.year\n",
    "dg = dg.drop('Creation Date', axis=1)\n",
    "dg.head()"
   ]
  },
  {
   "cell_type": "code",
   "execution_count": null,
   "id": "f1eaebbe",
   "metadata": {},
   "outputs": [],
   "source": []
  }
 ],
 "metadata": {
  "kernelspec": {
   "display_name": "Python 3 (ipykernel)",
   "language": "python",
   "name": "python3"
  },
  "language_info": {
   "codemirror_mode": {
    "name": "ipython",
    "version": 3
   },
   "file_extension": ".py",
   "mimetype": "text/x-python",
   "name": "python",
   "nbconvert_exporter": "python",
   "pygments_lexer": "ipython3",
   "version": "3.9.7"
  }
 },
 "nbformat": 4,
 "nbformat_minor": 5
}
