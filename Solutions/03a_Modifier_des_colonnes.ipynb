{
 "cells": [
  {
   "cell_type": "markdown",
   "id": "4647f2a9",
   "metadata": {},
   "source": [
    "## Exercice 3a\n",
    "## Modifier des colonnes\n",
    "Traduire, modifier l'ordre des colonnes, en supprimer sont des opérations courantes dans Pandas et pas toujours très instinctives.\n",
    "\n",
    "### Consigne\n",
    "Le fichier `Data/items_reduced.csv` contient les exemplaires de la Médiathèque de Bienne (Sandbox Alma SLSP).\n",
    "\n",
    "Créer un fichier `Resultat/items_loanable.csv` avec le titre et la cote. Les étiquettes des colonnes doivent être traduites\n",
    "\n",
    "**Exercie plus avancé:** \n",
    "* Ajouter la description des exemplaires depuis `Data/items.csv`\n",
    "* Combien d'exemplaires comportent une description?"
   ]
  },
  {
   "cell_type": "code",
   "execution_count": 2,
   "id": "095cca5e",
   "metadata": {},
   "outputs": [],
   "source": [
    "# Importer les bibliothèques requises\n",
    "import pandas as pd\n",
    "import numpy as np\n",
    "import seaborn as sns\n",
    "import matplotlib.pyplot as plt"
   ]
  },
  {
   "cell_type": "code",
   "execution_count": 3,
   "id": "4d60a4de",
   "metadata": {},
   "outputs": [],
   "source": [
    "# Chargement des données\n",
    "df = pd.read_csv('Data/items_reduced.csv')"
   ]
  },
  {
   "cell_type": "code",
   "execution_count": 4,
   "id": "ca0c8d21",
   "metadata": {},
   "outputs": [
    {
     "data": {
      "text/plain": [
       "Index(['Barcode', 'MMS ID', 'Holdings ID', 'Permanent Location', 'Call Number',\n",
       "       'Material Type', 'Item Policy', 'Title'],\n",
       "      dtype='object')"
      ]
     },
     "execution_count": 4,
     "metadata": {},
     "output_type": "execute_result"
    }
   ],
   "source": [
    "df.columns"
   ]
  },
  {
   "cell_type": "code",
   "execution_count": 5,
   "id": "816c94fb",
   "metadata": {},
   "outputs": [],
   "source": [
    "# Sélection des deux colonnes\n",
    "dg = df[['Title', 'Call Number']].copy()"
   ]
  },
  {
   "cell_type": "code",
   "execution_count": 7,
   "id": "17345a36",
   "metadata": {},
   "outputs": [
    {
     "data": {
      "text/html": [
       "<div>\n",
       "<style scoped>\n",
       "    .dataframe tbody tr th:only-of-type {\n",
       "        vertical-align: middle;\n",
       "    }\n",
       "\n",
       "    .dataframe tbody tr th {\n",
       "        vertical-align: top;\n",
       "    }\n",
       "\n",
       "    .dataframe thead th {\n",
       "        text-align: right;\n",
       "    }\n",
       "</style>\n",
       "<table border=\"1\" class=\"dataframe\">\n",
       "  <thead>\n",
       "    <tr style=\"text-align: right;\">\n",
       "      <th></th>\n",
       "      <th>Titre</th>\n",
       "      <th>Cote</th>\n",
       "    </tr>\n",
       "  </thead>\n",
       "  <tbody>\n",
       "    <tr>\n",
       "      <th>0</th>\n",
       "      <td>Micro stéréo mini-jack : Rode : VideoMicro</td>\n",
       "      <td>HEPBE</td>\n",
       "    </tr>\n",
       "    <tr>\n",
       "      <th>1</th>\n",
       "      <td>Micro stéréo mini-jack : Rode : VideoMicro</td>\n",
       "      <td>HEPBE</td>\n",
       "    </tr>\n",
       "    <tr>\n",
       "      <th>2</th>\n",
       "      <td>Micro stéréo mini-jack : Rode : VideoMicro</td>\n",
       "      <td>HEPBE</td>\n",
       "    </tr>\n",
       "    <tr>\n",
       "      <th>3</th>\n",
       "      <td>La disparition de Sam Edward van de Vendel ; t...</td>\n",
       "      <td>HEPBE 6 VEND</td>\n",
       "    </tr>\n",
       "    <tr>\n",
       "      <th>4</th>\n",
       "      <td>Les pêcheurs d'éternité Marie Colot ; illustra...</td>\n",
       "      <td>HEPBE COLO</td>\n",
       "    </tr>\n",
       "  </tbody>\n",
       "</table>\n",
       "</div>"
      ],
      "text/plain": [
       "                                               Titre          Cote\n",
       "0         Micro stéréo mini-jack : Rode : VideoMicro         HEPBE\n",
       "1         Micro stéréo mini-jack : Rode : VideoMicro         HEPBE\n",
       "2         Micro stéréo mini-jack : Rode : VideoMicro         HEPBE\n",
       "3  La disparition de Sam Edward van de Vendel ; t...  HEPBE 6 VEND\n",
       "4  Les pêcheurs d'éternité Marie Colot ; illustra...    HEPBE COLO"
      ]
     },
     "execution_count": 7,
     "metadata": {},
     "output_type": "execute_result"
    }
   ],
   "source": [
    "# Traduction en français\n",
    "dg.columns = ['Titre', 'Cote']\n",
    "dg.head()"
   ]
  },
  {
   "cell_type": "markdown",
   "id": "2ef30378",
   "metadata": {},
   "source": [
    "### Exercices avancés"
   ]
  },
  {
   "cell_type": "code",
   "execution_count": 23,
   "id": "d88c5363",
   "metadata": {},
   "outputs": [],
   "source": [
    "# Chargement des données\n",
    "dh = pd.read_csv('Data/items.csv')"
   ]
  },
  {
   "cell_type": "code",
   "execution_count": 24,
   "id": "0b23a134",
   "metadata": {},
   "outputs": [],
   "source": [
    "# Copie la colonne. L'ordre se fera en fonction de l'index commun au deux sources\n",
    "dg['Description'] = dh['Description']"
   ]
  },
  {
   "cell_type": "code",
   "execution_count": 27,
   "id": "264410fa",
   "metadata": {},
   "outputs": [
    {
     "data": {
      "text/plain": [
       "7221"
      ]
     },
     "execution_count": 27,
     "metadata": {},
     "output_type": "execute_result"
    }
   ],
   "source": [
    "# Compte le nombre de valeurs disponibles\n",
    "dg['Description'].count()"
   ]
  },
  {
   "cell_type": "code",
   "execution_count": 28,
   "id": "7aff1937",
   "metadata": {},
   "outputs": [
    {
     "data": {
      "text/html": [
       "<div>\n",
       "<style scoped>\n",
       "    .dataframe tbody tr th:only-of-type {\n",
       "        vertical-align: middle;\n",
       "    }\n",
       "\n",
       "    .dataframe tbody tr th {\n",
       "        vertical-align: top;\n",
       "    }\n",
       "\n",
       "    .dataframe thead th {\n",
       "        text-align: right;\n",
       "    }\n",
       "</style>\n",
       "<table border=\"1\" class=\"dataframe\">\n",
       "  <thead>\n",
       "    <tr style=\"text-align: right;\">\n",
       "      <th></th>\n",
       "      <th>Titre</th>\n",
       "      <th>Cote</th>\n",
       "      <th>Description</th>\n",
       "    </tr>\n",
       "  </thead>\n",
       "  <tbody>\n",
       "    <tr>\n",
       "      <th>0</th>\n",
       "      <td>Micro stéréo mini-jack : Rode : VideoMicro</td>\n",
       "      <td>HEPBE</td>\n",
       "      <td>NaN</td>\n",
       "    </tr>\n",
       "    <tr>\n",
       "      <th>1</th>\n",
       "      <td>Micro stéréo mini-jack : Rode : VideoMicro</td>\n",
       "      <td>HEPBE</td>\n",
       "      <td>NaN</td>\n",
       "    </tr>\n",
       "    <tr>\n",
       "      <th>2</th>\n",
       "      <td>Micro stéréo mini-jack : Rode : VideoMicro</td>\n",
       "      <td>HEPBE</td>\n",
       "      <td>NaN</td>\n",
       "    </tr>\n",
       "    <tr>\n",
       "      <th>3</th>\n",
       "      <td>La disparition de Sam Edward van de Vendel ; t...</td>\n",
       "      <td>HEPBE 6 VEND</td>\n",
       "      <td>1 exemplaire BE</td>\n",
       "    </tr>\n",
       "    <tr>\n",
       "      <th>4</th>\n",
       "      <td>Les pêcheurs d'éternité Marie Colot ; illustra...</td>\n",
       "      <td>HEPBE COLO</td>\n",
       "      <td>NaN</td>\n",
       "    </tr>\n",
       "  </tbody>\n",
       "</table>\n",
       "</div>"
      ],
      "text/plain": [
       "                                               Titre          Cote  \\\n",
       "0         Micro stéréo mini-jack : Rode : VideoMicro         HEPBE   \n",
       "1         Micro stéréo mini-jack : Rode : VideoMicro         HEPBE   \n",
       "2         Micro stéréo mini-jack : Rode : VideoMicro         HEPBE   \n",
       "3  La disparition de Sam Edward van de Vendel ; t...  HEPBE 6 VEND   \n",
       "4  Les pêcheurs d'éternité Marie Colot ; illustra...    HEPBE COLO   \n",
       "\n",
       "       Description  \n",
       "0              NaN  \n",
       "1              NaN  \n",
       "2              NaN  \n",
       "3  1 exemplaire BE  \n",
       "4              NaN  "
      ]
     },
     "execution_count": 28,
     "metadata": {},
     "output_type": "execute_result"
    }
   ],
   "source": [
    "dg.head()"
   ]
  },
  {
   "cell_type": "code",
   "execution_count": null,
   "id": "e766c1a5",
   "metadata": {},
   "outputs": [],
   "source": []
  }
 ],
 "metadata": {
  "kernelspec": {
   "display_name": "Python 3 (ipykernel)",
   "language": "python",
   "name": "python3"
  },
  "language_info": {
   "codemirror_mode": {
    "name": "ipython",
    "version": 3
   },
   "file_extension": ".py",
   "mimetype": "text/x-python",
   "name": "python",
   "nbconvert_exporter": "python",
   "pygments_lexer": "ipython3",
   "version": "3.9.7"
  }
 },
 "nbformat": 4,
 "nbformat_minor": 5
}
