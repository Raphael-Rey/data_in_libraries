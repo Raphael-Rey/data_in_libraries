{
 "cells": [
  {
   "cell_type": "markdown",
   "id": "2b37b690",
   "metadata": {},
   "source": [
    "# Exercice 8\n",
    "## Utiliser des APIs\n",
    "### Consigne\n",
    "* Récupérer l'item policy d'un exemplaire \n",
    "* Modifier l'item policy de l'exemplaire vers 21 (2 semaines)\n",
    "\n",
    "**Exercice avancé:** \n",
    "* Récupérer le user group pour un ensemble d'utilisateurs"
   ]
  },
  {
   "cell_type": "code",
   "execution_count": 39,
   "id": "0bd90368",
   "metadata": {},
   "outputs": [],
   "source": [
    "# Importer les bibliothèques requises\n",
    "import pandas as pd\n",
    "import numpy as np\n",
    "import seaborn as sns\n",
    "import matplotlib.pyplot as plt\n",
    "import requests\n",
    "import json\n",
    "\n",
    "PATH_TO_SECRETS = '../Secrets/'"
   ]
  },
  {
   "cell_type": "code",
   "execution_count": 40,
   "id": "379cd429",
   "metadata": {},
   "outputs": [],
   "source": [
    "# Chargement des données\n",
    "df = pd.read_csv('Data/barcode_hph_sb.csv')"
   ]
  },
  {
   "cell_type": "code",
   "execution_count": 41,
   "id": "77cd5eb4",
   "metadata": {},
   "outputs": [
    {
     "data": {
      "text/html": [
       "<div>\n",
       "<style scoped>\n",
       "    .dataframe tbody tr th:only-of-type {\n",
       "        vertical-align: middle;\n",
       "    }\n",
       "\n",
       "    .dataframe tbody tr th {\n",
       "        vertical-align: top;\n",
       "    }\n",
       "\n",
       "    .dataframe thead th {\n",
       "        text-align: right;\n",
       "    }\n",
       "</style>\n",
       "<table border=\"1\" class=\"dataframe\">\n",
       "  <thead>\n",
       "    <tr style=\"text-align: right;\">\n",
       "      <th></th>\n",
       "      <th>Barcode</th>\n",
       "    </tr>\n",
       "  </thead>\n",
       "  <tbody>\n",
       "    <tr>\n",
       "      <th>0</th>\n",
       "      <td>HR40042121</td>\n",
       "    </tr>\n",
       "    <tr>\n",
       "      <th>1</th>\n",
       "      <td>02085863</td>\n",
       "    </tr>\n",
       "    <tr>\n",
       "      <th>2</th>\n",
       "      <td>03130885</td>\n",
       "    </tr>\n",
       "    <tr>\n",
       "      <th>3</th>\n",
       "      <td>02076508</td>\n",
       "    </tr>\n",
       "    <tr>\n",
       "      <th>4</th>\n",
       "      <td>1034139759</td>\n",
       "    </tr>\n",
       "  </tbody>\n",
       "</table>\n",
       "</div>"
      ],
      "text/plain": [
       "      Barcode\n",
       "0  HR40042121\n",
       "1    02085863\n",
       "2    03130885\n",
       "3    02076508\n",
       "4  1034139759"
      ]
     },
     "execution_count": 41,
     "metadata": {},
     "output_type": "execute_result"
    }
   ],
   "source": [
    "df.head()"
   ]
  },
  {
   "cell_type": "markdown",
   "id": "a819eb2f",
   "metadata": {},
   "source": [
    "### Récupérer l'item policy\n",
    "Documentation Alma:\n",
    "* Récupérer les données d'un exemplaire: https://developers.exlibrisgroup.com/alma/apis/docs/bibs/R0VUIC9hbG1hd3MvdjEvYmlicy97bW1zX2lkfS9ob2xkaW5ncy97aG9sZGluZ19pZH0vaXRlbXMve2l0ZW1fcGlkfQ==/\n",
    "* Modifier un exemplaire: https://developers.exlibrisgroup.com/alma/apis/docs/bibs/UFVUIC9hbG1hd3MvdjEvYmlicy97bW1zX2lkfS9ob2xkaW5ncy97aG9sZGluZ19pZH0vaXRlbXMve2l0ZW1fcGlkfQ==/\n",
    "* Récupérer les données d'une holding: https://developers.exlibrisgroup.com/alma/apis/docs/bibs/R0VUIC9hbG1hd3MvdjEvYmlicy97bW1zX2lkfS9ob2xkaW5ncy97aG9sZGluZ19pZH0=/\n",
    "* Modifier une holding: https://developers.exlibrisgroup.com/alma/apis/docs/bibs/UFVUIC9hbG1hd3MvdjEvYmlicy97bW1zX2lkfS9ob2xkaW5ncy97aG9sZGluZ19pZH0=/"
   ]
  },
  {
   "cell_type": "code",
   "execution_count": 48,
   "id": "725cc167",
   "metadata": {},
   "outputs": [],
   "source": [
    "# Clé Sandbox en lecture et écriture pour les ressources bibliographiques\n",
    "with open(PATH_TO_SECRETS + 'API_KEY_ITEMS_SB') as f:\n",
    "    # Il faut utiliser \"strip\" pour supprimer le saut de ligne à la fin\n",
    "    API_KEY_BIB_SB = f.read().strip()\n",
    "\n",
    "# URL de base de l'api des utilisateurs dans Alma\n",
    "API_ITEM_URL = 'https://api-eu.hosted.exlibrisgroup.com/almaws/v1/items'\n",
    "# En-têtes de la futur requête\n",
    "# Définit notamment le format de la réponse\n",
    "HEADERS = {'content-type': 'application/json',\n",
    "           'accept': 'application/json',\n",
    "           'Authorization': 'apikey ' + API_KEY_BIB_SB}"
   ]
  },
  {
   "cell_type": "code",
   "execution_count": 49,
   "id": "5a86d1e3",
   "metadata": {},
   "outputs": [
    {
     "data": {
      "text/plain": [
       "{'value': '21', 'desc': '21 Loan 14 days'}"
      ]
     },
     "execution_count": 49,
     "metadata": {},
     "output_type": "execute_result"
    }
   ],
   "source": [
    "# Récupération de la cote en fonction du code-barre\n",
    "barcode = 'HR40042121'\n",
    "r1 = requests.get(API_ITEM_URL, params={'item_barcode': barcode}, headers=HEADERS)\n",
    "\n",
    "data1 = r1.json()\n",
    "data1['item_data']['policy']"
   ]
  },
  {
   "cell_type": "markdown",
   "id": "193d4ab8",
   "metadata": {},
   "source": [
    "### Modifier l'item policy\n",
    "Note: le plus simple est de remplacer le dictionnaire de l'item policy par un nouveau qui ne comporte que\n",
    "\"value\". Le champ \"desc\" est facultatif pour effectuer une modification."
   ]
  },
  {
   "cell_type": "code",
   "execution_count": 50,
   "id": "cfa822db",
   "metadata": {},
   "outputs": [],
   "source": [
    "data1['item_data']['policy'] = {'value': '21'}\n",
    "url = data1['link']"
   ]
  },
  {
   "cell_type": "code",
   "execution_count": 51,
   "id": "47e62cb7",
   "metadata": {},
   "outputs": [
    {
     "data": {
      "text/plain": [
       "{'value': '01', 'desc': '01 Loan 28 days'}"
      ]
     },
     "execution_count": 51,
     "metadata": {},
     "output_type": "execute_result"
    }
   ],
   "source": [
    "r2 = requests.put(url, headers=HEADERS, data=json.dumps(data1))\n",
    "data2 = r2.json()\n",
    "data2['item_data']['policy']"
   ]
  },
  {
   "cell_type": "markdown",
   "id": "5c3c599e",
   "metadata": {},
   "source": [
    "## Exercice avancé\n",
    "Le but de cet exercice est d'interroger l'API swisscovery pour récupérer tous les user groups\n",
    "des participants du cours.\n",
    "\n",
    "Quand il ne sont pas inscris, afficher \"NO ACCOUNT\".\n",
    "\n",
    "La liste des participants se trouve dans les \"Secrets\".\n",
    "\n",
    "LA documentation de l'API se trouve ici: https://developers.exlibrisgroup.com/alma/apis/users/\n",
    "\n",
    "Pour réussir cette opération, il faut effectuer deux requêtes:\n",
    "1. Rechercher l'utilisateur par email: https://developers.exlibrisgroup.com/alma/apis/docs/users/R0VUIC9hbG1hd3MvdjEvdXNlcnM=/\n",
    "2. Recupérer le primary_id et rechercher les détails de l'utilisateur: https://developers.exlibrisgroup.com/alma/apis/docs/users/R0VUIC9hbG1hd3MvdjEvdXNlcnMve3VzZXJfaWR9/\n",
    "3. Récupérer le user_group"
   ]
  },
  {
   "cell_type": "markdown",
   "id": "9f8381b2",
   "metadata": {},
   "source": [
    "### Solution simple avec \"apply\"\n",
    "Créer une fonction qui récupère le user_group à partir de l'email\n",
    "puis créer une nouvelle colonne en utilisant \"apply\""
   ]
  },
  {
   "cell_type": "code",
   "execution_count": 6,
   "id": "f1986b19",
   "metadata": {},
   "outputs": [],
   "source": [
    "# Créer un DataFrame en récupérant les la liste des participants dans les secrets\n",
    "df = pd.read_csv(PATH_TO_SECRETS + 'participants.csv')"
   ]
  },
  {
   "cell_type": "code",
   "execution_count": 7,
   "id": "2b10137f",
   "metadata": {},
   "outputs": [],
   "source": [
    "# Clé NZ en lecture pour les utilisateurs\n",
    "with open(PATH_TO_SECRETS + 'API_KEY_USERS_NZ') as f:\n",
    "    API_KEY_USERS_NZ = f.read().strip()\n",
    "\n",
    "# URL de base de l'api des utilisateurs dans Alma\n",
    "API_BASE_URL = 'https://api-eu.hosted.exlibrisgroup.com/almaws/v1/users/'\n",
    "\n",
    "# En-têtes de la futur requête\n",
    "# Définit notamment le format de la réponse\n",
    "HEADERS = {'content-type': 'application/json',\n",
    "           'accept': 'application/json',\n",
    "           'Authorization': 'apikey ' + API_KEY_USERS_NZ}\n",
    "\n",
    "def get_user_group_from_email(email):\n",
    "    # Il faut interroger l'API en faisant une requête avec le paramètre \"q\"\n",
    "    r1 = requests.get(API_BASE_URL, params={'q': f'email~{email}'}, headers=HEADERS)\n",
    "    \n",
    "    # r1.ok vaut True si la requête a retourné un code de réponse inférieur à 400\n",
    "    if r1.ok is not True:\n",
    "        return 'ERROR'\n",
    "    \n",
    "    data = r1.json()\n",
    "    \n",
    "    # S'il n'y a pas d'utilisateur, il n'y aura pas de clé \"user\".\n",
    "    # Une exception \"KeyError\" sera générée et interceptée\n",
    "    try:\n",
    "        link = data['user'][0]['link']\n",
    "    except KeyError:\n",
    "        return 'NO ACCOUNT'\n",
    "    \n",
    "    r2 = requests.get(link, headers=HEADERS)\n",
    "    if r2.ok is not True:\n",
    "        return 'ERROR'\n",
    "    \n",
    "    try:\n",
    "        user_group = r2.json()['user_group']['desc'].strip()\n",
    "        \n",
    "    except KeyError:\n",
    "        user_group = ''\n",
    "    \n",
    "    return user_group\n",
    "\n",
    "# Crée une colonne à l'aide d'apply\n",
    "df['User group'] = df['Email'].apply(get_user_group_from_email)"
   ]
  },
  {
   "cell_type": "markdown",
   "id": "7ee4e249",
   "metadata": {},
   "source": [
    "**Remarque importante**\n",
    "Ne jamais faire ainsi sur de grands sets de données.\n",
    "\n",
    "Si le programme plante, tout le traitement serait perdu.\n",
    "\n",
    "Si le set n'est pas trop grand, on peut itérer avec iterrows et\n",
    "enregistrer les résultats au fur et à mesure dans un nouveau\n",
    "DataFrame."
   ]
  },
  {
   "cell_type": "markdown",
   "id": "1537e9ca",
   "metadata": {},
   "source": [
    "### Solution plus complexe avec \"iterrows\"\n",
    "Le but cette fois-ci est d'enregistrer un nouveau DataFrame après le traitement\n",
    "de chaque ligne. \"iterrows\" permet de parcourir les lignes d'un DataFrame, mais il ne faut\n",
    "pas le modifer lorsqu'on le parcourt.\n",
    "\n",
    "Il faut donc créer un nouveau DataFrame et l'enregistrer à chaque itération.\n",
    "\n",
    "Si le programme plante, on pourra ainsi récupérer le travail déjà effectué."
   ]
  },
  {
   "cell_type": "code",
   "execution_count": 10,
   "id": "362483e4",
   "metadata": {},
   "outputs": [],
   "source": [
    "df = pd.read_csv(PATH_TO_SECRETS + 'participants.csv')\n",
    "d_temp = pd.DataFrame(columns=['Email', 'User group'])\n",
    "\n",
    "for row in df.iterrows():\n",
    "    # iterrows retourne des \"Tuple\" de type (<numéro_ligne>, {<colonne_B>: <valeur>})\n",
    "    email = row[1]['Email']\n",
    "    user_group = get_user_group_from_email(email)\n",
    "    d_temp.loc[len(d_temp)] = [email, user_group]\n",
    "    d_temp.to_csv('Resultat/participants_ave_user_group.csv')"
   ]
  },
  {
   "cell_type": "code",
   "execution_count": 13,
   "id": "253a0569",
   "metadata": {},
   "outputs": [
    {
     "data": {
      "text/html": [
       "<div>\n",
       "<style scoped>\n",
       "    .dataframe tbody tr th:only-of-type {\n",
       "        vertical-align: middle;\n",
       "    }\n",
       "\n",
       "    .dataframe tbody tr th {\n",
       "        vertical-align: top;\n",
       "    }\n",
       "\n",
       "    .dataframe thead th {\n",
       "        text-align: right;\n",
       "    }\n",
       "</style>\n",
       "<table border=\"1\" class=\"dataframe\">\n",
       "  <thead>\n",
       "    <tr style=\"text-align: right;\">\n",
       "      <th></th>\n",
       "      <th>Email</th>\n",
       "      <th>User group</th>\n",
       "    </tr>\n",
       "  </thead>\n",
       "  <tbody>\n",
       "    <tr>\n",
       "      <th>0</th>\n",
       "      <td>myriam.benichou@unige.ch</td>\n",
       "      <td>UNIGE-Staff, Student</td>\n",
       "    </tr>\n",
       "    <tr>\n",
       "      <th>1</th>\n",
       "      <td>raphael.grolimund@hesge.ch</td>\n",
       "      <td>Academic Staff</td>\n",
       "    </tr>\n",
       "    <tr>\n",
       "      <th>2</th>\n",
       "      <td>romain.guedj@fr.ch</td>\n",
       "      <td>NO ACCOUNT</td>\n",
       "    </tr>\n",
       "    <tr>\n",
       "      <th>3</th>\n",
       "      <td>jules.guemara@ville-ge.ch</td>\n",
       "      <td>Swiss Resident</td>\n",
       "    </tr>\n",
       "  </tbody>\n",
       "</table>\n",
       "</div>"
      ],
      "text/plain": [
       "                        Email            User group\n",
       "0    myriam.benichou@unige.ch  UNIGE-Staff, Student\n",
       "1  raphael.grolimund@hesge.ch        Academic Staff\n",
       "2          romain.guedj@fr.ch            NO ACCOUNT\n",
       "3   jules.guemara@ville-ge.ch        Swiss Resident"
      ]
     },
     "execution_count": 13,
     "metadata": {},
     "output_type": "execute_result"
    }
   ],
   "source": [
    "# Ici cela ne fait pas de sens mais ensuite l'idée serait d'utiliser \"merge\" pour fusionner\n",
    "# les deux tables sur la base d'un identifiant unique\n",
    "d_temp = d_temp.loc[:3]\n",
    "d_temp"
   ]
  },
  {
   "cell_type": "code",
   "execution_count": 14,
   "id": "c2f10ff3",
   "metadata": {},
   "outputs": [
    {
     "name": "stdout",
     "output_type": "stream",
     "text": [
      "1 / 10: \"myriam.benichou@unige.ch\" passé\n",
      "2 / 10: \"raphael.grolimund@hesge.ch\" passé\n",
      "3 / 10: \"romain.guedj@fr.ch\" passé\n",
      "4 / 10: \"jules.guemara@ville-ge.ch\" passé\n",
      "5 / 10: traitement \"jasmin.huegi@unige.ch\"\n",
      "6 / 10: traitement \"johan.mottet@gmail.com\"\n",
      "7 / 10: traitement \"gregoire.savary@hefr.ch\"\n",
      "8 / 10: traitement \"gabrielle.segev@unige.ch\"\n",
      "9 / 10: traitement \"jeremie.theodoloz@ville-ge.ch\"\n",
      "10 / 10: traitement \"maaike.vautier@bcu.unil.ch\"\n"
     ]
    }
   ],
   "source": [
    "# Variante pour reprendre un processus en cours\n",
    "df = pd.read_csv(PATH_TO_SECRETS + 'participants.csv')\n",
    "\n",
    "# Au moment de l'enregistrement en csv, on a laissé l'index. Il faut donc mettre\n",
    "# la première colonne en tant qu'index.\n",
    "d_temp = pd.read_csv('Resultat/participants_ave_user_group.csv', index_col=0)\n",
    "d_temp = d_temp.loc[:3]\n",
    "\n",
    "for row in df.iterrows():\n",
    "    \n",
    "    # \"continue\" permet de passer directement à l'itération suivante\n",
    "    if row[0] < len(d_temp):\n",
    "        print(f'{row[0] + 1} / {len(df)}: \"{row[1][\"Email\"]}\" passé')\n",
    "        continue\n",
    "    \n",
    "    # Essentiel de faire des logs\n",
    "    print(f'{row[0] + 1} / {len(df)}: traitement \"{row[1][\"Email\"]}\"')\n",
    "    \n",
    "    email = row[1]['Email']\n",
    "    user_group = get_user_group_from_email(email)\n",
    "    \n",
    "    # Motif très important pour ajouter une nouvelle ligne\n",
    "    # à un DataFrame. Cela fonctionne seulement si on a\n",
    "    # laissé l'index avec le numéro des lignes (comme\n",
    "    # c'est le cas par défaut). Dans le cas contraire, il\n",
    "    # faut mettre à la place du rang une valeur unique\n",
    "    # d'index\n",
    "    d_temp.loc[len(d_temp)] = [email, user_group]\n",
    "    \n",
    "    d_temp.to_csv('Resultat/participants_ave_user_group.csv')"
   ]
  },
  {
   "cell_type": "code",
   "execution_count": 27,
   "id": "89bb9975",
   "metadata": {},
   "outputs": [
    {
     "data": {
      "text/html": [
       "<div>\n",
       "<style scoped>\n",
       "    .dataframe tbody tr th:only-of-type {\n",
       "        vertical-align: middle;\n",
       "    }\n",
       "\n",
       "    .dataframe tbody tr th {\n",
       "        vertical-align: top;\n",
       "    }\n",
       "\n",
       "    .dataframe thead th {\n",
       "        text-align: right;\n",
       "    }\n",
       "</style>\n",
       "<table border=\"1\" class=\"dataframe\">\n",
       "  <thead>\n",
       "    <tr style=\"text-align: right;\">\n",
       "      <th></th>\n",
       "      <th>Email</th>\n",
       "      <th>User group</th>\n",
       "    </tr>\n",
       "  </thead>\n",
       "  <tbody>\n",
       "    <tr>\n",
       "      <th>0</th>\n",
       "      <td>myriam.benichou@unige.ch</td>\n",
       "      <td>UNIGE-Staff, Student</td>\n",
       "    </tr>\n",
       "    <tr>\n",
       "      <th>1</th>\n",
       "      <td>raphael.grolimund@hesge.ch</td>\n",
       "      <td>Academic Staff</td>\n",
       "    </tr>\n",
       "    <tr>\n",
       "      <th>2</th>\n",
       "      <td>romain.guedj@fr.ch</td>\n",
       "      <td>NO ACCOUNT</td>\n",
       "    </tr>\n",
       "    <tr>\n",
       "      <th>3</th>\n",
       "      <td>jules.guemara@ville-ge.ch</td>\n",
       "      <td>Swiss Resident</td>\n",
       "    </tr>\n",
       "    <tr>\n",
       "      <th>4</th>\n",
       "      <td>jasmin.huegi@unige.ch</td>\n",
       "      <td>UNIGE-Staff, Student</td>\n",
       "    </tr>\n",
       "    <tr>\n",
       "      <th>5</th>\n",
       "      <td>johan.mottet@gmail.com</td>\n",
       "      <td>NO ACCOUNT</td>\n",
       "    </tr>\n",
       "    <tr>\n",
       "      <th>6</th>\n",
       "      <td>gregoire.savary@hefr.ch</td>\n",
       "      <td>Academic Staff</td>\n",
       "    </tr>\n",
       "    <tr>\n",
       "      <th>7</th>\n",
       "      <td>gabrielle.segev@unige.ch</td>\n",
       "      <td>UNIGE-Staff, Student</td>\n",
       "    </tr>\n",
       "    <tr>\n",
       "      <th>8</th>\n",
       "      <td>jeremie.theodoloz@ville-ge.ch</td>\n",
       "      <td>NO ACCOUNT</td>\n",
       "    </tr>\n",
       "    <tr>\n",
       "      <th>9</th>\n",
       "      <td>maaike.vautier@bcu.unil.ch</td>\n",
       "      <td>Swiss Resident</td>\n",
       "    </tr>\n",
       "  </tbody>\n",
       "</table>\n",
       "</div>"
      ],
      "text/plain": [
       "                           Email            User group\n",
       "0       myriam.benichou@unige.ch  UNIGE-Staff, Student\n",
       "1     raphael.grolimund@hesge.ch        Academic Staff\n",
       "2             romain.guedj@fr.ch            NO ACCOUNT\n",
       "3      jules.guemara@ville-ge.ch        Swiss Resident\n",
       "4          jasmin.huegi@unige.ch  UNIGE-Staff, Student\n",
       "5         johan.mottet@gmail.com            NO ACCOUNT\n",
       "6        gregoire.savary@hefr.ch        Academic Staff\n",
       "7       gabrielle.segev@unige.ch  UNIGE-Staff, Student\n",
       "8  jeremie.theodoloz@ville-ge.ch            NO ACCOUNT\n",
       "9     maaike.vautier@bcu.unil.ch        Swiss Resident"
      ]
     },
     "execution_count": 27,
     "metadata": {},
     "output_type": "execute_result"
    }
   ],
   "source": [
    "d_temp"
   ]
  },
  {
   "cell_type": "code",
   "execution_count": null,
   "id": "a4a03efc",
   "metadata": {},
   "outputs": [],
   "source": []
  }
 ],
 "metadata": {
  "kernelspec": {
   "display_name": "Python 3 (ipykernel)",
   "language": "python",
   "name": "python3"
  },
  "language_info": {
   "codemirror_mode": {
    "name": "ipython",
    "version": 3
   },
   "file_extension": ".py",
   "mimetype": "text/x-python",
   "name": "python",
   "nbconvert_exporter": "python",
   "pygments_lexer": "ipython3",
   "version": "3.9.7"
  }
 },
 "nbformat": 4,
 "nbformat_minor": 5
}
