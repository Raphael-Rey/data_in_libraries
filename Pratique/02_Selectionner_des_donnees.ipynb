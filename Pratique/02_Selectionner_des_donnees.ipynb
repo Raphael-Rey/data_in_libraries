{
 "cells": [
  {
   "cell_type": "markdown",
   "id": "e369d757",
   "metadata": {},
   "source": [
    "# 2. Sélectionner des données"
   ]
  },
  {
   "cell_type": "markdown",
   "id": "aba2588e",
   "metadata": {},
   "source": [
    "## iloc\n",
    "```python\n",
    "df.iloc[1000:1020,1:6] # Retourne un Dataframe\n",
    "df.iloc[3,4] # Retourne une valeur\n",
    "df.iloc[1000] # Retourne une série pour une ligne du dataframe\n",
    "df.iloc[:,3] # Retourne une série\n",
    "df.iloc[:,[1, 3, 4]] # Retourne un Dataframe\n",
    "```\n",
    "\n",
    "## loc\n",
    "```python\n",
    "df.loc['nom_ligne'] # Retourne une série pour une ligne du dataframe\n",
    "df.loc['nom_ligne', 'nom_colonne'] # Retourne une valeur\n",
    "df.loc[:, ['nom_colonne_A', 'nom_colonne_B']] # Retourne un dataframe\n",
    "```\n",
    "\n",
    "## Analyser des séries\n",
    "```python\n",
    "df['nom_colonne'].unique() # Retourne les valeurs uniques d'une colonne\n",
    "df['nom_colonne'].nunique() # Retourne le nombre de valeurs uniques\n",
    "df['nom_colonne'].value_counts() # Retourne le nombre d'observations des valeurs\n",
    "df['nom_colonne'].count() # Retourne le nombre de valeurs existantes\n",
    "\n",
    "```\n",
    "\n",
    "## Filtrer des dataframes\n",
    "```python\n",
    "# Ne conserve que les lignes où la colonne présente valeur_déterminee\n",
    "df.loc[df['nom_colonne']=='valeur_determinee']\n",
    "\n",
    "# Ne conserve que les lignes où la colonne présente une valeur incluse dans la liste\n",
    "df.loc[df['nom_colonne'].isin(['valeur_determinee_A', 'valeur_determinee_B'])]\n",
    "\n",
    "# Conserve les ligne où la colonne ne comporte pas une valeur de la liste\n",
    "df.loc[~df['nom_colonne'].isin(['valeur_determinee_A', 'valeur_determinee_B'])]\n",
    "\n",
    "# Conserve les ligne où la colonne contient chaine_caracteres\n",
    "df[df['nom_colonne'].str.contains('chaine_caracteres')]\n",
    "\n",
    "# Sélection avec plusieurs conditions. Faire attention aux parenthèses ('&' pour 'and' et '|' pour 'or')\n",
    "df[(df['nom_colonne_A'].str.contains('chaine_caracteres'))&\n",
    "   (df['nom_colonne_B'].str.contains('chaine_caracteres'))] \n",
    "```\n",
    "\n",
    "## Définir un index\n",
    "```python\n",
    "df.set_index('nom_colonne') # Transforme une colonne en index\n",
    "df.reset_index() # Transforme l'index en colonne\n",
    "```"
   ]
  },
  {
   "cell_type": "code",
   "execution_count": null,
   "id": "d7a9f06f",
   "metadata": {},
   "outputs": [],
   "source": [
    "# Importer les bibliothèques essentielles\n",
    "import pandas as pd\n",
    "import numpy as np\n",
    "import seaborn as sns\n",
    "import matplotlib.pyplot as plt\n",
    "\n",
    "# Afficher toutes les colonnes\n",
    "pd.set_option('display.max_columns', None)"
   ]
  },
  {
   "cell_type": "code",
   "execution_count": null,
   "id": "665203cf",
   "metadata": {},
   "outputs": [],
   "source": [
    "# Chargement des données\n",
    "df = pd.read_csv('Data/items.csv', dtype=str)"
   ]
  },
  {
   "cell_type": "code",
   "execution_count": null,
   "id": "041759b4",
   "metadata": {},
   "outputs": [],
   "source": [
    "# Affichage des dix premières lignes\n",
    "df.head(10)"
   ]
  },
  {
   "cell_type": "code",
   "execution_count": null,
   "id": "4a34759a",
   "metadata": {},
   "outputs": [],
   "source": [
    "df.columns"
   ]
  },
  {
   "cell_type": "markdown",
   "id": "2ea71818",
   "metadata": {},
   "source": [
    "## Sélection via iloc (indice numérique)\n",
    "`iloc` permet de sélectionner des éléments en fonction d'indices numériques"
   ]
  },
  {
   "cell_type": "code",
   "execution_count": null,
   "id": "b52983a5",
   "metadata": {},
   "outputs": [],
   "source": [
    "# Affichage des lignes 1000 à 1019, mais uniquement les colonnes 1 à 5\n",
    "# A noter que la premère ligne et la première colonne ont le rang 0\n",
    "df.iloc[1000:1020,1:6]"
   ]
  },
  {
   "cell_type": "code",
   "execution_count": null,
   "id": "9112a428",
   "metadata": {},
   "outputs": [],
   "source": [
    "# Affichage des lignes 900 à 902, mais uniquement les 6 premières colonnes (0 à 5)\n",
    "df.iloc[900:903,:6]"
   ]
  },
  {
   "cell_type": "markdown",
   "id": "62dd579a",
   "metadata": {},
   "source": [
    "## Sélection par nom de colonne"
   ]
  },
  {
   "cell_type": "code",
   "execution_count": null,
   "id": "f79ce384",
   "metadata": {},
   "outputs": [],
   "source": [
    "colonnes_to_select = ['MMS ID', 'Holdings ID', 'Barcode', 'Permanent Location', 'Call Number', 'Material Type', 'Item Policy', 'Title']\n",
    "\n",
    "# Sélectionne seulement les colonnes définies et fait une vraie copie des données\n",
    "# => si on modifie dg, df ne sera pas modifié\n",
    "dg = df[colonnes_to_select].copy()\n",
    "\n",
    "# Affiche les trois premières lignes de dg\n",
    "dg.head(3)"
   ]
  },
  {
   "cell_type": "markdown",
   "id": "d1ab14ac",
   "metadata": {},
   "source": [
    "## Sélection via loc (par nom des colonnes et de l'index)\n",
    "`loc` permet de sélectionner en recourant au nom de la colonne. Cela rend en général le code beaucoup plus compréhensible."
   ]
  },
  {
   "cell_type": "code",
   "execution_count": null,
   "id": "33877c25",
   "metadata": {},
   "outputs": [],
   "source": [
    "# Définir une colonne en tant qu'index\n",
    "# => il faut en principe une colonne avec des valeurs uniques\n",
    "\n",
    "# Décommenter pour voir ce qui se passe en cas de doublon\n",
    "# dg.loc[1, 'Barcode'] = 'HPH000001003'\n",
    "\n",
    "# Affiche le nombre de codes-barres total\n",
    "print(len(dg['Barcode']))\n",
    "print(dg['Barcode'].count())\n",
    "\n",
    "# Affiche le nombre de codes-barres uniques\n",
    "print(dg['Barcode'].nunique())\n",
    "\n",
    "# dg['Barcode'].unique() renvoie la liste de tous les codes-barres uniques,\n",
    "# si on considère la longueur de la liste, on aura la même chose que dg['Barcode'].nunique() \n",
    "print(len(dg['Barcode'].unique()))\n",
    "\n",
    "# => les codes-barres sont bien uniques"
   ]
  },
  {
   "cell_type": "code",
   "execution_count": null,
   "id": "eaca5ef3",
   "metadata": {},
   "outputs": [],
   "source": [
    "dh = dg.set_index('Barcode')\n",
    "dh.head()"
   ]
  },
  {
   "cell_type": "code",
   "execution_count": null,
   "id": "8099b8b8",
   "metadata": {},
   "outputs": [],
   "source": [
    "dh.loc['HPH000001005':'03138420', ['Call Number', 'Title']]"
   ]
  },
  {
   "cell_type": "code",
   "execution_count": null,
   "id": "bb45484d",
   "metadata": {},
   "outputs": [],
   "source": [
    "dh.loc['HPH000001005':'03138420', 'Call Number':'Title']"
   ]
  },
  {
   "cell_type": "code",
   "execution_count": null,
   "id": "0ede1b95",
   "metadata": {},
   "outputs": [],
   "source": [
    "dh.loc['HPH000001005']"
   ]
  },
  {
   "cell_type": "code",
   "execution_count": null,
   "id": "15fd57f9",
   "metadata": {},
   "outputs": [],
   "source": [
    "dh.loc[:, 'Item Policy']"
   ]
  },
  {
   "cell_type": "markdown",
   "id": "dc72156e",
   "metadata": {},
   "source": [
    "## Filtrer un dataframe"
   ]
  },
  {
   "cell_type": "code",
   "execution_count": null,
   "id": "208ad75a",
   "metadata": {},
   "outputs": [],
   "source": [
    "# Lister les localisations\n",
    "dh['Permanent Location'].value_counts()"
   ]
  },
  {
   "cell_type": "code",
   "execution_count": null,
   "id": "824bd6e7",
   "metadata": {},
   "outputs": [],
   "source": [
    "# Sélectionner unique la localisation 'BE HEP Jeux'\n",
    "dh.loc[dh['Permanent Location']=='BE HEP Jeux']"
   ]
  },
  {
   "cell_type": "code",
   "execution_count": null,
   "id": "19d58bbb",
   "metadata": {},
   "outputs": [],
   "source": [
    "dh['Permanent Location']=='BE HEP Jeux'"
   ]
  },
  {
   "cell_type": "code",
   "execution_count": null,
   "id": "c1849839",
   "metadata": {},
   "outputs": [],
   "source": [
    "(dh['Permanent Location']=='BE HEP Jeux').value_counts()"
   ]
  },
  {
   "cell_type": "code",
   "execution_count": null,
   "id": "19b06c5f",
   "metadata": {},
   "outputs": [],
   "source": [
    "# Sélectionner tous les exemplaires avec une localisation contenant 'BE HEP'\n",
    "dh.loc[dh['Permanent Location'].str.contains('BE HEP')]\n",
    "\n",
    "# Ne pas oublier '.str.'\n",
    "# Il existe aussi '.str.startswith' ou 'endswith'"
   ]
  },
  {
   "cell_type": "code",
   "execution_count": null,
   "id": "5bf4999d",
   "metadata": {},
   "outputs": [],
   "source": [
    "# Sélectionner tous les exemplaires appartenant à une liste de localisations\n",
    "dh.loc[dh['Permanent Location'].isin(['BE HEP Séries de livres', 'BE HEP Littérature jeunesse'])]"
   ]
  },
  {
   "cell_type": "code",
   "execution_count": null,
   "id": "5a369611",
   "metadata": {},
   "outputs": [],
   "source": [
    "# Transforme l'index en colonne\n",
    "dh = dh.reset_index()\n",
    "dh.head()"
   ]
  },
  {
   "cell_type": "code",
   "execution_count": null,
   "id": "4b81d152",
   "metadata": {},
   "outputs": [],
   "source": [
    "dh.to_csv('Resultat/items_reduced.csv', index=False)"
   ]
  },
  {
   "cell_type": "code",
   "execution_count": null,
   "id": "5629b79d",
   "metadata": {},
   "outputs": [],
   "source": []
  }
 ],
 "metadata": {
  "kernelspec": {
   "display_name": "Python 3 (ipykernel)",
   "language": "python",
   "name": "python3"
  },
  "language_info": {
   "codemirror_mode": {
    "name": "ipython",
    "version": 3
   },
   "file_extension": ".py",
   "mimetype": "text/x-python",
   "name": "python",
   "nbconvert_exporter": "python",
   "pygments_lexer": "ipython3",
   "version": "3.9.7"
  }
 },
 "nbformat": 4,
 "nbformat_minor": 5
}
