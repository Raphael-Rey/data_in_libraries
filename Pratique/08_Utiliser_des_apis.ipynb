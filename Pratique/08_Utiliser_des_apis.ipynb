{
 "cells": [
  {
   "cell_type": "markdown",
   "id": "e369d757",
   "metadata": {},
   "source": [
    "# 8. Utiliser des APIs"
   ]
  },
  {
   "cell_type": "markdown",
   "id": "aba2588e",
   "metadata": {},
   "source": [
    "## Lire un fichier\n",
    "### Lecture de l'intégralité du fichier en une seule chaîne de caractères\n",
    "```python\n",
    "with open(path_to_file) as f:\n",
    "    file_content = f.read()\n",
    "```\n",
    "\n",
    "### Lecture du fichier dans une liste de chaines de caractères (1 par ligne)\n",
    "```python\n",
    "with open(path_to_file) as f:\n",
    "    file_lines = f.readlines()\n",
    "```\n",
    "Souvent il faut nettoyer les données en supprimant par exemple les sauts de ligne non désirés par exemple.\n",
    "\n",
    "## requests\n",
    "### Méthode get\n",
    "```python\n",
    "import requests\n",
    "\n",
    "# URL de base de l'api des utilisateurs dans Alma\n",
    "API_URL = 'https://api-eu.hosted.exlibrisgroup.com/almaws/v1/items'\n",
    "HEADERS = {'content-type': 'application/json',\n",
    "           'accept': 'application/json',\n",
    "           'Authorization': 'apikey ' + API_KEY_BIB_SB}\n",
    "r = requests.get(API_ITEM_URL, params={'item_barcode': 'HR40042121'}, headers=HEADERS)\n",
    "r.json()\n",
    "```\n",
    "\n",
    "### Méthode put\n",
    "```python\n",
    "import requests\n",
    "\n",
    "# URL de base de l'api des utilisateurs dans Alma\n",
    "API_URL = 'https://api-eu.hosted.exlibrisgroup.com/almaws/v1/items'\n",
    "HEADERS = {'content-type': 'application/json',\n",
    "           'accept': 'application/json',\n",
    "           'Authorization': 'apikey ' + API_KEY_BIB_SB}\n",
    "data = json.dumps(json_data)\n",
    "r = requests.put(API_ITEM_URL, params=params, headers=HEADERS, data=data)\n",
    "r.json()\n",
    "```\n",
    "\n",
    "### Exemple avec du xml\n",
    "Dans Alma, pour modifier les holdings (et les notices bibliographiques), il est nécessaire de passer par du XML.\n",
    "```python\n",
    "from lxml import etree\n",
    "import requests\n",
    "\n",
    "API_KEY = 'API_KEY'\n",
    "HEADERS = {'content-type': 'application/xml',\n",
    "           'accept': 'application/xml',\n",
    "           'Authorization': 'apikey ' + API_KEY}\n",
    "url = f'https://api-eu.hosted.exlibrisgroup.com/almaws/v1/bibs/{mms_id}/holdings/{holding_id}'\n",
    "r1 = requests.get(url,\n",
    "                 headers=HEADERS)\n",
    "root = etree.XML(r1.text.encode('utf-8'))\n",
    "root.find('.//datafield[@tag=\"852\"]/subfield[@code=\"h\"]').text = 'New Callnumber'\n",
    "data = etree.tostring(root).decode('utf-8')\n",
    "r2 = requests.put(url,\n",
    "                 headers=HEADERS,\n",
    "                 data=data)\n",
    "\n",
    "root = etree.XML(r2.text.encode('utf-8'))\n",
    "root.find('.//datafield[@tag=\"852\"]/subfield[@code=\"h\"]').text\n",
    "```"
   ]
  },
  {
   "cell_type": "code",
   "execution_count": 6,
   "id": "d7a9f06f",
   "metadata": {},
   "outputs": [],
   "source": [
    "# Importer les bibliothèques essentielles\n",
    "import pandas as pd\n",
    "import numpy as np\n",
    "import seaborn as sns\n",
    "import matplotlib.pyplot as plt\n",
    "import requests\n",
    "import json\n",
    "from lxml import etree\n",
    "\n",
    "PATH_TO_SECRETS = '../Secrets/'\n",
    "\n",
    "# Afficher toutes les colonnes\n",
    "pd.set_option('display.max_columns', None)"
   ]
  },
  {
   "cell_type": "markdown",
   "id": "40a33a17",
   "metadata": {},
   "source": [
    "### Récupération des données d'un exemplaire\n",
    "Documentation Alma:\n",
    "* Récupérer les données d'un exemplaire: https://developers.exlibrisgroup.com/alma/apis/docs/bibs/R0VUIC9hbG1hd3MvdjEvYmlicy97bW1zX2lkfS9ob2xkaW5ncy97aG9sZGluZ19pZH0vaXRlbXMve2l0ZW1fcGlkfQ==/\n",
    "* Modifier un exemplaire: https://developers.exlibrisgroup.com/alma/apis/docs/bibs/UFVUIC9hbG1hd3MvdjEvYmlicy97bW1zX2lkfS9ob2xkaW5ncy97aG9sZGluZ19pZH0vaXRlbXMve2l0ZW1fcGlkfQ==/\n",
    "* Récupérer les données d'une holding: https://developers.exlibrisgroup.com/alma/apis/docs/bibs/R0VUIC9hbG1hd3MvdjEvYmlicy97bW1zX2lkfS9ob2xkaW5ncy97aG9sZGluZ19pZH0=/\n",
    "* Modifier une holding: https://developers.exlibrisgroup.com/alma/apis/docs/bibs/UFVUIC9hbG1hd3MvdjEvYmlicy97bW1zX2lkfS9ob2xkaW5ncy97aG9sZGluZ19pZH0=/"
   ]
  },
  {
   "cell_type": "code",
   "execution_count": 5,
   "id": "8ec531c7",
   "metadata": {},
   "outputs": [],
   "source": [
    "# Clé Sandbox en lecture et écriture pour les ressources bibliographiques\n",
    "with open(PATH_TO_SECRETS + 'API_KEY_ITEMS_SB') as f:\n",
    "    # Il faut utiliser \"strip\" pour supprimer le saut de ligne à la fin\n",
    "    API_KEY_BIB_SB = f.read().strip()\n",
    "\n",
    "# URL de base de l'api des utilisateurs dans Alma\n",
    "API_ITEM_URL = 'https://api-eu.hosted.exlibrisgroup.com/almaws/v1/items'\n",
    "# En-têtes de la futur requête\n",
    "# Définit notamment le format de la réponse\n",
    "HEADERS = {'content-type': 'application/json',\n",
    "           'accept': 'application/json',\n",
    "           'Authorization': 'apikey ' + API_KEY_BIB_SB}"
   ]
  },
  {
   "cell_type": "code",
   "execution_count": 100,
   "id": "806fc650",
   "metadata": {},
   "outputs": [
    {
     "data": {
      "text/html": [
       "<div>\n",
       "<style scoped>\n",
       "    .dataframe tbody tr th:only-of-type {\n",
       "        vertical-align: middle;\n",
       "    }\n",
       "\n",
       "    .dataframe tbody tr th {\n",
       "        vertical-align: top;\n",
       "    }\n",
       "\n",
       "    .dataframe thead th {\n",
       "        text-align: right;\n",
       "    }\n",
       "</style>\n",
       "<table border=\"1\" class=\"dataframe\">\n",
       "  <thead>\n",
       "    <tr style=\"text-align: right;\">\n",
       "      <th></th>\n",
       "      <th>Barcode</th>\n",
       "    </tr>\n",
       "  </thead>\n",
       "  <tbody>\n",
       "    <tr>\n",
       "      <th>0</th>\n",
       "      <td>HR40042121</td>\n",
       "    </tr>\n",
       "    <tr>\n",
       "      <th>1</th>\n",
       "      <td>02085863</td>\n",
       "    </tr>\n",
       "    <tr>\n",
       "      <th>2</th>\n",
       "      <td>03130885</td>\n",
       "    </tr>\n",
       "    <tr>\n",
       "      <th>3</th>\n",
       "      <td>02076508</td>\n",
       "    </tr>\n",
       "    <tr>\n",
       "      <th>4</th>\n",
       "      <td>1034139759</td>\n",
       "    </tr>\n",
       "  </tbody>\n",
       "</table>\n",
       "</div>"
      ],
      "text/plain": [
       "      Barcode\n",
       "0  HR40042121\n",
       "1    02085863\n",
       "2    03130885\n",
       "3    02076508\n",
       "4  1034139759"
      ]
     },
     "execution_count": 100,
     "metadata": {},
     "output_type": "execute_result"
    }
   ],
   "source": [
    "df = pd.read_csv('Data/barcode_hph_sb.csv')\n",
    "df.head()"
   ]
  },
  {
   "cell_type": "code",
   "execution_count": 108,
   "id": "dcbdd80e",
   "metadata": {},
   "outputs": [],
   "source": [
    "# Récupération de la cote en fonction du code-barre\n",
    "r = requests.get(API_ITEM_URL, params={'item_barcode': 'HR40042121'}, headers=HEADERS)"
   ]
  },
  {
   "cell_type": "code",
   "execution_count": 109,
   "id": "a061e0d3",
   "metadata": {},
   "outputs": [
    {
     "data": {
      "text/plain": [
       "{'bib_data': {'mms_id': '991001605443905520',\n",
       "  'bib_suppress_from_publishing': 'false',\n",
       "  'title': 'Oxocard   - code, play and learn unterstützt die freien Blockly-, Python- und C++-Umgebungen :  lerne Animationen und Spiele zu programmieren',\n",
       "  'author': 'Garaio, Thomas',\n",
       "  'issn': None,\n",
       "  'isbn': None,\n",
       "  'complete_edition': '',\n",
       "  'network_number': ['(EXLNZ-41SLSP_NETWORK)991170842256805501'],\n",
       "  'place_of_publication': 'Liebefeld',\n",
       "  'date_of_publication': '2016-2019',\n",
       "  'publisher_const': 'Oxon',\n",
       "  'link': 'https://api-eu.hosted.exlibrisgroup.com/almaws/v1/bibs/991001605443905520'},\n",
       " 'holding_data': {'holding_id': '22105924500005520',\n",
       "  'holding_suppress_from_publishing': 'false',\n",
       "  'permanent_call_number_type': {'value': '1',\n",
       "   'desc': 'Dewey Decimal classification'},\n",
       "  'permanent_call_number': '681.41//056',\n",
       "  'call_number_type': {'value': '1', 'desc': 'Dewey Decimal classification'},\n",
       "  'call_number': '681.41//056',\n",
       "  'accession_number': '681.41//056',\n",
       "  'copy_id': '',\n",
       "  'in_temp_location': False,\n",
       "  'temp_library': {'value': None, 'desc': None},\n",
       "  'temp_location': {'value': None, 'desc': None},\n",
       "  'temp_call_number_type': {'value': '', 'desc': None},\n",
       "  'temp_call_number': '',\n",
       "  'temp_call_number_source': '',\n",
       "  'temp_policy': {'value': '', 'desc': None},\n",
       "  'link': 'https://api-eu.hosted.exlibrisgroup.com/almaws/v1/bibs/991001605443905520/holdings/22105924500005520'},\n",
       " 'item_data': {'pid': '23105924440005520',\n",
       "  'barcode': 'HR40042121',\n",
       "  'creation_date': '2022-01-17Z',\n",
       "  'modification_date': '2022-04-03Z',\n",
       "  'base_status': {'value': '1', 'desc': 'Item in place'},\n",
       "  'awaiting_reshelving': False,\n",
       "  'physical_material_type': {'value': 'EQUIP', 'desc': 'Equipment'},\n",
       "  'policy': {'value': '01', 'desc': '01 Loan 28 days'},\n",
       "  'provenance': {'value': '', 'desc': None},\n",
       "  'po_line': '',\n",
       "  'year_of_issue': '',\n",
       "  'enumeration_a': '',\n",
       "  'enumeration_b': '',\n",
       "  'enumeration_c': '',\n",
       "  'enumeration_d': '',\n",
       "  'enumeration_e': '',\n",
       "  'enumeration_f': '',\n",
       "  'enumeration_g': '',\n",
       "  'enumeration_h': '',\n",
       "  'chronology_i': '',\n",
       "  'chronology_j': '',\n",
       "  'chronology_k': '',\n",
       "  'chronology_l': '',\n",
       "  'chronology_m': '',\n",
       "  'break_indicator': {'value': '', 'desc': None},\n",
       "  'pattern_type': {'value': '', 'desc': None},\n",
       "  'linking_number': '',\n",
       "  'type_of_unit': '',\n",
       "  'description': '',\n",
       "  'receiving_operator': 'ines.green@phsg.ch',\n",
       "  'process_type': {'value': '', 'desc': None},\n",
       "  'inventory_number': '',\n",
       "  'inventory_price': '',\n",
       "  'library': {'value': 'HPHG', 'desc': 'PHSG – Mediathek Gossau'},\n",
       "  'location': {'value': 'MI', 'desc': ' Medien und Informatik'},\n",
       "  'alternative_call_number': '681.41//056',\n",
       "  'alternative_call_number_type': {'value': '1',\n",
       "   'desc': 'Dewey Decimal classification'},\n",
       "  'storage_location_id': '',\n",
       "  'pages': '',\n",
       "  'pieces': '',\n",
       "  'public_note': '',\n",
       "  'fulfillment_note': '',\n",
       "  'internal_note_1': '',\n",
       "  'internal_note_2': '',\n",
       "  'internal_note_3': '',\n",
       "  'statistics_note_1': '',\n",
       "  'statistics_note_2': '',\n",
       "  'statistics_note_3': '',\n",
       "  'requested': False,\n",
       "  'edition': None,\n",
       "  'imprint': None,\n",
       "  'language': None,\n",
       "  'physical_condition': {'value': None, 'desc': None}},\n",
       " 'link': 'https://api-eu.hosted.exlibrisgroup.com/almaws/v1/bibs/991001605443905520/holdings/22105924500005520/items/23105924440005520'}"
      ]
     },
     "execution_count": 109,
     "metadata": {},
     "output_type": "execute_result"
    }
   ],
   "source": [
    "data = r.json()\n",
    "data"
   ]
  },
  {
   "cell_type": "code",
   "execution_count": 110,
   "id": "ea79561c",
   "metadata": {},
   "outputs": [
    {
     "data": {
      "text/plain": [
       "'{\"bib_data\": {\"mms_id\": \"991001605443905520\", \"bib_suppress_from_publishing\": \"false\", \"title\": \"Oxocard   - code, play and learn unterst\\\\u00fctzt die freien Blockly-, Python- und C++-Umgebungen :  lerne Animationen und Spiele zu programmieren\", \"author\": \"Garaio, Thomas\", \"issn\": null, \"isbn\": null, \"complete_edition\": \"\", \"network_number\": [\"(EXLNZ-41SLSP_NETWORK)991170842256805501\"], \"place_of_publication\": \"Liebefeld\", \"date_of_publication\": \"2016-2019\", \"publisher_const\": \"Oxon\", \"link\": \"https://api-eu.hosted.exlibrisgroup.com/almaws/v1/bibs/991001605443905520\"}, \"holding_data\": {\"holding_id\": \"22105924500005520\", \"holding_suppress_from_publishing\": \"false\", \"permanent_call_number_type\": {\"value\": \"1\", \"desc\": \"Dewey Decimal classification\"}, \"permanent_call_number\": \"681.41//056\", \"call_number_type\": {\"value\": \"1\", \"desc\": \"Dewey Decimal classification\"}, \"call_number\": \"681.41//056\", \"accession_number\": \"681.41//056\", \"copy_id\": \"\", \"in_temp_location\": false, \"temp_library\": {\"value\": null, \"desc\": null}, \"temp_location\": {\"value\": null, \"desc\": null}, \"temp_call_number_type\": {\"value\": \"\", \"desc\": null}, \"temp_call_number\": \"\", \"temp_call_number_source\": \"\", \"temp_policy\": {\"value\": \"\", \"desc\": null}, \"link\": \"https://api-eu.hosted.exlibrisgroup.com/almaws/v1/bibs/991001605443905520/holdings/22105924500005520\"}, \"item_data\": {\"pid\": \"23105924440005520\", \"barcode\": \"HR40042121\", \"creation_date\": \"2022-01-17Z\", \"modification_date\": \"2022-04-03Z\", \"base_status\": {\"value\": \"1\", \"desc\": \"Item in place\"}, \"awaiting_reshelving\": false, \"physical_material_type\": {\"value\": \"EQUIP\", \"desc\": \"Equipment\"}, \"policy\": {\"value\": \"01\", \"desc\": \"01 Loan 28 days\"}, \"provenance\": {\"value\": \"\", \"desc\": null}, \"po_line\": \"\", \"year_of_issue\": \"\", \"enumeration_a\": \"\", \"enumeration_b\": \"\", \"enumeration_c\": \"\", \"enumeration_d\": \"\", \"enumeration_e\": \"\", \"enumeration_f\": \"\", \"enumeration_g\": \"\", \"enumeration_h\": \"\", \"chronology_i\": \"\", \"chronology_j\": \"\", \"chronology_k\": \"\", \"chronology_l\": \"\", \"chronology_m\": \"\", \"break_indicator\": {\"value\": \"\", \"desc\": null}, \"pattern_type\": {\"value\": \"\", \"desc\": null}, \"linking_number\": \"\", \"type_of_unit\": \"\", \"description\": \"\", \"receiving_operator\": \"ines.green@phsg.ch\", \"process_type\": {\"value\": \"\", \"desc\": null}, \"inventory_number\": \"\", \"inventory_price\": \"\", \"library\": {\"value\": \"HPHG\", \"desc\": \"PHSG \\\\u2013 Mediathek Gossau\"}, \"location\": {\"value\": \"MI\", \"desc\": \" Medien und Informatik\"}, \"alternative_call_number\": \"681.41//056\", \"alternative_call_number_type\": {\"value\": \"1\", \"desc\": \"Dewey Decimal classification\"}, \"storage_location_id\": \"\", \"pages\": \"\", \"pieces\": \"\", \"public_note\": \"\", \"fulfillment_note\": \"\", \"internal_note_1\": \"\", \"internal_note_2\": \"\", \"internal_note_3\": \"TEST\", \"statistics_note_1\": \"\", \"statistics_note_2\": \"\", \"statistics_note_3\": \"\", \"requested\": false, \"edition\": null, \"imprint\": null, \"language\": null, \"physical_condition\": {\"value\": null, \"desc\": null}}, \"link\": \"https://api-eu.hosted.exlibrisgroup.com/almaws/v1/bibs/991001605443905520/holdings/22105924500005520/items/23105924440005520\"}'"
      ]
     },
     "execution_count": 110,
     "metadata": {},
     "output_type": "execute_result"
    }
   ],
   "source": [
    "data['item_data']['internal_note_3'] = 'TEST'\n",
    "url_link = data['link']\n",
    "\n",
    "# Transformation du json en chaîne de caractères\n",
    "data = json.dumps(data)\n",
    "data"
   ]
  },
  {
   "cell_type": "code",
   "execution_count": 111,
   "id": "13d6660f",
   "metadata": {},
   "outputs": [],
   "source": [
    "# Modification de l'exemplaire dans Alma\n",
    "r = requests.put(url_link, data=data, headers=HEADERS)"
   ]
  },
  {
   "cell_type": "code",
   "execution_count": 112,
   "id": "34a78a0b",
   "metadata": {},
   "outputs": [
    {
     "data": {
      "text/plain": [
       "{'bib_data': {'mms_id': '991001605443905520',\n",
       "  'bib_suppress_from_publishing': 'false',\n",
       "  'title': 'Oxocard   - code, play and learn unterstützt die freien Blockly-, Python- und C++-Umgebungen :  lerne Animationen und Spiele zu programmieren',\n",
       "  'author': 'Garaio, Thomas',\n",
       "  'issn': None,\n",
       "  'isbn': None,\n",
       "  'complete_edition': '',\n",
       "  'network_number': ['(EXLNZ-41SLSP_NETWORK)991170842256805501'],\n",
       "  'place_of_publication': 'Liebefeld',\n",
       "  'date_of_publication': '2016-2019',\n",
       "  'publisher_const': 'Oxon',\n",
       "  'link': 'https://api-eu.hosted.exlibrisgroup.com/almaws/v1/bibs/991001605443905520'},\n",
       " 'holding_data': {'holding_id': '22105924500005520',\n",
       "  'holding_suppress_from_publishing': 'false',\n",
       "  'permanent_call_number_type': {'value': '1',\n",
       "   'desc': 'Dewey Decimal classification'},\n",
       "  'permanent_call_number': '681.41//056',\n",
       "  'call_number_type': {'value': '1', 'desc': 'Dewey Decimal classification'},\n",
       "  'call_number': '681.41//056',\n",
       "  'accession_number': '681.41//056',\n",
       "  'copy_id': '',\n",
       "  'in_temp_location': False,\n",
       "  'temp_library': {'value': None, 'desc': None},\n",
       "  'temp_location': {'value': None, 'desc': None},\n",
       "  'temp_call_number_type': {'value': '', 'desc': None},\n",
       "  'temp_call_number': '',\n",
       "  'temp_call_number_source': '',\n",
       "  'temp_policy': {'value': '', 'desc': None},\n",
       "  'link': 'https://api-eu.hosted.exlibrisgroup.com/almaws/v1/bibs/991001605443905520/holdings/22105924500005520'},\n",
       " 'item_data': {'pid': '23105924440005520',\n",
       "  'barcode': 'HR40042121',\n",
       "  'creation_date': '2022-01-17Z',\n",
       "  'modification_date': '2022-04-03Z',\n",
       "  'base_status': {'value': '1', 'desc': 'Item in place'},\n",
       "  'awaiting_reshelving': False,\n",
       "  'physical_material_type': {'value': 'EQUIP', 'desc': 'Equipment'},\n",
       "  'policy': {'value': '01', 'desc': '01 Loan 28 days'},\n",
       "  'provenance': {'value': '', 'desc': None},\n",
       "  'po_line': '',\n",
       "  'year_of_issue': '',\n",
       "  'enumeration_a': '',\n",
       "  'enumeration_b': '',\n",
       "  'enumeration_c': '',\n",
       "  'enumeration_d': '',\n",
       "  'enumeration_e': '',\n",
       "  'enumeration_f': '',\n",
       "  'enumeration_g': '',\n",
       "  'enumeration_h': '',\n",
       "  'chronology_i': '',\n",
       "  'chronology_j': '',\n",
       "  'chronology_k': '',\n",
       "  'chronology_l': '',\n",
       "  'chronology_m': '',\n",
       "  'break_indicator': {'value': '', 'desc': None},\n",
       "  'pattern_type': {'value': '', 'desc': None},\n",
       "  'linking_number': '',\n",
       "  'type_of_unit': '',\n",
       "  'description': '',\n",
       "  'receiving_operator': 'ines.green@phsg.ch',\n",
       "  'process_type': {'value': '', 'desc': None},\n",
       "  'inventory_number': '',\n",
       "  'inventory_price': '',\n",
       "  'library': {'value': 'HPHG', 'desc': 'PHSG – Mediathek Gossau'},\n",
       "  'location': {'value': 'MI', 'desc': ' Medien und Informatik'},\n",
       "  'alternative_call_number': '681.41//056',\n",
       "  'alternative_call_number_type': {'value': '1',\n",
       "   'desc': 'Dewey Decimal classification'},\n",
       "  'storage_location_id': '',\n",
       "  'pages': '',\n",
       "  'pieces': '',\n",
       "  'public_note': '',\n",
       "  'fulfillment_note': '',\n",
       "  'internal_note_1': '',\n",
       "  'internal_note_2': '',\n",
       "  'internal_note_3': 'TEST',\n",
       "  'statistics_note_1': '',\n",
       "  'statistics_note_2': '',\n",
       "  'statistics_note_3': '',\n",
       "  'requested': None,\n",
       "  'edition': None,\n",
       "  'imprint': None,\n",
       "  'language': None,\n",
       "  'physical_condition': {'value': None, 'desc': None}},\n",
       " 'link': 'https://api-eu.hosted.exlibrisgroup.com/almaws/v1/bibs/991001605443905520/holdings/22105924500005520/items/23105924440005520'}"
      ]
     },
     "execution_count": 112,
     "metadata": {},
     "output_type": "execute_result"
    }
   ],
   "source": [
    "r.json()"
   ]
  },
  {
   "cell_type": "markdown",
   "id": "7377c800",
   "metadata": {},
   "source": [
    "### Récupération des données utilisateurs sur la base du primary id"
   ]
  },
  {
   "cell_type": "code",
   "execution_count": 53,
   "id": "665203cf",
   "metadata": {},
   "outputs": [],
   "source": [
    "# Clé NZ en lecture pour les utilisateurs\n",
    "with open(PATH_TO_SECRETS + 'API_KEY_USERS_NZ') as f:\n",
    "    # Il faut utiliser \"strip\" pour supprimer le saut de ligne à la fin\n",
    "    API_KEY_USERS_NZ = f.read().strip()\n",
    "\n",
    "# URL de base de l'api des utilisateurs dans Alma\n",
    "API_BASE_URL = 'https://api-eu.hosted.exlibrisgroup.com/almaws/v1/users/'\n",
    "\n",
    "# En-têtes de la futur requête\n",
    "# Définit notamment le format de la réponse\n",
    "HEADERS = {'content-type': 'application/json',\n",
    "           'accept': 'application/json',\n",
    "           'Authorization': 'apikey ' + API_KEY_USERS_NZ}"
   ]
  },
  {
   "cell_type": "code",
   "execution_count": 54,
   "id": "09840398",
   "metadata": {},
   "outputs": [
    {
     "data": {
      "text/plain": [
       "200"
      ]
     },
     "execution_count": 54,
     "metadata": {},
     "output_type": "execute_result"
    }
   ],
   "source": [
    "primary_id = 'raphael.rey@slsp.ch'\n",
    "\n",
    "# Effectue la requête\n",
    "r = requests.get(API_BASE_URL + primary_id, headers=HEADERS)\n",
    "\n",
    "# Retourne le code de réponse de la requête (moins de 400 c'est bien)\n",
    "r.status_code"
   ]
  },
  {
   "cell_type": "code",
   "execution_count": 50,
   "id": "041759b4",
   "metadata": {},
   "outputs": [
    {
     "data": {
      "text/plain": [
       "{'record_type': {'value': 'STAFF', 'desc': 'Staff'},\n",
       " 'primary_id': 'raphael.rey@slsp.ch',\n",
       " 'first_name': 'Raphaël',\n",
       " 'middle_name': '',\n",
       " 'last_name': 'Rey',\n",
       " 'full_name': 'Raphaël Rey',\n",
       " 'user_title': {'value': '', 'desc': ''},\n",
       " 'job_category': {'value': '', 'desc': ''},\n",
       " 'job_description': '',\n",
       " 'gender': {'value': '', 'desc': ''},\n",
       " 'user_group': {'value': '99', 'desc': ' Staff User'},\n",
       " 'campus_code': {'value': None, 'desc': ''},\n",
       " 'web_site_url': '',\n",
       " 'cataloger_level': {'value': '50', 'desc': '[50] GND cataloger / other AUT'},\n",
       " 'preferred_language': {'value': 'en', 'desc': 'English'},\n",
       " 'account_type': {'value': 'INTERNAL', 'desc': 'Internal'},\n",
       " 'external_id': '',\n",
       " 'password': '',\n",
       " 'force_password_change': '',\n",
       " 'status': {'value': 'ACTIVE', 'desc': 'Active'},\n",
       " 'status_date': '2022-01-07Z',\n",
       " 'requests': None,\n",
       " 'loans': None,\n",
       " 'fees': None,\n",
       " 'contact_info': {'address': [],\n",
       "  'email': [{'email_address': 'raphael.rey@slsp.ch',\n",
       "    'description': None,\n",
       "    'preferred': True,\n",
       "    'segment_type': 'Internal',\n",
       "    'email_type': [{'value': 'work', 'desc': 'Work'}]}],\n",
       "  'phone': []},\n",
       " 'pref_first_name': '',\n",
       " 'pref_middle_name': '',\n",
       " 'pref_last_name': '',\n",
       " 'pref_name_suffix': '',\n",
       " 'is_researcher': False,\n",
       " 'researcher': None,\n",
       " 'link': None,\n",
       " 'user_identifier': [],\n",
       " 'user_role': [{'status': {'value': 'ACTIVE', 'desc': 'Active'},\n",
       "   'scope': {'value': '41SLSP_NETWORK', 'desc': 'SLSP Network Zone'},\n",
       "   'role_type': {'value': '1', 'desc': 'Deposit Operator'},\n",
       "   'parameter': []},\n",
       "  {'status': {'value': 'ACTIVE', 'desc': 'Active'},\n",
       "   'scope': {'value': '41SLSP_NETWORK', 'desc': 'SLSP Network Zone'},\n",
       "   'role_type': {'value': '48', 'desc': 'Invoice Operator Extended'},\n",
       "   'parameter': []},\n",
       "  {'status': {'value': 'ACTIVE', 'desc': 'Active'},\n",
       "   'scope': {'value': '41SLSP_NETWORK', 'desc': 'SLSP Network Zone'},\n",
       "   'role_type': {'value': '247', 'desc': 'Purchase Request Manager'},\n",
       "   'parameter': []},\n",
       "  {'status': {'value': 'ACTIVE', 'desc': 'Active'},\n",
       "   'scope': {'value': '41SLSP_NETWORK', 'desc': 'SLSP Network Zone'},\n",
       "   'role_type': {'value': '244', 'desc': 'Usage Data Operator'},\n",
       "   'parameter': []},\n",
       "  {'status': {'value': 'ACTIVE', 'desc': 'Active'},\n",
       "   'scope': {'value': '41SLSP_NETWORK', 'desc': 'SLSP Network Zone'},\n",
       "   'role_type': {'value': '54', 'desc': 'Purchasing Operator'},\n",
       "   'parameter': []},\n",
       "  {'status': {'value': 'ACTIVE', 'desc': 'Active'},\n",
       "   'scope': {'value': '41SLSP_NETWORK', 'desc': 'SLSP Network Zone'},\n",
       "   'role_type': {'value': '217', 'desc': 'Trial Manager'},\n",
       "   'parameter': []},\n",
       "  {'status': {'value': 'ACTIVE', 'desc': 'Active'},\n",
       "   'scope': {'value': '41SLSP_NETWORK', 'desc': 'SLSP Network Zone'},\n",
       "   'role_type': {'value': '46', 'desc': 'Selector'},\n",
       "   'parameter': []},\n",
       "  {'status': {'value': 'ACTIVE', 'desc': 'Active'},\n",
       "   'scope': {'value': '41SLSP_NETWORK', 'desc': 'SLSP Network Zone'},\n",
       "   'role_type': {'value': '204', 'desc': 'Cataloger'},\n",
       "   'parameter': []},\n",
       "  {'status': {'value': 'ACTIVE', 'desc': 'Active'},\n",
       "   'scope': {'value': '41SLSP_NETWORK', 'desc': 'SLSP Network Zone'},\n",
       "   'role_type': {'value': '220', 'desc': 'Designs Analytics'},\n",
       "   'parameter': []},\n",
       "  {'status': {'value': 'ACTIVE', 'desc': 'Active'},\n",
       "   'scope': {'value': '41SLSP_NETWORK', 'desc': 'SLSP Network Zone'},\n",
       "   'role_type': {'value': '29', 'desc': 'Repository Manager'},\n",
       "   'parameter': []},\n",
       "  {'status': {'value': 'ACTIVE', 'desc': 'Active'},\n",
       "   'scope': {'value': '41SLSP_NETWORK', 'desc': 'SLSP Network Zone'},\n",
       "   'role_type': {'value': '227', 'desc': 'Cataloger Extended'},\n",
       "   'parameter': []},\n",
       "  {'status': {'value': 'ACTIVE', 'desc': 'Active'},\n",
       "   'scope': {'value': '41SLSP_NETWORK', 'desc': 'SLSP Network Zone'},\n",
       "   'role_type': {'value': '41', 'desc': 'License Manager'},\n",
       "   'parameter': []},\n",
       "  {'status': {'value': 'ACTIVE', 'desc': 'Active'},\n",
       "   'scope': {'value': '41SLSP_NETWORK', 'desc': 'SLSP Network Zone'},\n",
       "   'role_type': {'value': '224',\n",
       "    'desc': 'Electronic Inventory Operator Extended'},\n",
       "   'parameter': []},\n",
       "  {'status': {'value': 'ACTIVE', 'desc': 'Active'},\n",
       "   'scope': {'value': '41SLSP_NETWORK', 'desc': 'SLSP Network Zone'},\n",
       "   'role_type': {'value': '210', 'desc': 'Physical Inventory Operator'},\n",
       "   'parameter': []},\n",
       "  {'status': {'value': 'ACTIVE', 'desc': 'Active'},\n",
       "   'scope': {'value': '41SLSP_NETWORK', 'desc': 'SLSP Network Zone'},\n",
       "   'role_type': {'value': '225',\n",
       "    'desc': 'Physical Inventory Operator Extended'},\n",
       "   'parameter': []},\n",
       "  {'status': {'value': 'ACTIVE', 'desc': 'Active'},\n",
       "   'scope': {'value': '41SLSP_NETWORK', 'desc': 'SLSP Network Zone'},\n",
       "   'role_type': {'value': '55', 'desc': 'Purchasing Manager'},\n",
       "   'parameter': []},\n",
       "  {'status': {'value': 'ACTIVE', 'desc': 'Active'},\n",
       "   'scope': {'value': '41SLSP_NETWORK', 'desc': 'SLSP Network Zone'},\n",
       "   'role_type': {'value': '47', 'desc': 'Purchasing Operator Extended'},\n",
       "   'parameter': []},\n",
       "  {'status': {'value': 'ACTIVE', 'desc': 'Active'},\n",
       "   'scope': {'value': '41SLSP_NETWORK', 'desc': 'SLSP Network Zone'},\n",
       "   'role_type': {'value': '209', 'desc': 'Electronic Inventory Operator'},\n",
       "   'parameter': []},\n",
       "  {'status': {'value': 'ACTIVE', 'desc': 'Active'},\n",
       "   'scope': {'value': '41SLSP_NETWORK', 'desc': 'SLSP Network Zone'},\n",
       "   'role_type': {'value': '12', 'desc': 'Digital Inventory Operator'},\n",
       "   'parameter': []},\n",
       "  {'status': {'value': 'ACTIVE', 'desc': 'Active'},\n",
       "   'scope': {'value': '41SLSP_NETWORK', 'desc': 'SLSP Network Zone'},\n",
       "   'role_type': {'value': '428', 'desc': 'Printout Queue Manager'},\n",
       "   'parameter': []},\n",
       "  {'status': {'value': 'ACTIVE', 'desc': 'Active'},\n",
       "   'scope': {'value': '41SLSP_NETWORK', 'desc': 'SLSP Network Zone'},\n",
       "   'role_type': {'value': '226',\n",
       "    'desc': 'Digital Inventory Operator Extended'},\n",
       "   'parameter': []},\n",
       "  {'status': {'value': 'ACTIVE', 'desc': 'Active'},\n",
       "   'scope': {'value': '41SLSP_NETWORK', 'desc': 'SLSP Network Zone'},\n",
       "   'role_type': {'value': '229',\n",
       "    'desc': 'Collection Inventory Operator Extended'},\n",
       "   'parameter': []},\n",
       "  {'status': {'value': 'ACTIVE', 'desc': 'Active'},\n",
       "   'scope': {'value': '41SLSP_NETWORK', 'desc': 'SLSP Network Zone'},\n",
       "   'role_type': {'value': '301', 'desc': 'Known issues operator'},\n",
       "   'parameter': []},\n",
       "  {'status': {'value': 'ACTIVE', 'desc': 'Active'},\n",
       "   'scope': {'value': '41SLSP_NETWORK', 'desc': 'SLSP Network Zone'},\n",
       "   'role_type': {'value': '208', 'desc': 'CDI Inventory Operator'},\n",
       "   'parameter': []},\n",
       "  {'status': {'value': 'ACTIVE', 'desc': 'Active'},\n",
       "   'scope': {'value': '41SLSP_NETWORK', 'desc': 'SLSP Network Zone'},\n",
       "   'role_type': {'value': '200', 'desc': 'Patron'},\n",
       "   'parameter': []},\n",
       "  {'status': {'value': 'ACTIVE', 'desc': 'Active'},\n",
       "   'scope': {'value': '41SLSP_NETWORK', 'desc': 'SLSP Network Zone'},\n",
       "   'role_type': {'value': '0', 'desc': 'Deposit Manager'},\n",
       "   'parameter': []},\n",
       "  {'status': {'value': 'ACTIVE', 'desc': 'Active'},\n",
       "   'scope': {'value': '41SLSP_NETWORK', 'desc': 'SLSP Network Zone'},\n",
       "   'role_type': {'value': '228', 'desc': 'Collection Inventory Operator'},\n",
       "   'parameter': []},\n",
       "  {'status': {'value': 'ACTIVE', 'desc': 'Active'},\n",
       "   'scope': {'value': '41SLSP_NETWORK', 'desc': 'SLSP Network Zone'},\n",
       "   'role_type': {'value': '50', 'desc': 'User Administrator'},\n",
       "   'parameter': []},\n",
       "  {'status': {'value': 'ACTIVE', 'desc': 'Active'},\n",
       "   'scope': {'value': '41SLSP_NETWORK', 'desc': 'SLSP Network Zone'},\n",
       "   'role_type': {'value': '248', 'desc': 'Purchase Request Operator Extended'},\n",
       "   'parameter': []},\n",
       "  {'status': {'value': 'ACTIVE', 'desc': 'Active'},\n",
       "   'scope': {'value': '41SLSP_NETWORK', 'desc': 'SLSP Network Zone'},\n",
       "   'role_type': {'value': '2', 'desc': 'Deposit Operator Extended'},\n",
       "   'parameter': []},\n",
       "  {'status': {'value': 'ACTIVE', 'desc': 'Active'},\n",
       "   'scope': {'value': '41SLSP_NETWORK', 'desc': 'SLSP Network Zone'},\n",
       "   'role_type': {'value': '2200', 'desc': 'Analytics Administrator'},\n",
       "   'parameter': []},\n",
       "  {'status': {'value': 'ACTIVE', 'desc': 'Active'},\n",
       "   'scope': {'value': '41SLSP_NETWORK', 'desc': 'SLSP Network Zone'},\n",
       "   'role_type': {'value': '21', 'desc': 'User Manager'},\n",
       "   'parameter': []},\n",
       "  {'status': {'value': 'ACTIVE', 'desc': 'Active'},\n",
       "   'scope': {'value': '41SLSP_NETWORK', 'desc': 'SLSP Network Zone'},\n",
       "   'role_type': {'value': '56', 'desc': 'Acquisitions Administrator'},\n",
       "   'parameter': []},\n",
       "  {'status': {'value': 'ACTIVE', 'desc': 'Active'},\n",
       "   'scope': {'value': '41SLSP_NETWORK', 'desc': 'SLSP Network Zone'},\n",
       "   'role_type': {'value': '52', 'desc': 'Fulfillment Administrator'},\n",
       "   'parameter': []},\n",
       "  {'status': {'value': 'ACTIVE', 'desc': 'Active'},\n",
       "   'scope': {'value': '41SLSP_NETWORK', 'desc': 'SLSP Network Zone'},\n",
       "   'role_type': {'value': '53', 'desc': 'Repository Administrator'},\n",
       "   'parameter': []},\n",
       "  {'status': {'value': 'ACTIVE', 'desc': 'Active'},\n",
       "   'scope': {'value': '41SLSP_NETWORK', 'desc': 'SLSP Network Zone'},\n",
       "   'role_type': {'value': '205', 'desc': 'Catalog Administrator'},\n",
       "   'parameter': []},\n",
       "  {'status': {'value': 'ACTIVE', 'desc': 'Active'},\n",
       "   'scope': {'value': '41SLSP_NETWORK', 'desc': 'SLSP Network Zone'},\n",
       "   'role_type': {'value': '57', 'desc': 'Letter Administrator'},\n",
       "   'parameter': []},\n",
       "  {'status': {'value': 'ACTIVE', 'desc': 'Active'},\n",
       "   'scope': {'value': '41SLSP_NETWORK', 'desc': 'SLSP Network Zone'},\n",
       "   'role_type': {'value': '300', 'desc': 'Discovery - Admin'},\n",
       "   'parameter': []},\n",
       "  {'status': {'value': 'ACTIVE', 'desc': 'Active'},\n",
       "   'scope': {'value': '41SLSP_NETWORK', 'desc': 'SLSP Network Zone'},\n",
       "   'role_type': {'value': '26', 'desc': 'General System Administrator'},\n",
       "   'parameter': []}],\n",
       " 'user_block': [],\n",
       " 'user_note': [{'note_type': {'value': 'OTHER', 'desc': 'Other'},\n",
       "   'note_text': 'slsp-sysadmin,slsp-staff-manager,slsp-cat-plus,slsp-emedia-plus,slsp-analytics;NETWORK;;;50',\n",
       "   'user_viewable': False,\n",
       "   'popup_note': False,\n",
       "   'created_by': 'renaud.arlettaz@slsp.ch',\n",
       "   'created_date': '2022-01-07T10:56:24.841Z',\n",
       "   'segment_type': 'Internal'}],\n",
       " 'user_statistic': [],\n",
       " 'proxy_for_user': []}"
      ]
     },
     "execution_count": 50,
     "metadata": {},
     "output_type": "execute_result"
    }
   ],
   "source": [
    "# Affiche les données au format json\n",
    "r.json()"
   ]
  },
  {
   "cell_type": "code",
   "execution_count": 9,
   "id": "3eaf0aae",
   "metadata": {},
   "outputs": [
    {
     "data": {
      "text/plain": [
       "' Staff User'"
      ]
     },
     "execution_count": 9,
     "metadata": {},
     "output_type": "execute_result"
    }
   ],
   "source": [
    "data = r.json()\n",
    "data['user_group']['desc']"
   ]
  },
  {
   "cell_type": "code",
   "execution_count": 15,
   "id": "99b076e3",
   "metadata": {},
   "outputs": [
    {
     "data": {
      "text/plain": [
       "'Staff User'"
      ]
     },
     "execution_count": 15,
     "metadata": {},
     "output_type": "execute_result"
    }
   ],
   "source": [
    "def get_user_group(data):\n",
    "    \"\"\"\n",
    "    Extract user group from the data.\n",
    "    \"\"\"\n",
    "    try:\n",
    "        user_group = data['user_group']['desc'].strip()\n",
    "        \n",
    "    except KeyError:\n",
    "        user_group = ''\n",
    "        \n",
    "    return user_group\n",
    "\n",
    "get_user_group(data)\n"
   ]
  },
  {
   "cell_type": "markdown",
   "id": "f557e375",
   "metadata": {},
   "source": [
    "### Exemple avec du XML"
   ]
  },
  {
   "cell_type": "code",
   "execution_count": 44,
   "id": "53e4f0d5",
   "metadata": {},
   "outputs": [],
   "source": [
    "mms_id='991001605443905520'\n",
    "holding_id = '22105924500005520'"
   ]
  },
  {
   "cell_type": "code",
   "execution_count": 45,
   "id": "ef3a84cb",
   "metadata": {},
   "outputs": [
    {
     "data": {
      "text/plain": [
       "'<datafield ind1=\"1\" ind2=\" \" tag=\"852\"><subfield code=\"b\">HPHG</subfield><subfield code=\"c\">MI</subfield><subfield code=\"h\">681.41//056</subfield></datafield></record></holding>'"
      ]
     },
     "execution_count": 45,
     "metadata": {},
     "output_type": "execute_result"
    }
   ],
   "source": [
    "url = f'https://api-eu.hosted.exlibrisgroup.com/almaws/v1/bibs/{mms_id}/holdings/{holding_id}'\n",
    "\n",
    "# Dans le header, il faut préciser que l'on veut du xml\n",
    "HEADERS = {'content-type': 'application/xml',\n",
    "           'accept': 'application/xml',\n",
    "           'Authorization': 'apikey ' + API_KEY_BIB_SB}\n",
    "\n",
    "r1 = requests.get(url,\n",
    "                 headers=HEADERS)\n",
    "\n",
    "# etree ne n'accepte que des bytes. Il faut donc encoder la chaîne\n",
    "root = etree.XML(r.text.encode('utf-8'))\n",
    "callnumber = root.find('.//datafield[@tag=\"852\"]')\n",
    "\n",
    "# etree transfomre l'arbre xml en bytes. Pour en faire une chaîne de caractère, il faut la décoder.\n",
    "etree.tostring(callnumber).decode('utf-8')"
   ]
  },
  {
   "cell_type": "code",
   "execution_count": 46,
   "id": "407d1773",
   "metadata": {},
   "outputs": [
    {
     "data": {
      "text/plain": [
       "'681.41//056'"
      ]
     },
     "execution_count": 46,
     "metadata": {},
     "output_type": "execute_result"
    }
   ],
   "source": [
    "# old_value = '681.41//056'\n",
    "callnumber.find('.//subfield[@code=\"h\"]').text"
   ]
  },
  {
   "cell_type": "code",
   "execution_count": 47,
   "id": "d84b3252",
   "metadata": {},
   "outputs": [],
   "source": [
    "callnumber.find('.//subfield[@code=\"h\"]').text = '681.41//056'"
   ]
  },
  {
   "cell_type": "code",
   "execution_count": 48,
   "id": "bcd79156",
   "metadata": {},
   "outputs": [],
   "source": [
    "# Il serait possible d'utiliser `.decode('utf-8')`pour transformer les bytes en string,\n",
    "# mais ce n'est pas obligatoire avec la biubliothèquze `requests`\n",
    "data = etree.tostring(root)\n",
    "r2 = requests.put(url,\n",
    "                 headers=HEADERS,\n",
    "                 data=data)"
   ]
  },
  {
   "cell_type": "code",
   "execution_count": 49,
   "id": "fc0fdc36",
   "metadata": {},
   "outputs": [
    {
     "data": {
      "text/plain": [
       "'681.41//056'"
      ]
     },
     "execution_count": 49,
     "metadata": {},
     "output_type": "execute_result"
    }
   ],
   "source": [
    "root = etree.XML(r2.text.encode('utf-8'))\n",
    "root.find('.//datafield[@tag=\"852\"]/subfield[@code=\"h\"]').text"
   ]
  },
  {
   "cell_type": "code",
   "execution_count": null,
   "id": "815d7d2b",
   "metadata": {},
   "outputs": [],
   "source": []
  }
 ],
 "metadata": {
  "kernelspec": {
   "display_name": "Python 3 (ipykernel)",
   "language": "python",
   "name": "python3"
  },
  "language_info": {
   "codemirror_mode": {
    "name": "ipython",
    "version": 3
   },
   "file_extension": ".py",
   "mimetype": "text/x-python",
   "name": "python",
   "nbconvert_exporter": "python",
   "pygments_lexer": "ipython3",
   "version": "3.9.7"
  }
 },
 "nbformat": 4,
 "nbformat_minor": 5
}
