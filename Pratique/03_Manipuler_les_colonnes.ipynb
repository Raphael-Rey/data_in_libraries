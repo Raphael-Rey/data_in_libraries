{
 "cells": [
  {
   "cell_type": "markdown",
   "id": "e369d757",
   "metadata": {},
   "source": [
    "# 3. Manipuler les colonnes"
   ]
  },
  {
   "cell_type": "markdown",
   "id": "aba2588e",
   "metadata": {},
   "source": [
    "## Manipuler des colonnes\n",
    "```python\n",
    "# Renomme les colonnes\n",
    "df.columns = ['nouv_nom_col_A', 'nouv_nom_col_B']\n",
    "\n",
    "# Modifie l'ordre des colonnes, permet aussi d'en supprimer\n",
    "df = df[['nom_colonne_B', 'nom_colonne_A', 'nom_colonne_C']]\n",
    "\n",
    "# Retourne un dataframe sans la colonne indiquée\n",
    "df.drop('nom_colonne', axis=1)\n",
    "\n",
    "# Fonctionne aussi avec une liste\n",
    "df.drop(['nom_colonne_A', 'nom_colonne_B'] axis=1)\n",
    "```\n",
    "\n",
    "## Créer des colonnes\n",
    "```python\n",
    "# Crée une colonne avec la valeur donnée pour chaque ligne\n",
    "df['nouv_colonn'] = valeur\n",
    "\n",
    "# Remplit la colonne avec les valeurs de la liste, mais il faut qu'il y en ait le même nombre que de lignes\n",
    "df['nouv_colonn'] = [val_1, val_2, val_3] \n",
    "\n",
    "# Concatène les valeurs des deux colonnes dans une nouvelles (si ce sont des caractères)\n",
    "df['nouv_colonn'] = df['nom_col_A'] + df['nom_col_B']\n",
    "```\n",
    "\n",
    "## Modifier le type de donnée d'une colonne\n",
    "```python\n",
    "# Retourne le type d'une colonne\n",
    "df['Creation Date'].dtype\n",
    "\n",
    "# Modifie le type d'une colonne en date\n",
    "df['Col_Date'] = dg['Col_Date'].astype(np.datetime64)\n",
    "\n",
    "# Modifie le type d'une colonne en date\n",
    "df['Col_Date'] = pd.to_datetime(dg['Col_Date']) \n",
    "```\n",
    "\n",
    "## Dessiner un diagramme en secteurs\n",
    "```python\n",
    "# Dessine le diagramme\n",
    "plt.pie(x=liste_des_valeurs, labels=liste_etiquettes_des_valeurs, autopct='%.1f%%')\n",
    "\n",
    "# Ajoute un titre au diagramme\n",
    "plt.title('Titre', fontsize=16)\n",
    "```"
   ]
  },
  {
   "cell_type": "code",
   "execution_count": null,
   "id": "d7a9f06f",
   "metadata": {},
   "outputs": [],
   "source": [
    "# Importer les bibliothèques essentielles\n",
    "import pandas as pd\n",
    "import numpy as np\n",
    "import seaborn as sns\n",
    "import matplotlib.pyplot as plt\n",
    "\n",
    "# Afficher toutes les colonnes\n",
    "pd.set_option('display.max_columns', None)"
   ]
  },
  {
   "cell_type": "code",
   "execution_count": null,
   "id": "665203cf",
   "metadata": {},
   "outputs": [],
   "source": [
    "# Chargement des données\n",
    "df = pd.read_csv('Data/items_reduced.csv', dtype=str)"
   ]
  },
  {
   "cell_type": "code",
   "execution_count": null,
   "id": "041759b4",
   "metadata": {},
   "outputs": [],
   "source": [
    "# Affichage des dix premières lignes\n",
    "df.head(10)"
   ]
  },
  {
   "cell_type": "markdown",
   "id": "781ec7c0",
   "metadata": {},
   "source": [
    "## Réordonner et renommer les colonnes"
   ]
  },
  {
   "cell_type": "code",
   "execution_count": null,
   "id": "4a34759a",
   "metadata": {},
   "outputs": [],
   "source": [
    "df.columns"
   ]
  },
  {
   "cell_type": "code",
   "execution_count": null,
   "id": "8946bd27",
   "metadata": {},
   "outputs": [],
   "source": [
    "# Réordonner les colonnes\n",
    "dg = df[['Title', 'Permanent Location', 'Call Number',\n",
    "       'Barcode', 'Material Type']].copy()"
   ]
  },
  {
   "cell_type": "code",
   "execution_count": null,
   "id": "2a918f25",
   "metadata": {},
   "outputs": [],
   "source": [
    "dg.columns"
   ]
  },
  {
   "cell_type": "code",
   "execution_count": null,
   "id": "fbb2d82e",
   "metadata": {},
   "outputs": [],
   "source": [
    "# Renommer les colonnes\n",
    "dg.columns = ['Titre', 'Emplacement', 'Cote', 'Code-barres', 'Type de ressource']\n",
    "dg.head()"
   ]
  },
  {
   "cell_type": "markdown",
   "id": "e2f6353e",
   "metadata": {},
   "source": [
    "## Créer une nouvelle colonne"
   ]
  },
  {
   "cell_type": "code",
   "execution_count": null,
   "id": "2ee2e3b2",
   "metadata": {},
   "outputs": [],
   "source": [
    "# Créer une nouvelle colonne avec le nombre d'exemplaire, ici 1 vu que chaque ligne représente un exemplaire\n",
    "dg['Nb exemplaires'] = 1"
   ]
  },
  {
   "cell_type": "code",
   "execution_count": null,
   "id": "76be828a",
   "metadata": {},
   "outputs": [],
   "source": [
    "# Créer une colonne à partir des données d'autres colonnes\n",
    "# Exemple pour créer une colonne qui concatène la cote et l'emplacement\n",
    "dg['Emplacement - cote'] = dg['Emplacement']\n",
    "dg.head()"
   ]
  },
  {
   "cell_type": "code",
   "execution_count": null,
   "id": "c0d2ab7c",
   "metadata": {},
   "outputs": [],
   "source": [
    "# Ajout de ' / ' à chaque valeur de la colonne\n",
    "dg['Emplacement - cote'] += ' / '\n",
    "dg.head()"
   ]
  },
  {
   "cell_type": "code",
   "execution_count": null,
   "id": "1199b0bc",
   "metadata": {},
   "outputs": [],
   "source": [
    "# Ajout de la cote à la fin du champ\n",
    "dg['Emplacement - cote'] += dg['Cote']\n",
    "dg.head()"
   ]
  },
  {
   "cell_type": "code",
   "execution_count": null,
   "id": "be0fb081",
   "metadata": {},
   "outputs": [],
   "source": [
    "# Même opération en plus simple\n",
    "dg['Emplacement / cote'] = dg['Emplacement'] + ' / ' + dg['Cote']\n",
    "dg.head()"
   ]
  },
  {
   "cell_type": "markdown",
   "id": "8096b257",
   "metadata": {},
   "source": [
    "## Suppression d'une colonne"
   ]
  },
  {
   "cell_type": "code",
   "execution_count": null,
   "id": "d593c572",
   "metadata": {},
   "outputs": [],
   "source": [
    "# La méthode \"drop\" permet de supprimer des lignes avec axis=0 et des colonnes avec axis=1\n",
    "dg.drop('Emplacement - cote', axis=1)"
   ]
  },
  {
   "cell_type": "code",
   "execution_count": null,
   "id": "78d743a7",
   "metadata": {},
   "outputs": [],
   "source": [
    "# Cette expression produit le même résultat, mais est moins explicite\n",
    "dg[['Titre', 'Emplacement', 'Cote', 'Code-barres', 'Type de ressource', 'Emplacement / cote']]"
   ]
  },
  {
   "cell_type": "markdown",
   "id": "2ea71818",
   "metadata": {},
   "source": [
    "## Modification du type de données\n",
    "En général, Pandas reconnaît bien les types de données, mais il arrive parfois qu'il soit nécessaire de les définir manuellement.\n",
    "\n",
    "[https://pbpython.com/pandas_dtypes.html](https://pbpython.com/pandas_dtypes.html)"
   ]
  },
  {
   "cell_type": "code",
   "execution_count": null,
   "id": "b52983a5",
   "metadata": {},
   "outputs": [],
   "source": [
    "# Chargement des données\n",
    "df = pd.read_csv('Data/items.csv', dtype=str)\n",
    "df.columns"
   ]
  },
  {
   "cell_type": "code",
   "execution_count": null,
   "id": "2e0316f9",
   "metadata": {},
   "outputs": [],
   "source": [
    "dg = df[['Barcode', 'Material Type', 'Creation Date']].copy()\n",
    "dg.head()"
   ]
  },
  {
   "cell_type": "code",
   "execution_count": null,
   "id": "9948b9f3",
   "metadata": {},
   "outputs": [],
   "source": [
    "# Le plus souvent le type 'O' signiifie en fait chaîne de caractères\n",
    "dg['Creation Date'].dtype"
   ]
  },
  {
   "cell_type": "code",
   "execution_count": null,
   "id": "260a818e",
   "metadata": {},
   "outputs": [],
   "source": [
    "# dg['Creation Date'] = dg['Creation Date'].astype(np.datetime64)\n",
    "dg['Creation Date'] = pd.to_datetime(dg['Creation Date'])\n",
    "dg['Creation Date'].dtype"
   ]
  },
  {
   "cell_type": "code",
   "execution_count": null,
   "id": "be8bd583",
   "metadata": {},
   "outputs": [],
   "source": [
    "# Création d'une colonne avec l'année de création\n",
    "dg['Creation year'] = dg['Creation Date'].dt.year\n",
    "dg.head()"
   ]
  },
  {
   "cell_type": "code",
   "execution_count": null,
   "id": "9112a428",
   "metadata": {},
   "outputs": [],
   "source": [
    "# Sélection des exemplaires créés en 2021 uniquement\n",
    "dh = dg.loc[dg['Creation Date'].dt.year==2021].copy()\n",
    "dh.head()"
   ]
  },
  {
   "cell_type": "code",
   "execution_count": null,
   "id": "f9159866",
   "metadata": {},
   "outputs": [],
   "source": [
    "# Nombre de nouvelles acquisitions par type de matériel en 2021\n",
    "dh['Material Type'].value_counts()"
   ]
  },
  {
   "cell_type": "code",
   "execution_count": null,
   "id": "9136e751",
   "metadata": {},
   "outputs": [],
   "source": [
    "# Définit une figure ainsi que sa taille\n",
    "fig = plt.figure(figsize=(10, 6))\n",
    "ax = sns.countplot(x=dh['Material Type'])\n",
    "\n",
    "# Modifie l'orientation des étiquettes et ajuste l'alignement\n",
    "plt.xticks(rotation=45, ha='right')\n",
    "\n",
    "_ = plt.title('New items in 2021 by material type', pad=20, fontsize=16)"
   ]
  },
  {
   "cell_type": "code",
   "execution_count": null,
   "id": "8b5c40c8",
   "metadata": {},
   "outputs": [],
   "source": [
    "# Récupère en tant que série le décompte des valeurs\n",
    "d_material_type = dh['Material Type'].value_counts()\n",
    "print('Nb total: ', d_material_type.sum())\n",
    "d_material_type"
   ]
  },
  {
   "cell_type": "code",
   "execution_count": null,
   "id": "01135fe5",
   "metadata": {},
   "outputs": [],
   "source": [
    "# Pour visualiser les données, les types trop rares ne sont pas pertinents et doivent être regroupés sous \"Other\"\n",
    "d_material_type_summary = d_material_type.iloc[:5].copy()\n",
    "d_material_type_summary['Other'] +=  d_material_type.iloc[5:].sum()\n",
    "print('Nb total: ', d_material_type_summary.sum())\n",
    "d_material_type_summary\n",
    "\n",
    "# => Le nombre total est identique"
   ]
  },
  {
   "cell_type": "code",
   "execution_count": null,
   "id": "5629b79d",
   "metadata": {},
   "outputs": [],
   "source": [
    "# Création du diagramme en secteurs\n",
    "fig = plt.figure(figsize=(8, 5))\n",
    "plt.pie(x=d_material_type_summary, labels=d_material_type_summary.index, autopct='%.1f%%')\n",
    "_ = plt.title('New items in 2021 by material type', fontsize=16)"
   ]
  },
  {
   "cell_type": "code",
   "execution_count": null,
   "id": "8304ab73",
   "metadata": {},
   "outputs": [],
   "source": []
  }
 ],
 "metadata": {
  "kernelspec": {
   "display_name": "Python 3 (ipykernel)",
   "language": "python",
   "name": "python3"
  },
  "language_info": {
   "codemirror_mode": {
    "name": "ipython",
    "version": 3
   },
   "file_extension": ".py",
   "mimetype": "text/x-python",
   "name": "python",
   "nbconvert_exporter": "python",
   "pygments_lexer": "ipython3",
   "version": "3.9.7"
  }
 },
 "nbformat": 4,
 "nbformat_minor": 5
}
