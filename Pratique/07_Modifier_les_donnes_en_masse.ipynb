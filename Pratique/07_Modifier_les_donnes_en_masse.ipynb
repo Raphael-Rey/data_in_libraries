{
 "cells": [
  {
   "cell_type": "markdown",
   "id": "e369d757",
   "metadata": {},
   "source": [
    "# 7. Modifier les données en masse"
   ]
  },
  {
   "cell_type": "markdown",
   "id": "aba2588e",
   "metadata": {},
   "source": [
    "## apply\n",
    "Avec `apply`, les valeurs manquantes génèrent souvent des erreurs. Il faut soit les compléter soit les supprimer au préalable. En général, il vaut mieux éviter `apply` si possible. Cette méthode n'est pas très rapide.\n",
    "\n",
    "Cette fonction est toutefois très utile pour nettoyer les données quand elles doivent être normalisées ou présentent de nombreuses petites variantes qu'il faut standardiser.\n",
    "\n",
    "Pour les modification de type, il vaut mieux utiliser `astype` qui est bien pèlus rapide.\n",
    "\n",
    "\n",
    "## apply sur une seule colonne\n",
    "\n",
    "```python\n",
    "# Transformer des données avec une fonction lambda (ici la longueur du champ)\n",
    "df['nom_colonne'] = df['nom_colonne'].apply(lambda x:len(x))\n",
    "\n",
    "# Créer une nouvelle colonne sur la base des données d'une seule colonne\n",
    "df['nom_colonne_B'] = df['nom_colonne_A'].apply(lambda x:len(x))\n",
    "\n",
    "# Utiliser une fonction\n",
    "def fn(txt):\n",
    "    \"\"\"Récupère le premier isbn et le normalise\n",
    "    - Sépare par \";\"\n",
    "    - Récupère la première occurrence\n",
    "    - Supprime les \"-\"\n",
    "    - Supprime les éventuels espaces résiduels\n",
    "    \"\"\"\n",
    "    txt_mod = txt.split(';')[0]\n",
    "    txt_mod = txt_mod.replace('-', '')\n",
    "    txt_mod = txt_modt.strip()\n",
    "    return txt_mod\n",
    "df['nom_colonne'] = df['nom_colonne'].apply(fn)\n",
    "```\n",
    "\n",
    "## apply sur un dataframe\n",
    "\n",
    "```python\n",
    "def fn_vers_col(row):\n",
    "    \"\"\"Retourne la valeur de la colonne B si la valeur de la colonne A est manquante. \n",
    "    \"\"\"\n",
    "    if pd.isnull(row['nom_colonne_A']):\n",
    "        return row['nom_colonne_B']\n",
    "    \n",
    "    return row['nom_colonne_A']\n",
    "\n",
    "# Modifie ou crée une colonne de df en fonction de plusieurs colonnes\n",
    "df['nom_colonne_C'] = df.apply(fn_vers_col, axis=1)\n",
    "\n",
    "def fn_vers_df(row):\n",
    "    \"\"\"Modifie plusieurs colonnes\n",
    "    - Soustrait la colonne A avec la colonne B et enregistre le résultat dans la colonne C\n",
    "    - La colonne D vaut True si C est négatif\n",
    "    \"\"\"\n",
    "    row['nom_colonne_C'] = row['nom_colonne_A'] - row['nom_colonne_B']\n",
    "    if row['nom_colonne_C'] < 0:\n",
    "        row['nom_colonne_D'] = True\n",
    "    return row\n",
    "\n",
    "df.apply(fn_vers_df, axis=1)\n",
    "```\n",
    "\n",
    "Souvent il est utile de créer les colonnes avec des valeurs par défaut avant d'utiliser `apply`.\n",
    "\n",
    "### Eviter apply sur l'exemple précédent\n",
    "```python\n",
    "df['nom_colonne_C'] = df['nom_colonne_A'] - df['nom_colonne_B']\n",
    "df['nom_colonne_D'] = df['nom_colonne_C'] < 0\n",
    "```"
   ]
  },
  {
   "cell_type": "code",
   "execution_count": 5,
   "id": "d7a9f06f",
   "metadata": {},
   "outputs": [],
   "source": [
    "# Importer les bibliothèques essentielles\n",
    "import pandas as pd\n",
    "import numpy as np\n",
    "import seaborn as sns\n",
    "import matplotlib.pyplot as plt\n",
    "\n",
    "# Afficher toutes les colonnes\n",
    "pd.set_option('display.max_columns', None)"
   ]
  },
  {
   "cell_type": "code",
   "execution_count": 6,
   "id": "665203cf",
   "metadata": {},
   "outputs": [],
   "source": [
    "# Chargement des données\n",
    "df = pd.read_csv('Data/titles_withdrawn.csv')"
   ]
  },
  {
   "cell_type": "code",
   "execution_count": 7,
   "id": "041759b4",
   "metadata": {},
   "outputs": [
    {
     "data": {
      "text/html": [
       "<div>\n",
       "<style scoped>\n",
       "    .dataframe tbody tr th:only-of-type {\n",
       "        vertical-align: middle;\n",
       "    }\n",
       "\n",
       "    .dataframe tbody tr th {\n",
       "        vertical-align: top;\n",
       "    }\n",
       "\n",
       "    .dataframe thead th {\n",
       "        text-align: right;\n",
       "    }\n",
       "</style>\n",
       "<table border=\"1\" class=\"dataframe\">\n",
       "  <thead>\n",
       "    <tr style=\"text-align: right;\">\n",
       "      <th></th>\n",
       "      <th>Title</th>\n",
       "      <th>ISBN</th>\n",
       "      <th>Publication Date</th>\n",
       "      <th>Num of Physical Items (Deleted)</th>\n",
       "    </tr>\n",
       "  </thead>\n",
       "  <tbody>\n",
       "    <tr>\n",
       "      <th>0</th>\n",
       "      <td>\"... ein bemerkenswertes Kapitel des jüdische...</td>\n",
       "      <td>3730815229; 9783730815229</td>\n",
       "      <td>[2019]</td>\n",
       "      <td>1,0</td>\n",
       "    </tr>\n",
       "    <tr>\n",
       "      <th>1</th>\n",
       "      <td>\"... einziges Land, in dem Judenfrage und Zige...</td>\n",
       "      <td>3980311813; 9783980311816</td>\n",
       "      <td>[1992?]</td>\n",
       "      <td>1,0</td>\n",
       "    </tr>\n",
       "    <tr>\n",
       "      <th>2</th>\n",
       "      <td>\"... mehr Bäume, mehr Wiesen und mehr Menschen...</td>\n",
       "      <td>3952023809; 9783952023808</td>\n",
       "      <td>1992</td>\n",
       "      <td>1,0</td>\n",
       "    </tr>\n",
       "    <tr>\n",
       "      <th>3</th>\n",
       "      <td>\"...wortlos der Sprache mächtig\" Schweigen und...</td>\n",
       "      <td>3476452085; 9783476452085</td>\n",
       "      <td>[1999]</td>\n",
       "      <td>1,0</td>\n",
       "    </tr>\n",
       "    <tr>\n",
       "      <th>4</th>\n",
       "      <td>\"A dos luces, a dos visos\" Calderón y el géner...</td>\n",
       "      <td>3967280012; 9783967280012</td>\n",
       "      <td>2020</td>\n",
       "      <td>1,0</td>\n",
       "    </tr>\n",
       "    <tr>\n",
       "      <th>5</th>\n",
       "      <td>\"A honra alheia por um fio\" os estatutos de li...</td>\n",
       "      <td>9723113937; 9789723113938</td>\n",
       "      <td>2011</td>\n",
       "      <td>1,0</td>\n",
       "    </tr>\n",
       "    <tr>\n",
       "      <th>6</th>\n",
       "      <td>\"Ai pochi felici\" Leonardo Sciascia e le arti ...</td>\n",
       "      <td>9788832240221; 883224022X</td>\n",
       "      <td>[2020]</td>\n",
       "      <td>1,0</td>\n",
       "    </tr>\n",
       "    <tr>\n",
       "      <th>7</th>\n",
       "      <td>\"Al tempo del Belli...\" il dialetto dei Sonett...</td>\n",
       "      <td>8883197836; 9788883197833</td>\n",
       "      <td>2002</td>\n",
       "      <td>1,0</td>\n",
       "    </tr>\n",
       "    <tr>\n",
       "      <th>8</th>\n",
       "      <td>\"Als Kafka mir entgegen kam- \" Erinnerungen an...</td>\n",
       "      <td>3803125286; 9783803125286</td>\n",
       "      <td>2005</td>\n",
       "      <td>1,0</td>\n",
       "    </tr>\n",
       "    <tr>\n",
       "      <th>9</th>\n",
       "      <td>\"Antibirokratska revolucija\" (1987-1989)</td>\n",
       "      <td>9788651903048; 8651903049</td>\n",
       "      <td>2009</td>\n",
       "      <td>1,0</td>\n",
       "    </tr>\n",
       "  </tbody>\n",
       "</table>\n",
       "</div>"
      ],
      "text/plain": [
       "                                               Title  \\\n",
       "0  \"... ein bemerkenswertes Kapitel des jüdische...   \n",
       "1  \"... einziges Land, in dem Judenfrage und Zige...   \n",
       "2  \"... mehr Bäume, mehr Wiesen und mehr Menschen...   \n",
       "3  \"...wortlos der Sprache mächtig\" Schweigen und...   \n",
       "4  \"A dos luces, a dos visos\" Calderón y el géner...   \n",
       "5  \"A honra alheia por um fio\" os estatutos de li...   \n",
       "6  \"Ai pochi felici\" Leonardo Sciascia e le arti ...   \n",
       "7  \"Al tempo del Belli...\" il dialetto dei Sonett...   \n",
       "8  \"Als Kafka mir entgegen kam- \" Erinnerungen an...   \n",
       "9           \"Antibirokratska revolucija\" (1987-1989)   \n",
       "\n",
       "                        ISBN Publication Date Num of Physical Items (Deleted)  \n",
       "0  3730815229; 9783730815229           [2019]                             1,0  \n",
       "1  3980311813; 9783980311816          [1992?]                             1,0  \n",
       "2  3952023809; 9783952023808             1992                             1,0  \n",
       "3  3476452085; 9783476452085           [1999]                             1,0  \n",
       "4  3967280012; 9783967280012             2020                             1,0  \n",
       "5  9723113937; 9789723113938             2011                             1,0  \n",
       "6  9788832240221; 883224022X           [2020]                             1,0  \n",
       "7  8883197836; 9788883197833             2002                             1,0  \n",
       "8  3803125286; 9783803125286             2005                             1,0  \n",
       "9  9788651903048; 8651903049             2009                             1,0  "
      ]
     },
     "execution_count": 7,
     "metadata": {},
     "output_type": "execute_result"
    }
   ],
   "source": [
    "# Affichage des dix premières lignes\n",
    "df.head(10)"
   ]
  },
  {
   "cell_type": "markdown",
   "id": "e9caed6b",
   "metadata": {},
   "source": [
    "## Apply sur une seule colonne"
   ]
  },
  {
   "cell_type": "code",
   "execution_count": 8,
   "id": "0bd4fad5",
   "metadata": {},
   "outputs": [
    {
     "name": "stdout",
     "output_type": "stream",
     "text": [
      "<class 'pandas.core.frame.DataFrame'>\n",
      "RangeIndex: 18266 entries, 0 to 18265\n",
      "Data columns (total 4 columns):\n",
      " #   Column                           Non-Null Count  Dtype \n",
      "---  ------                           --------------  ----- \n",
      " 0   Title                            18266 non-null  object\n",
      " 1   ISBN                             18266 non-null  object\n",
      " 2   Publication Date                 18258 non-null  object\n",
      " 3   Num of Physical Items (Deleted)  18266 non-null  object\n",
      "dtypes: object(4)\n",
      "memory usage: 570.9+ KB\n"
     ]
    }
   ],
   "source": [
    "df.info()"
   ]
  },
  {
   "cell_type": "code",
   "execution_count": 9,
   "id": "11b9cd00",
   "metadata": {},
   "outputs": [
    {
     "name": "stdout",
     "output_type": "stream",
     "text": [
      "<class 'pandas.core.frame.DataFrame'>\n",
      "RangeIndex: 18266 entries, 0 to 18265\n",
      "Data columns (total 4 columns):\n",
      " #   Column                           Non-Null Count  Dtype \n",
      "---  ------                           --------------  ----- \n",
      " 0   Title                            18266 non-null  object\n",
      " 1   ISBN                             18266 non-null  object\n",
      " 2   Publication Date                 18258 non-null  object\n",
      " 3   Num of Physical Items (Deleted)  18266 non-null  int64 \n",
      "dtypes: int64(1), object(3)\n",
      "memory usage: 570.9+ KB\n"
     ]
    }
   ],
   "source": [
    "# La colonne \"Num of Physical Items (Deleted)\" est en réalité de type \"string\"\n",
    "# Il faut la changer en nombre\n",
    "\n",
    "# Option 1 => apply, on prend la première partie avant la virgule et on convertit en entier\n",
    "df = pd.read_csv('Data/titles_withdrawn.csv')\n",
    "df['Num of Physical Items (Deleted)'] = df['Num of Physical Items (Deleted)'].apply(lambda x: int(x.split(',')[0]))\n",
    "df.info()"
   ]
  },
  {
   "cell_type": "code",
   "execution_count": 6,
   "id": "8b61fbf3",
   "metadata": {},
   "outputs": [
    {
     "name": "stdout",
     "output_type": "stream",
     "text": [
      "<class 'pandas.core.frame.DataFrame'>\n",
      "RangeIndex: 18266 entries, 0 to 18265\n",
      "Data columns (total 4 columns):\n",
      " #   Column                           Non-Null Count  Dtype \n",
      "---  ------                           --------------  ----- \n",
      " 0   Title                            18266 non-null  object\n",
      " 1   ISBN                             18266 non-null  object\n",
      " 2   Publication Date                 18258 non-null  object\n",
      " 3   Num of Physical Items (Deleted)  18266 non-null  int64 \n",
      "dtypes: int64(1), object(3)\n",
      "memory usage: 570.9+ KB\n"
     ]
    }
   ],
   "source": [
    "# Option 2 => sans apply, on change la virgule en \".\", on transforme le type en flottant, puis on passe en entier.\n",
    "df = pd.read_csv('Data/titles_withdrawn.csv')\n",
    "df['Num of Physical Items (Deleted)'] = df['Num of Physical Items (Deleted)'].str.replace(',', '.').astype(float).astype(int)\n",
    "df.info()"
   ]
  },
  {
   "cell_type": "markdown",
   "id": "ad00ea88",
   "metadata": {},
   "source": [
    "## Opération en fonction de plusieurs colonnes\n",
    "### Création d'une nouvelle colonne"
   ]
  },
  {
   "cell_type": "code",
   "execution_count": 10,
   "id": "3eaf0aae",
   "metadata": {},
   "outputs": [
    {
     "data": {
      "text/plain": [
       "248"
      ]
     },
     "execution_count": 10,
     "metadata": {},
     "output_type": "execute_result"
    }
   ],
   "source": [
    "# Ajouter une colonne avec la valeur True si au moins deux exemplaires\n",
    "# de titres de 2020 ou de 2021 ont été  supprimés et sinon False\n",
    "\n",
    "def is_more_than_1_item_suppressed_from_2020_or_2021(row):\n",
    "    \"\"\"\n",
    "    Retourne une colonne: True quand le nombre d'exemplaires éliminés est supérieur à 1\n",
    "    et la date de publication en 2021 et 2020; dans les autres cas False.\n",
    "    \"\"\"\n",
    "    if row['Num of Physical Items (Deleted)'] > 1 and \\\n",
    "        ('2020' in row['Publication Date'] or\n",
    "         '2021' in row['Publication Date']):\n",
    "        return True\n",
    "    else:\n",
    "        return False\n",
    "\n",
    "df['Publication Date'] = df['Publication Date'].fillna('')\n",
    "\n",
    "df['More than 1 item suppressed of 2020 or 2021'] = df.apply(is_more_than_1_item_suppressed_from_2020_or_2021, axis=1)\n",
    "\n",
    "# Pour savoir combien il y a de True dans une colonne, le plus simple est d'en faire la somme\n",
    "df['More than 1 item suppressed of 2020 or 2021'].sum()"
   ]
  },
  {
   "cell_type": "markdown",
   "id": "905c0ece",
   "metadata": {},
   "source": [
    "### Modification directe du DataFrame"
   ]
  },
  {
   "cell_type": "code",
   "execution_count": 8,
   "id": "67c3bc5b",
   "metadata": {},
   "outputs": [],
   "source": [
    "# Récupération des données\n",
    "df = pd.read_csv('Data/titles_withdrawn.csv')\n",
    "\n",
    "# Transformation de la chaîne de caractère en nombre entier: '3,0' => 3 \n",
    "df['Num of Physical Items (Deleted)'] = df['Num of Physical Items (Deleted)'].apply(lambda x: int(x.split(',')[0]))\n",
    "\n",
    "# La colonne est initialisée\n",
    "df['More than 1 item suppressed of 2020 or 2021'] = False"
   ]
  },
  {
   "cell_type": "code",
   "execution_count": 9,
   "id": "c0071275",
   "metadata": {},
   "outputs": [
    {
     "data": {
      "text/plain": [
       "248"
      ]
     },
     "execution_count": 9,
     "metadata": {},
     "output_type": "execute_result"
    }
   ],
   "source": [
    "def is_more_than_1_item_suppressed_from_2020_or_2021(row):\n",
    "    \"\"\"\n",
    "    Modifie la colonne 'More than 1 item suppressed of 2020 or 2021' vers\n",
    "    True lorsque le nombre d'exemplaires éliminés est supérieur à 1\n",
    "    et la date de publication en 2021 et 2020.\n",
    "    \"\"\"\n",
    "    if row['Num of Physical Items (Deleted)'] > 1 and \\\n",
    "        ('2020' in row['Publication Date'] or\n",
    "         '2021' in row['Publication Date']):\n",
    "        row['More than 1 item suppressed of 2020 or 2021'] = True\n",
    "        \n",
    "    # Ne pas oublier de retourner l'intégralité de la ligne\n",
    "    return row\n",
    "\n",
    "df['Publication Date'] = df['Publication Date'].fillna('')\n",
    "\n",
    "df = df.apply(is_more_than_1_item_suppressed_from_2020_or_2021, axis=1)\n",
    "\n",
    "# Pour savoir combien il y a de True dans une colonne, le plus simple est d'en faire la somme\n",
    "df['More than 1 item suppressed of 2020 or 2021'].sum()"
   ]
  },
  {
   "cell_type": "code",
   "execution_count": null,
   "id": "f366885b",
   "metadata": {},
   "outputs": [],
   "source": []
  }
 ],
 "metadata": {
  "kernelspec": {
   "display_name": "Python 3 (ipykernel)",
   "language": "python",
   "name": "python3"
  },
  "language_info": {
   "codemirror_mode": {
    "name": "ipython",
    "version": 3
   },
   "file_extension": ".py",
   "mimetype": "text/x-python",
   "name": "python",
   "nbconvert_exporter": "python",
   "pygments_lexer": "ipython3",
   "version": "3.9.7"
  }
 },
 "nbformat": 4,
 "nbformat_minor": 5
}
