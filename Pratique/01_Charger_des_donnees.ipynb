{
 "cells": [
  {
   "cell_type": "markdown",
   "id": "b895c9b2",
   "metadata": {},
   "source": [
    "# 1. Chargement et sauvegarde des données"
   ]
  },
  {
   "cell_type": "markdown",
   "id": "c8642895",
   "metadata": {},
   "source": [
    "## Importation de base\n",
    "```python\n",
    "import pandas as pd\n",
    "import numpy as np\n",
    "import seaborn as sns\n",
    "import matplotlib.pyplot as plt\n",
    "```\n",
    "\n",
    "## Lecture des données\n",
    "```python\n",
    "df = pd.read_csv('items.csv')\n",
    "df = pd.read_csv('items.csv', sep='\\t') # Fichier séparé par des tabulations\n",
    "df = pd.read_excel('items.xlsx')\n",
    "df = pd.read_excel('items.xlsx', dtype=str) # Convertit toutes les colonnes en texte\n",
    "```\n",
    "\n",
    "## Ecriture des données\n",
    "```python\n",
    "df.to_csv('processed_items.csv', index=False)\n",
    "df.to_csv('processed_items.csv', index=False, sep='\\t')\n",
    "df.to_excel('processed_items.xlsx')\n",
    "```\n",
    "\n",
    "## Explorer les données\n",
    "```python\n",
    "len(df) # Nombre de lignes\n",
    "df.shape # Taille du dataframe\n",
    "df.info() # Information sur chaque colonne\n",
    "df.columns # Affiche les colonnes\n",
    "\n",
    "# Affiche le nombre d'observations pour chaque valeur de la colonne\n",
    "df['column_name'].value_counts() \n",
    "```\n",
    "\n",
    "## Afficher les données\n",
    "```python\n",
    "df.head() # affiche les premières lignes, 5 par défaut\n",
    "df.tail() # affiche les premières lignes, 5 par défaut\n",
    "pd.set_option(\"display.max_columns\", None) # Affiche toutes les colonnes\n",
    "```\n",
    "\n",
    "## Visualisations\n",
    "```python\n",
    "# Affiche un diagramme en colonnes avec le nombre d'observations de chaque donnée, version horizontale\n",
    "sns.countplot(y=df['Permanent Location'])\n",
    "\n",
    "# Affiche un diagramme en colonnes avec le nombre d'observations de chaque donnée, version verticale\n",
    "sns.countplot(x=df['Permanent Location'])\n",
    "\n",
    "# Définit la taille du graphique\n",
    "plt.figure(figsize=(10, 6))\n",
    "\n",
    "# pivote de 45° les étiquettes de l'axe des x et aligne vers la droite\n",
    "plt.xticks(rotation=45, ha='right')\n",
    "\n",
    "# Enregistre une image, définit la résolution, assure que l'image n'est pas coupée\n",
    "fig.savefig('Resultat/permanent_locations.png', dpi=200, bbox_inches='tight')` \n",
    "```"
   ]
  },
  {
   "cell_type": "code",
   "execution_count": null,
   "id": "6f9c1dab",
   "metadata": {},
   "outputs": [],
   "source": [
    "# Bibliothèques utilisées\n",
    "import pandas as pd\n",
    "import numpy as np\n",
    "import seaborn as sns\n",
    "import matplotlib.pyplot as plt"
   ]
  },
  {
   "cell_type": "markdown",
   "id": "64bb9df1",
   "metadata": {},
   "source": [
    "## CSV"
   ]
  },
  {
   "cell_type": "code",
   "execution_count": null,
   "id": "0a50f36d",
   "metadata": {
    "scrolled": false
   },
   "outputs": [],
   "source": [
    "# Chargement des données\n",
    "df = pd.read_csv('Data/items.csv')\n",
    "\n",
    "# Affichage des 10 première lignes\n",
    "df.head(10)"
   ]
  },
  {
   "cell_type": "code",
   "execution_count": null,
   "id": "5a9db4f6",
   "metadata": {},
   "outputs": [],
   "source": [
    "# Afficher les colonnes\n",
    "df.columns"
   ]
  },
  {
   "cell_type": "code",
   "execution_count": null,
   "id": "1129f80f",
   "metadata": {},
   "outputs": [],
   "source": [
    "# Option pour afficher toutes les colonnes\n",
    "pd.set_option(\"display.max_columns\", None)\n",
    "df.head(3)"
   ]
  },
  {
   "cell_type": "code",
   "execution_count": null,
   "id": "0b950c3f",
   "metadata": {},
   "outputs": [],
   "source": [
    "# Nombre de lignes\n",
    "len(df)"
   ]
  },
  {
   "cell_type": "code",
   "execution_count": null,
   "id": "c17d8994",
   "metadata": {},
   "outputs": [],
   "source": [
    "# Forme du DataFrame\n",
    "df.shape"
   ]
  },
  {
   "cell_type": "code",
   "execution_count": null,
   "id": "2bfc2841",
   "metadata": {},
   "outputs": [],
   "source": [
    "# Informations générales\n",
    "df.info()"
   ]
  },
  {
   "cell_type": "code",
   "execution_count": null,
   "id": "df076a9b",
   "metadata": {},
   "outputs": [],
   "source": [
    "df = pd.read_csv('Data/items.csv', dtype=str)\n",
    "df.info()"
   ]
  },
  {
   "cell_type": "code",
   "execution_count": null,
   "id": "7cc1d1ee",
   "metadata": {},
   "outputs": [],
   "source": [
    "df.head(3)"
   ]
  },
  {
   "cell_type": "code",
   "execution_count": null,
   "id": "6287af97",
   "metadata": {},
   "outputs": [],
   "source": [
    "# Afficher les colonnes\n",
    "df.columns"
   ]
  },
  {
   "cell_type": "code",
   "execution_count": null,
   "id": "ce105606",
   "metadata": {},
   "outputs": [],
   "source": [
    "# Afficher une seule colonne\n",
    "df['Permanent Location']"
   ]
  },
  {
   "cell_type": "code",
   "execution_count": null,
   "id": "5650e4c8",
   "metadata": {},
   "outputs": [],
   "source": [
    "# Afficher les décomptes pour une colonnes\n",
    "df['Permanent Location'].value_counts()"
   ]
  },
  {
   "cell_type": "code",
   "execution_count": null,
   "id": "85bd6666",
   "metadata": {},
   "outputs": [],
   "source": [
    "# Barres horizontales\n",
    "sns.countplot(y=df['Permanent Location'])"
   ]
  },
  {
   "cell_type": "code",
   "execution_count": null,
   "id": "4a7af404",
   "metadata": {},
   "outputs": [],
   "source": [
    "# Barres verticales\n",
    "sns.countplot(x=df['Permanent Location'])"
   ]
  },
  {
   "cell_type": "code",
   "execution_count": null,
   "id": "ac3d3dad",
   "metadata": {},
   "outputs": [],
   "source": [
    "# Définit une figure ainsi que sa taille\n",
    "fig = plt.figure(figsize=(10, 6))\n",
    "ax = sns.countplot(x=df['Permanent Location'])\n",
    "\n",
    "# Modifie l'orientation des étiquettes et ajuste l'alignement\n",
    "plt.xticks(rotation=45, ha='right')\n",
    "\n",
    "_ = plt.title('Nb items by location', pad=20, fontsize=16)"
   ]
  },
  {
   "cell_type": "code",
   "execution_count": null,
   "id": "8122b26e",
   "metadata": {},
   "outputs": [],
   "source": [
    "# Enregistrement de l'image\n",
    "fig.savefig('Resultat/permanent_locations_bad.png', dpi=200)"
   ]
  },
  {
   "cell_type": "markdown",
   "id": "403932b2",
   "metadata": {},
   "source": [
    "L'image est tronquée, cela se produit parfois quand on modifie des éléments qui les font sortir de la zone de l'image.\n",
    "![Mauvaise image](Resultat/permanent_locations_bad.png \"Nb items by location\")"
   ]
  },
  {
   "cell_type": "code",
   "execution_count": null,
   "id": "044aa7e9",
   "metadata": {},
   "outputs": [],
   "source": [
    "# Enregistrement de l'image\n",
    "fig.savefig('Resultat/permanent_locations.png', dpi=200, bbox_inches='tight')"
   ]
  },
  {
   "cell_type": "code",
   "execution_count": null,
   "id": "5b0db2b5",
   "metadata": {},
   "outputs": [],
   "source": [
    "df.to_csv('Resultat/items_sample.csv', index=False)"
   ]
  },
  {
   "cell_type": "markdown",
   "id": "21d34563",
   "metadata": {},
   "source": [
    "### Inclure ou non l'index dans l'export\n",
    "Il est souvent utile de ne pas inclure l'index quand on exporte les données vers CSV ou Excel. En effet, cela transforme l'index en première colonne et cela n'est pas toujours pertinent."
   ]
  },
  {
   "cell_type": "code",
   "execution_count": null,
   "id": "96d46f8e",
   "metadata": {},
   "outputs": [],
   "source": []
  }
 ],
 "metadata": {
  "kernelspec": {
   "display_name": "Python 3 (ipykernel)",
   "language": "python",
   "name": "python3"
  },
  "language_info": {
   "codemirror_mode": {
    "name": "ipython",
    "version": 3
   },
   "file_extension": ".py",
   "mimetype": "text/x-python",
   "name": "python",
   "nbconvert_exporter": "python",
   "pygments_lexer": "ipython3",
   "version": "3.9.7"
  }
 },
 "nbformat": 4,
 "nbformat_minor": 5
}
