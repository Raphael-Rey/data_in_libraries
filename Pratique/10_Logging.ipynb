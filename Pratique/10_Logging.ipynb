{
 "cells": [
  {
   "cell_type": "markdown",
   "id": "a70e7ddc",
   "metadata": {},
   "source": [
    "# 10. Ecrire des logs\n",
    "## Pourquoi écrire des logs\n",
    "Dès qu'une opération comporte un certain niveau de complexité ou un niveau d'incertitude, il devient indispensable d'écrire des logs. En effet, si quelque chose se passe mal, il est capital de pouvoir:\n",
    "* Reprendre le processus là où il s'est interrompu\n",
    "* Avoir des informations suffisantes sur l'erreur qui s'est produites si une erreur arrive.\n",
    "\n",
    "## Problèmes courants\n",
    "Un cas typique est une api qui ne répond plus pendant quelques instants. Cela peut faire planter un script. \n",
    "\n",
    "Parfois un record est atypique et fait planter le script. Il faut donc analyser ce cas, modifier le script pour prendre en compte ce cas particulier puis relancer le script.\n",
    "\n",
    "## Masquer les erreurs: une mauvaise pratique\n",
    "Un code qui plante n'est pas forcéement mauvais. On peut être tenté de cacher les cas particulier à coup de `try` et `except` mais sans réel traitement, cela ne viendrait qu'à cacher la poussières sous le tapis.\n",
    "\n",
    "## Comment rédiger des logs\n",
    "Dans Juyter, la solution la plus simple d'écrire des logs est de recourir simplement à `print`.\n",
    "\n",
    "Seulement, Jupyter est très adapté pour de petits traitements. Dès que l'interactivité du Jupyter n'est plus un atout, mais une contrainte, il vaut mieux utiliser d'autres outils comme la bibliothèque logging."
   ]
  },
  {
   "cell_type": "markdown",
   "id": "ac3e54cf",
   "metadata": {},
   "source": [
    "## Logging\n",
    "\n",
    "### Paramétrer les logs\n",
    "```python\n",
    "import logging\n",
    "message_format = \"%(asctime)s - %(levelname)s - %(message)s\"\n",
    "log_file_name = f'Resultat/log.txt'\n",
    "logging.basicConfig(filename=log_file_name, format=message_format, level=logging.INFO)\n",
    "```\n",
    "\n",
    "### Afficher des alertes\n",
    "Les logs sont organisés en différents niveaux.\n",
    "```python\n",
    "# Information\n",
    "logging.info(f'msg')\n",
    "\n",
    "# Avertissement\n",
    "logging.warning(f'msg')\n",
    "\n",
    "# Erreur\n",
    "logging.error(f'msg')\n",
    "\n",
    "# Erreur critique\n",
    "logging.critical(f'msg')\n",
    "\n",
    "```"
   ]
  },
  {
   "cell_type": "markdown",
   "id": "3aaf61ed",
   "metadata": {},
   "source": [
    "## Exemple avec \"print\"\n",
    "Dans cet exemple, l'api SRU de swisscovery sera utilisée https://slsp.ch/en/metadata."
   ]
  },
  {
   "cell_type": "code",
   "execution_count": 42,
   "id": "89a77adb",
   "metadata": {},
   "outputs": [],
   "source": [
    "import requests\n",
    "import json\n",
    "from lxml import etree\n",
    "import logging"
   ]
  },
  {
   "cell_type": "code",
   "execution_count": 43,
   "id": "d2212004",
   "metadata": {},
   "outputs": [],
   "source": [
    "BASE_URL = 'https://swisscovery.slsp.ch/view/sru/41SLSP_NETWORK'\n",
    "\n",
    "# Paramètres fixes de la requête\n",
    "params = {'version': '1.2',\n",
    "          'operation': 'searchRetrieve'}"
   ]
  },
  {
   "cell_type": "code",
   "execution_count": 44,
   "id": "199ed157",
   "metadata": {},
   "outputs": [
    {
     "ename": "AttributeError",
     "evalue": "'NoneType' object has no attribute 'text'",
     "output_type": "error",
     "traceback": [
      "\u001b[0;31m---------------------------------------------------------------------------\u001b[0m",
      "\u001b[0;31mAttributeError\u001b[0m                            Traceback (most recent call last)",
      "\u001b[0;32m/tmp/ipykernel_110/1330893314.py\u001b[0m in \u001b[0;36m<module>\u001b[0;34m\u001b[0m\n\u001b[1;32m     14\u001b[0m \u001b[0;34m\u001b[0m\u001b[0m\n\u001b[1;32m     15\u001b[0m     \u001b[0;31m# Récupération du mms_id. A noter le nom de domaine indispensable pour parser du xml\u001b[0m\u001b[0;34m\u001b[0m\u001b[0;34m\u001b[0m\u001b[0m\n\u001b[0;32m---> 16\u001b[0;31m     \u001b[0mmms_ids\u001b[0m\u001b[0;34m.\u001b[0m\u001b[0mappend\u001b[0m\u001b[0;34m(\u001b[0m\u001b[0mxml\u001b[0m\u001b[0;34m.\u001b[0m\u001b[0mfind\u001b[0m\u001b[0;34m(\u001b[0m\u001b[0;34m'.//{http://www.loc.gov/MARC21/slim}controlfield[@tag=\"001\"]'\u001b[0m\u001b[0;34m)\u001b[0m\u001b[0;34m.\u001b[0m\u001b[0mtext\u001b[0m\u001b[0;34m)\u001b[0m\u001b[0;34m\u001b[0m\u001b[0;34m\u001b[0m\u001b[0m\n\u001b[0m",
      "\u001b[0;31mAttributeError\u001b[0m: 'NoneType' object has no attribute 'text'"
     ]
    }
   ],
   "source": [
    "# Ce script récuère le mms_id via l'api SRU de swisscovery\n",
    "isbns = ['9780134546933', '9781484239124', '97814842391244', '1803242353']\n",
    "mms_ids = []\n",
    "for isbn in isbns:\n",
    "    \n",
    "    # Ajout du paramètre avec le requête elle-même\n",
    "    params['query'] = f'alma.isbn={isbn} and alma.mms_tagSuppressed=false'\n",
    "    \n",
    "    # Interrogation de l'api\n",
    "    r = requests.get(BASE_URL, params=params)\n",
    "    \n",
    "    # Parsing du xml\n",
    "    xml = etree.XML(r.content)\n",
    "    \n",
    "    # Récupération du mms_id. A noter le nom de domaine indispensable pour parser du xml\n",
    "    mms_ids.append(xml.find('.//{http://www.loc.gov/MARC21/slim}controlfield[@tag=\"001\"]').text)"
   ]
  },
  {
   "cell_type": "markdown",
   "id": "2520777b",
   "metadata": {},
   "source": [
    "Dans ce script, il n'y a pas d'information sur quel ISBN a posé problème. On ne sait pas si le script plante dans tous les cas ou si c'est seulement un des isbns qui pose problème."
   ]
  },
  {
   "cell_type": "code",
   "execution_count": 45,
   "id": "c905e50d",
   "metadata": {},
   "outputs": [
    {
     "name": "stdout",
     "output_type": "stream",
     "text": [
      "Traitement de l'ISBN: 9780134546933\n",
      "Traitement de l'ISBN: 9781484239124\n",
      "Traitement de l'ISBN: 97814842391244\n"
     ]
    },
    {
     "ename": "AttributeError",
     "evalue": "'NoneType' object has no attribute 'text'",
     "output_type": "error",
     "traceback": [
      "\u001b[0;31m---------------------------------------------------------------------------\u001b[0m",
      "\u001b[0;31mAttributeError\u001b[0m                            Traceback (most recent call last)",
      "\u001b[0;32m/tmp/ipykernel_110/716421451.py\u001b[0m in \u001b[0;36m<module>\u001b[0;34m\u001b[0m\n\u001b[1;32m     17\u001b[0m \u001b[0;34m\u001b[0m\u001b[0m\n\u001b[1;32m     18\u001b[0m     \u001b[0;31m# Récupération du mms_id. A noter le nom de domaine indispensable pour parser du xml\u001b[0m\u001b[0;34m\u001b[0m\u001b[0;34m\u001b[0m\u001b[0m\n\u001b[0;32m---> 19\u001b[0;31m     \u001b[0mmms_ids\u001b[0m\u001b[0;34m.\u001b[0m\u001b[0mappend\u001b[0m\u001b[0;34m(\u001b[0m\u001b[0mxml\u001b[0m\u001b[0;34m.\u001b[0m\u001b[0mfind\u001b[0m\u001b[0;34m(\u001b[0m\u001b[0;34m'.//{http://www.loc.gov/MARC21/slim}controlfield[@tag=\"001\"]'\u001b[0m\u001b[0;34m)\u001b[0m\u001b[0;34m.\u001b[0m\u001b[0mtext\u001b[0m\u001b[0;34m)\u001b[0m\u001b[0;34m\u001b[0m\u001b[0;34m\u001b[0m\u001b[0m\n\u001b[0m",
      "\u001b[0;31mAttributeError\u001b[0m: 'NoneType' object has no attribute 'text'"
     ]
    }
   ],
   "source": [
    "# Ce script récuère le mms_id via l'api SRU de swisscovery\n",
    "isbns = ['9780134546933', '9781484239124', '97814842391244', '1803242353']\n",
    "mms_ids = []\n",
    "for isbn in isbns:\n",
    "    \n",
    "    # Affichage des logs\n",
    "    print(f\"Traitement de l'ISBN: {isbn}\")\n",
    "    \n",
    "    # Ajout du paramètre avec le requête elle-même\n",
    "    params['query'] = f'alma.isbn={isbn} and alma.mms_tagSuppressed=false'\n",
    "    \n",
    "    # Interrogation de l'api\n",
    "    r = requests.get(BASE_URL, params=params)\n",
    "    \n",
    "    # Parsing du xml\n",
    "    xml = etree.XML(r.content)\n",
    "    \n",
    "    # Récupération du mms_id. A noter le nom de domaine indispensable pour parser du xml\n",
    "    mms_ids.append(xml.find('.//{http://www.loc.gov/MARC21/slim}controlfield[@tag=\"001\"]').text)"
   ]
  },
  {
   "cell_type": "markdown",
   "id": "fa1b0d28",
   "metadata": {},
   "source": [
    "On voit immédiatement que c'est l'isbn \"97814842391244\" qui a posé problème. En fait cet ISBN est faut et la requête ne retourne donc pas de résultat. Selon l'objectif du traitement, il faut donc ensuite décider ce que l'on fait des ISBN faux ou des cas où il n'y aurait pas de résultat dans swisscovery. Les logs permettent de détecter rapidement la source du problème."
   ]
  },
  {
   "cell_type": "markdown",
   "id": "7301a503",
   "metadata": {},
   "source": [
    "## Exemple avec \"logging\"\n",
    "Logging est une bibliothèque permettant de rédiger relativement des logs. La bibliothèque permet d'enregistrer les logs dans un fichier. C'est donc particulièrement adapté si on lance un script en ligne de commande et qu'on ne va pas surveiller l'affichage dans la console. Cela présente plusieurs avantages:\n",
    "* Les logs sont enregistrés sur le disque et ne reposent pas sur un affichage\n",
    "* Sur de grandes quantités de données, les logs peuvent être analysés via des scripts, c'est parfois utile pour compter les erreurs par exemples\n",
    "\n",
    "Documentation: https://docs.python.org/3/library/logging.html"
   ]
  },
  {
   "cell_type": "code",
   "execution_count": 46,
   "id": "065363b2",
   "metadata": {},
   "outputs": [],
   "source": [
    "# Le format est important, dans l'exemple, chaque ligne comportera la date et l'heur, le niveau et le message\n",
    "message_format = \"%(asctime)s - %(levelname)s - %(message)s\"\n",
    "\n",
    "# Fichier destination des logs\n",
    "log_file_name = f'Resultat/log.txt'\n",
    "\n",
    "# Configuration des logs\n",
    "logging.basicConfig(filename=log_file_name, format=message_format, level=logging.INFO)\n",
    "\n"
   ]
  },
  {
   "cell_type": "code",
   "execution_count": 47,
   "id": "2049352d",
   "metadata": {},
   "outputs": [],
   "source": [
    "# Réinitialisation du fichier de log\n",
    "f = open('Resultat/log.txt' ,'w')\n",
    "f.close()\n",
    "\n",
    "# Ce script récuère le mms_id via l'api SRU de swisscovery\n",
    "isbns = ['9780134546933', '9781484239124', '97814842391244', '1803242353']\n",
    "mms_ids = []\n",
    "for isbn in isbns:\n",
    "    \n",
    "    # Affichage des logs\n",
    "    logging.info(f\"Traitement de l'ISBN: {isbn}\")\n",
    "    \n",
    "    # Ajout du paramètre avec le requête elle-même\n",
    "    params['query'] = f'alma.isbn={isbn} and alma.mms_tagSuppressed=false'\n",
    "    \n",
    "    # Interrogation de l'api\n",
    "    r = requests.get(BASE_URL, params=params)\n",
    "    \n",
    "    # Parsing du xml\n",
    "    xml = etree.XML(r.content)\n",
    "    \n",
    "    # Récupération du mms_id. A noter le nom de domaine indispensable pour parser du xml\n",
    "    controlfield001 = xml.find('.//{http://www.loc.gov/MARC21/slim}controlfield[@tag=\"001\"]')\n",
    "    if controlfield001 is None:\n",
    "        # Ecriture d'un avertissment dans les logs\n",
    "        logging.warning(f'ISBN: {isbn} -> not notice found.')\n",
    "        \n",
    "        # Passage au record suivant\n",
    "        continue\n",
    "    mms_id = xml.find('.//{http://www.loc.gov/MARC21/slim}controlfield[@tag=\"001\"]').text     \n",
    "    mms_ids.append(mms_id)\n",
    "    \n",
    "    # Ecriture d'une info pour confirmer la récupération du MMS ID\n",
    "    logging.info(f\"ISBN: {isbn} -> MMS ID trouvé: {mms_id}\")"
   ]
  },
  {
   "cell_type": "code",
   "execution_count": 48,
   "id": "d7acba70",
   "metadata": {},
   "outputs": [
    {
     "name": "stdout",
     "output_type": "stream",
     "text": [
      "2022-04-16 19:11:21,160 - INFO - Traitement de l'ISBN: 9780134546933\n",
      "2022-04-16 19:11:21,415 - INFO - ISBN: 9780134546933 -> MMS ID trouvé: 991128258669705501\n",
      "2022-04-16 19:11:21,416 - INFO - Traitement de l'ISBN: 9781484239124\n",
      "2022-04-16 19:11:21,708 - INFO - ISBN: 9781484239124 -> MMS ID trouvé: 991170322429705501\n",
      "2022-04-16 19:11:21,708 - INFO - Traitement de l'ISBN: 97814842391244\n",
      "2022-04-16 19:11:21,877 - WARNING - ISBN: 97814842391244 -> not notice found.\n",
      "2022-04-16 19:11:21,878 - INFO - Traitement de l'ISBN: 1803242353\n",
      "2022-04-16 19:11:22,273 - INFO - ISBN: 1803242353 -> MMS ID trouvé: 991170851082005501\n",
      "\n"
     ]
    }
   ],
   "source": [
    "# Affichage des logs\n",
    "with open('Resultat/log.txt') as f:\n",
    "    txt = f.read()\n",
    "\n",
    "print(txt)"
   ]
  },
  {
   "cell_type": "code",
   "execution_count": null,
   "id": "0d955f45",
   "metadata": {},
   "outputs": [],
   "source": []
  }
 ],
 "metadata": {
  "kernelspec": {
   "display_name": "Python 3 (ipykernel)",
   "language": "python",
   "name": "python3"
  },
  "language_info": {
   "codemirror_mode": {
    "name": "ipython",
    "version": 3
   },
   "file_extension": ".py",
   "mimetype": "text/x-python",
   "name": "python",
   "nbconvert_exporter": "python",
   "pygments_lexer": "ipython3",
   "version": "3.9.7"
  }
 },
 "nbformat": 4,
 "nbformat_minor": 5
}
